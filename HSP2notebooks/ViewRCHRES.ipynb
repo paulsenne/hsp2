{
 "cells": [
  {
   "cell_type": "markdown",
   "metadata": {
    "deletable": true,
    "editable": true
   },
   "source": [
    "<img src=\"Images/HSP2.png\" />\n",
    "This Jupyter Notebook Copyright 2017 by RESPEC, INC.  All rights reserved.\n",
    "\n",
    "$\\textbf{HSP}^{\\textbf{2}}\\ \\text{and}\\ \\textbf{HSP2}\\ $ Copyright 2017 by RESPEC INC. and released under this [License](LegalInformation/License.txt)"
   ]
  },
  {
   "cell_type": "markdown",
   "metadata": {
    "deletable": true,
    "editable": true
   },
   "source": [
    "# View RCHRES Data Saved in HDF5 File"
   ]
  },
  {
   "cell_type": "markdown",
   "metadata": {
    "deletable": true,
    "editable": true
   },
   "source": [
    "This notebook displays RCHRES data from the specified HDF5 file.\n",
    "\n",
    "The Notebook  demonstrates how monthly and annual summary results can be calculated via Pandas. It uses aggregation methods 'last' (for the last value at the end of each report interval) and\n",
    "'sum (which sums the timeseries within each report interval). There are many other aggregation methods available (such as max, min, and mean).  The user can create their own aggragation function as needed.\n",
    "\n",
    "This Notebook also demonstrates plotting capability in Pandas. These plots can be enhanced with titles, x & y axis labels, legends, line styles, point styles, etc. and saved in various formats (SVG, PDF, etc.).  Matplotlib (the basis for these Pandas plots) can be used to make publication quality plots. See Tutorial 5 for more information."
   ]
  },
  {
   "cell_type": "markdown",
   "metadata": {
    "deletable": true,
    "editable": true
   },
   "source": [
    "### Required Python imports and configurations"
   ]
  },
  {
   "cell_type": "code",
   "execution_count": null,
   "metadata": {
    "collapsed": false,
    "deletable": true,
    "editable": true,
    "scrolled": false
   },
   "outputs": [],
   "source": [
    "import os\n",
    "import site\n",
    "site.addsitedir(os.getcwd().rsplit('\\\\',1)[0] + '\\\\')  # adds your path to the HSP2 software.\n",
    "\n",
    "import shutil\n",
    "import numpy as np\n",
    "import pandas as pd\n",
    "pd.options.display.max_rows    = 16\n",
    "pd.options.display.max_columns = 20\n",
    "pd.options.display.float_format = '{:.2f}'.format  # display 2 digits after the decimal point\n",
    "\n",
    "from matplotlib import pyplot as plt\n",
    "\n",
    "# replace with \"%matplotlib notebook\" for interactive plots\n",
    "%matplotlib inline\n",
    "\n",
    "import HSP2tools\n",
    "HSP2tools.versions()"
   ]
  },
  {
   "cell_type": "markdown",
   "metadata": {
    "deletable": true,
    "editable": true
   },
   "source": [
    "### Set HDF5 filename and paths to the data"
   ]
  },
  {
   "cell_type": "code",
   "execution_count": null,
   "metadata": {
    "collapsed": false,
    "deletable": true,
    "editable": true
   },
   "outputs": [],
   "source": [
    "hdfname = 'TutorialData/tutorial.h5'\n",
    "segment = 'R005'          # Reaches rid  \n",
    "\n",
    "hydr = '/RESULTS/RCHRES_' + segment + '/HYDR'"
   ]
  },
  {
   "cell_type": "markdown",
   "metadata": {
    "deletable": true,
    "editable": true
   },
   "source": [
    "Names of the possible HYDR timeseries created by HSP$^2$ - user may not save all these during a simulation run."
   ]
  },
  {
   "cell_type": "code",
   "execution_count": null,
   "metadata": {
    "collapsed": true,
    "deletable": true,
    "editable": true
   },
   "outputs": [],
   "source": [
    "state_variables = ['VOL', 'DEP', 'SAREA', 'USTAR',  'TAU', 'RO', 'O1', 'O2', 'O3', 'O4', 'O5']\n",
    "fluxes          = ['IVOL', 'PRSUPY',  'VOLEV', 'ROVOL', 'OVOL1', 'OVOL2', 'OVOL3', 'OVOL4', 'OVOL15']"
   ]
  },
  {
   "cell_type": "markdown",
   "metadata": {
    "deletable": true,
    "editable": true
   },
   "source": [
    "Read what data is actually in the HDF5 file. Update the lists of column names to reflect only the available data."
   ]
  },
  {
   "cell_type": "code",
   "execution_count": null,
   "metadata": {
    "collapsed": false,
    "deletable": true,
    "editable": true
   },
   "outputs": [],
   "source": [
    "columns = pd.read_hdf(hdfname, hydr).columns\n",
    "\n",
    "state_variables = [v for v in state_variables if v in columns]\n",
    "fluxes          = [v for v in fluxes          if v in columns]"
   ]
  },
  {
   "cell_type": "markdown",
   "metadata": {
    "deletable": true,
    "editable": true
   },
   "source": [
    "### Read HYDR  State Variables from the HDF5 file\n",
    "##### Computed Results, Generally Hourly"
   ]
  },
  {
   "cell_type": "code",
   "execution_count": null,
   "metadata": {
    "collapsed": false,
    "deletable": true,
    "editable": true,
    "scrolled": true
   },
   "outputs": [],
   "source": [
    "sv = pd.read_hdf(hdfname, hydr)[state_variables]\n",
    "sv.index.names = [segment]\n",
    "sv"
   ]
  },
  {
   "cell_type": "markdown",
   "metadata": {
    "deletable": true,
    "editable": true
   },
   "source": [
    "##### Monthly Report\n",
    "These values are rounded to 3 decimal places for convenience."
   ]
  },
  {
   "cell_type": "code",
   "execution_count": null,
   "metadata": {
    "collapsed": false,
    "deletable": true,
    "editable": true
   },
   "outputs": [],
   "source": [
    "pd.options.display.float_format = '{:.3f}'.format \n",
    "sv.resample('M').last()"
   ]
  },
  {
   "cell_type": "markdown",
   "metadata": {
    "deletable": true,
    "editable": true
   },
   "source": [
    "### Calculated results - not stored in HDF5 since it is simple to post process these results"
   ]
  },
  {
   "cell_type": "markdown",
   "metadata": {
    "deletable": true,
    "editable": true
   },
   "source": [
    "##### Conversion factors (from internal ft$^3$ to acre-ft)"
   ]
  },
  {
   "cell_type": "code",
   "execution_count": null,
   "metadata": {
    "collapsed": false,
    "deletable": true,
    "editable": true
   },
   "outputs": [],
   "source": [
    "VFACT = 43560.0   #$162\n",
    "AFACT = 43560.0   #$164"
   ]
  },
  {
   "cell_type": "markdown",
   "metadata": {
    "deletable": true,
    "editable": true
   },
   "source": [
    "#### LEN (Length) of Reach (Necessary for the calculations)"
   ]
  },
  {
   "cell_type": "code",
   "execution_count": null,
   "metadata": {
    "collapsed": false,
    "deletable": true,
    "editable": true
   },
   "outputs": [],
   "source": [
    "# First - need length of this reach - get it from HDF5 file\n",
    "with pd.get_store(hdfname, mode='r') as store:\n",
    "    x = store['RCHRES/HYDR/PARAMETERS']\n",
    "    LEN = x.loc[segment, 'LEN'] \n",
    "LEN = LEN * 5280.0"
   ]
  },
  {
   "cell_type": "markdown",
   "metadata": {
    "deletable": true,
    "editable": true
   },
   "source": [
    "##### Calculate Additional State Variables from simulation data saved in the HDF5 file\n",
    "Note: The calculations are undefined when the flow or volumn is zero, so the  fillna() function replaces NaNs with zeros, where needed.\n",
    "\n",
    "These calculations need the data associated with SAREA, VOL, and RO, so the calculations are conditional."
   ]
  },
  {
   "cell_type": "code",
   "execution_count": null,
   "metadata": {
    "collapsed": false,
    "deletable": true,
    "editable": true
   },
   "outputs": [],
   "source": [
    "if 'SAREA' in sv and 'VOL' in sv and 'RO' in sv:\n",
    "    sv['TWID']   = AFACT * sv['SAREA']/LEN\n",
    "    sv['AVDEP']  = (sv['VOL']  / sv['SAREA']).fillna(0.0)\n",
    "    sv['HRAD']   = (sv['AVDEP'] * sv['TWID']) / (2.0 * sv['AVDEP'] + sv['TWID']).fillna(0.0)\n",
    "    sv['AVVEL']  = ((LEN * sv['RO'] / sv['VOL']) / AFACT).fillna(0.0)\n",
    "    sv['AVSECT'] = AFACT * sv['VOL'] / LEN"
   ]
  },
  {
   "cell_type": "markdown",
   "metadata": {
    "deletable": true,
    "editable": true
   },
   "source": [
    "Update the state_variables list to reflect the actual available data. The data is also rounded to 2 decimal places for convenience."
   ]
  },
  {
   "cell_type": "code",
   "execution_count": null,
   "metadata": {
    "collapsed": false,
    "deletable": true,
    "editable": true,
    "scrolled": true
   },
   "outputs": [],
   "source": [
    "pd.options.display.float_format = '{:.2f}'.format  # display 2 digits after the decimal point\n",
    "\n",
    "state_variables = ['VOL', 'DEP', 'AVDEP', 'TWID', 'HRAD', 'SAREA', 'AVVEL', 'AVSECT', 'USTAR', 'TAU', 'RO']\n",
    "state_variables = [v for v in state_variables if v in sv]\n",
    "\n",
    "sv[state_variables].resample('M').last()"
   ]
  },
  {
   "cell_type": "markdown",
   "metadata": {
    "deletable": true,
    "editable": true
   },
   "source": [
    "Plot this data"
   ]
  },
  {
   "cell_type": "code",
   "execution_count": null,
   "metadata": {
    "collapsed": false,
    "deletable": true,
    "editable": true
   },
   "outputs": [],
   "source": [
    "_ = sv.plot(subplots=True, figsize=[20,48])"
   ]
  },
  {
   "cell_type": "markdown",
   "metadata": {
    "deletable": true,
    "editable": true
   },
   "source": [
    "### Read HYDR Flux Data from the HDF5 file\n",
    "\n",
    "##### Raw Hourly Data"
   ]
  },
  {
   "cell_type": "code",
   "execution_count": null,
   "metadata": {
    "collapsed": false,
    "deletable": true,
    "editable": true
   },
   "outputs": [],
   "source": [
    "flx = pd.read_hdf(hdfname, hydr)[fluxes]\n",
    "flx.index.names = [segment]\n",
    "flx"
   ]
  },
  {
   "cell_type": "markdown",
   "metadata": {
    "deletable": true,
    "editable": true
   },
   "source": [
    "Plot this data."
   ]
  },
  {
   "cell_type": "code",
   "execution_count": null,
   "metadata": {
    "collapsed": false,
    "deletable": true,
    "editable": true,
    "scrolled": false
   },
   "outputs": [],
   "source": [
    "_ = flx.plot(figsize=[20,40], subplots=True)"
   ]
  },
  {
   "cell_type": "markdown",
   "metadata": {
    "deletable": true,
    "editable": true
   },
   "source": [
    "##### Monthly Report\n",
    "This data is rounded to s decimal places for convenience."
   ]
  },
  {
   "cell_type": "code",
   "execution_count": null,
   "metadata": {
    "collapsed": false,
    "deletable": true,
    "editable": true
   },
   "outputs": [],
   "source": [
    "pd.options.display.float_format = '{:.3f}'.format\n",
    "\n",
    "flx.resample('M').sum()"
   ]
  },
  {
   "cell_type": "markdown",
   "metadata": {
    "deletable": true,
    "editable": true
   },
   "source": [
    "##### Annual Report\n",
    "\n",
    "Annual reports follow calendar year by default, however you can easily select any month to start. These values are rounded to 2 decimal places for convenience."
   ]
  },
  {
   "cell_type": "code",
   "execution_count": null,
   "metadata": {
    "collapsed": false,
    "deletable": true,
    "editable": true
   },
   "outputs": [],
   "source": [
    "flx.resample('A').sum()  # Annual report, January start month"
   ]
  },
  {
   "cell_type": "code",
   "execution_count": null,
   "metadata": {
    "collapsed": true,
    "deletable": true,
    "editable": true
   },
   "outputs": [],
   "source": []
  },
  {
   "cell_type": "code",
   "execution_count": null,
   "metadata": {
    "collapsed": true,
    "deletable": true,
    "editable": true
   },
   "outputs": [],
   "source": []
  }
 ],
 "metadata": {
  "kernelspec": {
   "display_name": "Python 2",
   "language": "python",
   "name": "python2"
  },
  "language_info": {
   "codemirror_mode": {
    "name": "ipython",
    "version": 2
   },
   "file_extension": ".py",
   "mimetype": "text/x-python",
   "name": "python",
   "nbconvert_exporter": "python",
   "pygments_lexer": "ipython2",
   "version": "2.7.13"
  }
 },
 "nbformat": 4,
 "nbformat_minor": 0
}
