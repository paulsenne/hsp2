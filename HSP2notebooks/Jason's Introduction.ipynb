{
 "cells": [
  {
   "cell_type": "markdown",
   "metadata": {},
   "source": [
    "<img src=\"Images/HSP2.png\" />\n",
    "This Jupyter Notebook Copyright 2017 by RESPEC, INC.  All rights reserved.\n",
    "\n",
    "$\\textbf{HSP}^{\\textbf{2}}\\ \\text{and}\\ \\textbf{HSP2}\\ $ Copyright 2017 by RESPEC INC. and released under this [License](LegalInformation/License.txt)"
   ]
  },
  {
   "cell_type": "markdown",
   "metadata": {},
   "source": [
    "## Youtube Video Developed for HSP2 and this Tutorial"
   ]
  },
  {
   "cell_type": "code",
   "execution_count": 5,
   "metadata": {},
   "outputs": [
    {
     "data": {
      "text/html": [
       "<iframe width=\"896\" height=\"504\" src=\"https://www.youtube.com/embed/aeLScKsP1Wk?rel=0&amp;controls=0&amp;showinfo=0\" frameborder=\"0\" allowfullscreen></iframe>"
      ],
      "text/plain": [
       "<IPython.core.display.HTML object>"
      ]
     },
     "execution_count": 5,
     "metadata": {},
     "output_type": "execute_result"
    }
   ],
   "source": [
    "from IPython.display import HTML\n",
    "HTML('<iframe width=\"896\" height=\"504\" src=\"https://www.youtube.com/embed/aeLScKsP1Wk?rel=0&amp;controls=0&amp;showinfo=0\" frameborder=\"0\" allowfullscreen></iframe>')"
   ]
  },
  {
   "cell_type": "markdown",
   "metadata": {},
   "source": [
    "## Required Python imports  and setup"
   ]
  },
  {
   "cell_type": "code",
   "execution_count": 1,
   "metadata": {},
   "outputs": [
    {
     "data": {
      "application/vnd.jupyter.widget-view+json": {
       "model_id": "16be9c22110744fe81ecc986bb316aee",
       "version_major": 2,
       "version_minor": 0
      },
      "text/html": [
       "<p>Failed to display Jupyter Widget of type <code>QgridWidget</code>.</p>\n",
       "<p>\n",
       "  If you're reading this message in the Jupyter Notebook or JupyterLab Notebook, it may mean\n",
       "  that the widgets JavaScript is still loading. If this message persists, it\n",
       "  likely means that the widgets JavaScript library is either not installed or\n",
       "  not enabled. See the <a href=\"https://ipywidgets.readthedocs.io/en/stable/user_install.html\">Jupyter\n",
       "  Widgets Documentation</a> for setup instructions.\n",
       "</p>\n",
       "<p>\n",
       "  If you're reading this message in another frontend (for example, a static\n",
       "  rendering on GitHub or <a href=\"https://nbviewer.jupyter.org/\">NBViewer</a>),\n",
       "  it may mean that your frontend doesn't currently support widgets.\n",
       "</p>\n"
      ],
      "text/plain": [
       "QgridWidget(grid_options={'enableTextSelectionOnCells': True, 'editable': True, 'explicitInitialization': True, 'minVisibleRows': 8, 'enableColumnReorder': False, 'defaultColumnWidth': 150, 'maxVisibleRows': 15, 'fullWidthRows': True, 'rowHeight': 28, 'autoEdit': False, 'syncColumnCellResize': True, 'forceFitColumns': True}, precision=5)"
      ]
     },
     "metadata": {},
     "output_type": "display_data"
    }
   ],
   "source": [
    "import os\n",
    "import site\n",
    "site.addsitedir(os.getcwd().rsplit('\\\\',1)[0] + '\\\\')  # adds your path to the HSP2 software.\n",
    "\n",
    "hdfname = 'TutorialData/tutorial.h5'\n",
    "\n",
    "import shutil\n",
    "import numpy as np\n",
    "import pandas as pd\n",
    "pd.options.display.max_rows    = 18\n",
    "pd.options.display.max_columns = 10\n",
    "pd.options.display.float_format = '{:.2f}'.format  # display 2 digits after the decimal point\n",
    "\n",
    "import HSP2\n",
    "import HSP2tools\n",
    "\n",
    "import qgrid\n",
    "# Tell qgrid to automatically render all DataFrames and Series as qgrids.\n",
    "qgrid.enable()\n",
    "# Disable automatic display so we can display DataFrames in the normal way\n",
    "# qgrid.disable()\n",
    "\n",
    "import matplotlib.pyplot as m_plt\n",
    "%matplotlib inline\n",
    "\n",
    "HSP2tools.reset_tutorial()    # make a new copy of the tutorial's data\n",
    "HSP2tools.versions()          # display version information below\n"
   ]
  },
  {
   "cell_type": "markdown",
   "metadata": {},
   "source": [
    "## Importing UCI & WDM Files into HDF5<a id='section1'></a>"
   ]
  },
  {
   "cell_type": "code",
   "execution_count": 2,
   "metadata": {
    "collapsed": true
   },
   "outputs": [],
   "source": [
    "uciname = 'TutorialData/TEST10.UCI'          \n",
    "wdmname = 'TutorialData/TEST.WDM'\n",
    "\n",
    "unpackedhdfname = 'TutorialData/unpackedtutorial.h5'\n",
    "hdfname = 'TutorialData/Tutorial.h5'"
   ]
  },
  {
   "cell_type": "code",
   "execution_count": 3,
   "metadata": {},
   "outputs": [
    {
     "name": "stdout",
     "output_type": "stream",
     "text": [
      "DONE\n"
     ]
    },
    {
     "name": "stderr",
     "output_type": "stream",
     "text": [
      "C:\\Users\\Jason.Love\\HSPsquared-master\\HSP2tools\\uciReader.py:447: FutureWarning: convert_objects is deprecated.  Use the data-type specific converters pd.to_datetime, pd.to_timedelta and pd.to_numeric.\n",
      "  df = df.convert_objects(convert_numeric=True)\n",
      "C:\\Users\\Jason.Love\\AppData\\Local\\Continuum\\anaconda2\\lib\\site-packages\\IPython\\core\\interactiveshell.py:2718: FutureWarning: get_store is deprecated and be removed in a future version\n",
      "HDFStore(path, **kwargs) is the replacement\n",
      "  interactivity=interactivity, compiler=compiler, result=result)\n"
     ]
    },
    {
     "name": "stdout",
     "output_type": "stream",
     "text": [
      "uciReader is Done\n",
      "Processing WDM file TutorialData/TEST.WDM\n",
      "/TIMESERIES/TS131 H 1976-01-01T00:00:00 1977-01-01T00:00:00 8784 NA\n",
      "/TIMESERIES/TS42 D 1976-01-01T00:00:00 1977-01-01T00:00:00 366 NA\n",
      "/TIMESERIES/TS46 H 1976-01-01T00:00:00 1977-01-01T00:00:00 4392 NA\n",
      "/TIMESERIES/TS135 D 1976-01-01T00:00:00 1977-01-01T00:00:00 366 NA\n",
      "/TIMESERIES/TS41 D 1976-01-01T00:00:00 1977-01-01T00:00:00 366 NA\n",
      "/TIMESERIES/TS122 H 1976-01-01T00:00:00 1977-01-01T00:00:00 4392 NA\n",
      "/TIMESERIES/TS125 D 1976-01-01T00:00:00 1977-01-01T00:00:00 366 NA\n",
      "/TIMESERIES/TS39 H 1976-01-01T00:00:00 1977-01-01T00:00:00 8784 NA\n",
      "/TIMESERIES/TS126 D 1976-01-01T00:00:00 1977-01-01T00:00:00 366 NA\n",
      "/TIMESERIES/TS123 H 1976-01-01T00:00:00 1977-01-01T00:00:00 4392 NA\n",
      "/TIMESERIES/TS140 D 1976-01-01T00:00:00 1977-01-01T00:00:00 366 NA\n",
      "Done with TutorialData/TEST.WDM\n",
      "Problems doing the copy from 'TutorialData/unpackedtutorial.h5:/ (RootGroup) ''' to 'TutorialData\\tutorial.h5:/ (RootGroup) '''\n",
      "The error was --> <class 'tables.exceptions.NodeError'>: destination group ``/`` already has a node named ``CONTROL``; you may want to use the ``overwrite`` argument\n",
      "The destination file looks like:\n",
      " TutorialData\\tutorial.h5 (File) ''\n",
      "Last modif.: 'Wed Nov 08 10:16:21 2017'\n",
      "Object Tree: \n",
      "/ (RootGroup) ''\n",
      "/CONTROL (Group) ''\n",
      "/FTABLES (Group) ''\n",
      "/HSP2 (Group) ''\n",
      "/IMPLND (Group) ''\n",
      "/PERLND (Group) ''\n",
      "/RCHRES (Group) ''\n",
      "/TIMESERIES (Group) ''\n",
      "/TIMESERIES/LAPSE24 (Group) ''\n",
      "/TIMESERIES/LAPSE24/index (Array(24,)) ''\n",
      "/TIMESERIES/LAPSE24/values (Array(24,)) ''\n",
      "/TIMESERIES/SEASONS12 (Group) ''\n",
      "/TIMESERIES/SEASONS12/index (Array(12,)) ''\n",
      "/TIMESERIES/SEASONS12/values (Array(12,)) ''\n",
      "/TIMESERIES/SaturatedVaporPressureTable (Group) ''\n",
      "/TIMESERIES/SaturatedVaporPressureTable/index (Array(40,)) ''\n",
      "/TIMESERIES/SaturatedVaporPressureTable/values (Array(40,)) ''\n",
      "/TIMESERIES/TS122 (Group) ''\n",
      "/TIMESERIES/TS122/index (Array(4392,)) ''\n",
      "/TIMESERIES/TS122/values (Array(4392,)) ''\n",
      "/TIMESERIES/TS123 (Group) ''\n",
      "/TIMESERIES/TS123/index (Array(4392,)) ''\n",
      "/TIMESERIES/TS123/values (Array(4392,)) ''\n",
      "/TIMESERIES/TS125 (Group) ''\n",
      "/TIMESERIES/TS125/index (Array(366,)) ''\n",
      "/TIMESERIES/TS125/values (Array(366,)) ''\n",
      "/TIMESERIES/TS126 (Group) ''\n",
      "/TIMESERIES/TS126/index (Array(366,)) ''\n",
      "/TIMESERIES/TS126/values (Array(366,)) ''\n",
      "/TIMESERIES/TS131 (Group) ''\n",
      "/TIMESERIES/TS131/index (Array(8784,)) ''\n",
      "/TIMESERIES/TS131/values (Array(8784,)) ''\n",
      "/TIMESERIES/TS135 (Group) ''\n",
      "/TIMESERIES/TS135/index (Array(366,)) ''\n",
      "/TIMESERIES/TS135/values (Array(366,)) ''\n",
      "/TIMESERIES/TS140 (Group) ''\n",
      "/TIMESERIES/TS140/index (Array(366,)) ''\n",
      "/TIMESERIES/TS140/values (Array(366,)) ''\n",
      "/TIMESERIES/TS39 (Group) ''\n",
      "/TIMESERIES/TS39/index (Array(8784,)) ''\n",
      "/TIMESERIES/TS39/values (Array(8784,)) ''\n",
      "/TIMESERIES/TS41 (Group) ''\n",
      "/TIMESERIES/TS41/index (Array(366,)) ''\n",
      "/TIMESERIES/TS41/values (Array(366,)) ''\n",
      "/TIMESERIES/TS42 (Group) ''\n",
      "/TIMESERIES/TS42/index (Array(366,)) ''\n",
      "/TIMESERIES/TS42/values (Array(366,)) ''\n",
      "/TIMESERIES/TS46 (Group) ''\n",
      "/TIMESERIES/TS46/index (Array(4392,)) ''\n",
      "/TIMESERIES/TS46/values (Array(4392,)) ''\n",
      "/RCHRES/ACTIVITY (Group) ''\n",
      "/RCHRES/ACTIVITY/table (Table(5,)) ''\n",
      "/RCHRES/GENERAL_INFO (Group) ''\n",
      "/RCHRES/GENERAL_INFO/table (Table(5,)) ''\n",
      "/RCHRES/HYDR (Group) ''\n",
      "/RCHRES/HYDR/FLAGS (Group) ''\n",
      "/RCHRES/HYDR/FLAGS/table (Table(5,)) ''\n",
      "/RCHRES/HYDR/PARAMETERS (Group) ''\n",
      "/RCHRES/HYDR/PARAMETERS/table (Table(5,)) ''\n",
      "/RCHRES/HYDR/SAVE (Group) ''\n",
      "/RCHRES/HYDR/SAVE/table (Table(5,)) ''\n",
      "/RCHRES/HYDR/STATE (Group) ''\n",
      "/RCHRES/HYDR/STATE/table (Table(5,)) ''\n",
      "/PERLND/ACTIVITY (Group) ''\n",
      "/PERLND/ACTIVITY/table (Table(1,)) ''\n",
      "/PERLND/GENERAL_INFO (Group) ''\n",
      "/PERLND/GENERAL_INFO/table (Table(1,)) ''\n",
      "/PERLND/PWATER (Group) ''\n",
      "/PERLND/SNOW (Group) ''\n",
      "/PERLND/SNOW/FLAGS (Group) ''\n",
      "/PERLND/SNOW/FLAGS/table (Table(1,)) ''\n",
      "/PERLND/SNOW/PARAMETERS (Group) ''\n",
      "/PERLND/SNOW/PARAMETERS/table (Table(1,)) ''\n",
      "/PERLND/SNOW/SAVE (Group) ''\n",
      "/PERLND/SNOW/SAVE/table (Table(1,)) ''\n",
      "/PERLND/SNOW/STATE (Group) ''\n",
      "/PERLND/SNOW/STATE/table (Table(1,)) ''\n",
      "/PERLND/PWATER/FLAGS (Group) ''\n",
      "/PERLND/PWATER/FLAGS/table (Table(1,)) ''\n",
      "/PERLND/PWATER/MONTHLY (Group) ''\n",
      "/PERLND/PWATER/PARAMETERS (Group) ''\n",
      "/PERLND/PWATER/PARAMETERS/table (Table(1,)) ''\n",
      "/PERLND/PWATER/SAVE (Group) ''\n",
      "/PERLND/PWATER/SAVE/table (Table(1,)) ''\n",
      "/PERLND/PWATER/STATE (Group) ''\n",
      "/PERLND/PWATER/STATE/table (Table(1,)) ''\n",
      "/PERLND/PWATER/MONTHLY/CEPSCM (Group) ''\n",
      "/PERLND/PWATER/MONTHLY/CEPSCM/table (Table(1,)) ''\n",
      "/PERLND/PWATER/MONTHLY/LZETPM (Group) ''\n",
      "/PERLND/PWATER/MONTHLY/LZETPM/table (Table(1,)) ''\n",
      "/PERLND/PWATER/MONTHLY/NSURM (Group) ''\n",
      "/PERLND/PWATER/MONTHLY/NSURM/table (Table(1,)) ''\n",
      "/PERLND/PWATER/MONTHLY/UZSNM (Group) ''\n",
      "/PERLND/PWATER/MONTHLY/UZSNM/table (Table(1,)) ''\n",
      "/IMPLND/ACTIVITY (Group) ''\n",
      "/IMPLND/ACTIVITY/table (Table(1,)) ''\n",
      "/IMPLND/GENERAL_INFO (Group) ''\n",
      "/IMPLND/GENERAL_INFO/table (Table(1,)) ''\n",
      "/IMPLND/IWATER (Group) ''\n",
      "/IMPLND/SNOW (Group) ''\n",
      "/IMPLND/SNOW/FLAGS (Group) ''\n",
      "/IMPLND/SNOW/FLAGS/table (Table(1,)) ''\n",
      "/IMPLND/SNOW/PARAMETERS (Group) ''\n",
      "/IMPLND/SNOW/PARAMETERS/table (Table(1,)) ''\n",
      "/IMPLND/SNOW/SAVE (Group) ''\n",
      "/IMPLND/SNOW/SAVE/table (Table(1,)) ''\n",
      "/IMPLND/SNOW/STATE (Group) ''\n",
      "/IMPLND/SNOW/STATE/table (Table(1,)) ''\n",
      "/IMPLND/IWATER/FLAGS (Group) ''\n",
      "/IMPLND/IWATER/FLAGS/table (Table(1,)) ''\n",
      "/IMPLND/IWATER/PARAMETERS (Group) ''\n",
      "/IMPLND/IWATER/PARAMETERS/table (Table(1,)) ''\n",
      "/IMPLND/IWATER/SAVE (Group) ''\n",
      "/IMPLND/IWATER/SAVE/table (Table(1,)) ''\n",
      "/HSP2/CONFIGURATION (Group) ''\n",
      "/HSP2/CONFIGURATION/table (Table(34,)) ''\n",
      "/HSP2/FLOWEXPANSION (Group) ''\n",
      "/HSP2/FLOWEXPANSION/table (Table(11,)) ''\n",
      "/HSP2/KEYS (Group) ''\n",
      "/HSP2/KEYS/index (Array(59,)) ''\n",
      "/HSP2/KEYS/values (VLArray(1,)) ''\n",
      "/HSP2/LAPSE24 (Group) ''\n",
      "/HSP2/LAPSE24/index (Array(24,)) ''\n",
      "/HSP2/LAPSE24/values (Array(24,)) ''\n",
      "/HSP2/SEASONS12 (Group) ''\n",
      "/HSP2/SEASONS12/index (Array(12,)) ''\n",
      "/HSP2/SEASONS12/values (Array(12,)) ''\n",
      "/HSP2/SaturatedVaporPressureTable (Group) ''\n",
      "/HSP2/SaturatedVaporPressureTable/index (Array(40,)) ''\n",
      "/HSP2/SaturatedVaporPressureTable/values (Array(40,)) ''\n",
      "/FTABLES/FT001 (Group) ''\n",
      "/FTABLES/FT001/table (Table(14,)) ''\n",
      "/FTABLES/FT002 (Group) ''\n",
      "/FTABLES/FT002/table (Table(13,)) ''\n",
      "/FTABLES/FT003 (Group) ''\n",
      "/FTABLES/FT003/table (Table(13,)) ''\n",
      "/FTABLES/FT004 (Group) ''\n",
      "/FTABLES/FT004/table (Table(13,)) ''\n",
      "/FTABLES/FT005 (Group) ''\n",
      "/FTABLES/FT005/table (Table(13,)) ''\n",
      "/CONTROL/EXT_SOURCES (Group) ''\n",
      "/CONTROL/EXT_SOURCES/table (Table(50,)) ''\n",
      "/CONTROL/GLOBAL (Group) ''\n",
      "/CONTROL/GLOBAL/table (Table(4,)) ''\n",
      "/CONTROL/LINKS (Group) ''\n",
      "/CONTROL/LINKS/table (Table(7,)) ''\n",
      "/CONTROL/MASS_LINK (Group) ''\n",
      "/CONTROL/MASS_LINK/table (Table(15,)) ''\n",
      "/CONTROL/OP_SEQUENCE (Group) ''\n",
      "/CONTROL/OP_SEQUENCE/table (Table(7,)) ''\n",
      "\n"
     ]
    },
    {
     "name": "stderr",
     "output_type": "stream",
     "text": [
      "Traceback (most recent call last):\n",
      "  File \"C:\\Users\\Jason.Love\\AppData\\Local\\Continuum\\anaconda2\\Scripts\\ptrepack-script.py\", line 10, in <module>\n",
      "    sys.exit(main())\n",
      "  File \"C:\\Users\\Jason.Love\\AppData\\Local\\Continuum\\anaconda2\\lib\\site-packages\\tables\\scripts\\ptrepack.py\", line 528, in main\n",
      "    use_hardlinks=True)\n",
      "  File \"C:\\Users\\Jason.Love\\AppData\\Local\\Continuum\\anaconda2\\lib\\site-packages\\tables\\scripts\\ptrepack.py\", line 245, in copy_children\n",
      "    raise RuntimeError(\"Please check that the node names are not \"\n",
      "RuntimeError: Please check that the node names are not duplicated in destination, and if so, add the --overwrite-nodes flag if desired. In particular, pay attention that root_uep is not fooling you.\n"
     ]
    }
   ],
   "source": [
    "HSP2tools.makeH5()\n",
    "HSP2tools.readUCI(uciname, unpackedhdfname)\n",
    "HSP2tools.ReadWDM(wdmname, unpackedhdfname)\n",
    "!ptrepack {unpackedhdfname}  TutorialData\\tutorial.h5"
   ]
  },
  {
   "cell_type": "markdown",
   "metadata": {},
   "source": [
    "## Run $\\textbf{HSP}^\\textbf{2}$"
   ]
  },
  {
   "cell_type": "code",
   "execution_count": 8,
   "metadata": {
    "collapsed": true
   },
   "outputs": [
    {
     "data": {
      "text/plain": [
       "\u001b[1;31mSignature:\u001b[0m \u001b[0mHSP2\u001b[0m\u001b[1;33m.\u001b[0m\u001b[0mrun\u001b[0m\u001b[1;33m(\u001b[0m\u001b[0mhdfname\u001b[0m\u001b[1;33m,\u001b[0m \u001b[0msaveall\u001b[0m\u001b[1;33m=\u001b[0m\u001b[0mFalse\u001b[0m\u001b[1;33m,\u001b[0m \u001b[0mreloadkeys\u001b[0m\u001b[1;33m=\u001b[0m\u001b[0mFalse\u001b[0m\u001b[1;33m)\u001b[0m\u001b[1;33m\u001b[0m\u001b[0m\n",
       "\u001b[1;31mSource:\u001b[0m   \n",
       "\u001b[1;32mdef\u001b[0m \u001b[0mrun\u001b[0m\u001b[1;33m(\u001b[0m\u001b[0mhdfname\u001b[0m\u001b[1;33m,\u001b[0m \u001b[0msaveall\u001b[0m\u001b[1;33m=\u001b[0m\u001b[0mFalse\u001b[0m\u001b[1;33m,\u001b[0m \u001b[0mreloadkeys\u001b[0m\u001b[1;33m=\u001b[0m \u001b[0mFalse\u001b[0m\u001b[1;33m)\u001b[0m\u001b[1;33m:\u001b[0m\u001b[1;33m\n",
       "\u001b[0m    \u001b[1;34m''' runs main HSP2 program\n",
       "     saveall    - (optional) saves all calculated data ignoring SAVE tables\n",
       "     reloadkeys - (optional) regenerates keys, used after adding new modules'''\u001b[0m\u001b[1;33m\n",
       "\u001b[0m\u001b[1;33m\n",
       "\u001b[0m    \u001b[1;32mif\u001b[0m \u001b[1;32mnot\u001b[0m \u001b[0mos\u001b[0m\u001b[1;33m.\u001b[0m\u001b[0mpath\u001b[0m\u001b[1;33m.\u001b[0m\u001b[0mexists\u001b[0m\u001b[1;33m(\u001b[0m\u001b[0mhdfname\u001b[0m\u001b[1;33m)\u001b[0m\u001b[1;33m:\u001b[0m\u001b[1;33m\n",
       "\u001b[0m        \u001b[1;32mprint\u001b[0m \u001b[1;33m(\u001b[0m\u001b[0mhdfname\u001b[0m \u001b[1;33m+\u001b[0m \u001b[1;34m' HDF5 File Not Found, QUITTING'\u001b[0m\u001b[1;33m)\u001b[0m\u001b[1;33m\n",
       "\u001b[0m        \u001b[1;32mreturn\u001b[0m\u001b[1;33m\n",
       "\u001b[0m    \u001b[0mstime\u001b[0m \u001b[1;33m=\u001b[0m \u001b[0mdt\u001b[0m\u001b[1;33m.\u001b[0m\u001b[0mnow\u001b[0m\u001b[1;33m(\u001b[0m\u001b[1;33m)\u001b[0m\u001b[1;33m\n",
       "\u001b[0m    \u001b[0mlogpath\u001b[0m \u001b[1;33m=\u001b[0m \u001b[0mos\u001b[0m\u001b[1;33m.\u001b[0m\u001b[0mpath\u001b[0m\u001b[1;33m.\u001b[0m\u001b[0mjoin\u001b[0m\u001b[1;33m(\u001b[0m\u001b[0mos\u001b[0m\u001b[1;33m.\u001b[0m\u001b[0mpath\u001b[0m\u001b[1;33m.\u001b[0m\u001b[0mdirname\u001b[0m\u001b[1;33m(\u001b[0m\u001b[0mhdfname\u001b[0m\u001b[1;33m)\u001b[0m\u001b[1;33m,\u001b[0m \u001b[1;34m'logfile.txt'\u001b[0m\u001b[1;33m)\u001b[0m\u001b[1;33m\n",
       "\u001b[0m    \u001b[1;32mwith\u001b[0m \u001b[0mpd\u001b[0m\u001b[1;33m.\u001b[0m\u001b[0mHDFStore\u001b[0m\u001b[1;33m(\u001b[0m\u001b[0mhdfname\u001b[0m\u001b[1;33m)\u001b[0m \u001b[1;32mas\u001b[0m \u001b[0mstore\u001b[0m\u001b[1;33m,\u001b[0m \u001b[0mopen\u001b[0m\u001b[1;33m(\u001b[0m\u001b[0mlogpath\u001b[0m\u001b[1;33m,\u001b[0m \u001b[1;34m'w'\u001b[0m\u001b[1;33m)\u001b[0m \u001b[1;32mas\u001b[0m \u001b[0mlogfile\u001b[0m\u001b[1;33m:\u001b[0m\u001b[1;33m\n",
       "\u001b[0m        \u001b[0mmsg\u001b[0m \u001b[1;33m=\u001b[0m \u001b[0mmessages\u001b[0m\u001b[1;33m(\u001b[0m\u001b[0mlogfile\u001b[0m\u001b[1;33m)\u001b[0m\u001b[1;33m\n",
       "\u001b[0m        \u001b[0mmsg\u001b[0m\u001b[1;33m(\u001b[0m\u001b[1;36m1\u001b[0m\u001b[1;33m,\u001b[0m \u001b[1;34m'Run Started for file '\u001b[0m \u001b[1;33m+\u001b[0m \u001b[0mhdfname\u001b[0m\u001b[1;33m)\u001b[0m\u001b[1;33m\n",
       "\u001b[0m\u001b[1;33m\n",
       "\u001b[0m        \u001b[1;31m# ordered list of modules replacing function names with real functions\u001b[0m\u001b[1;33m\n",
       "\u001b[0m        \u001b[0msequence\u001b[0m \u001b[1;33m=\u001b[0m \u001b[0mdefaultdict\u001b[0m\u001b[1;33m(\u001b[0m\u001b[0mlist\u001b[0m\u001b[1;33m)\u001b[0m\u001b[1;33m\n",
       "\u001b[0m        \u001b[1;32mfor\u001b[0m \u001b[0m_\u001b[0m\u001b[1;33m,\u001b[0m\u001b[0mx\u001b[0m \u001b[1;32min\u001b[0m \u001b[0mstore\u001b[0m\u001b[1;33m[\u001b[0m\u001b[1;34m'HSP2/CONFIGURATION'\u001b[0m\u001b[1;33m]\u001b[0m\u001b[1;33m.\u001b[0m\u001b[0msort_values\u001b[0m\u001b[1;33m(\u001b[0m\u001b[0mby\u001b[0m\u001b[1;33m=\u001b[0m\u001b[1;33m[\u001b[0m\u001b[1;34m'Order'\u001b[0m\u001b[1;33m]\u001b[0m\u001b[1;33m)\u001b[0m\u001b[1;33m.\u001b[0m\u001b[0miterrows\u001b[0m\u001b[1;33m(\u001b[0m\u001b[1;33m)\u001b[0m\u001b[1;33m:\u001b[0m\u001b[1;33m\n",
       "\u001b[0m            \u001b[1;32mif\u001b[0m \u001b[0mx\u001b[0m\u001b[1;33m.\u001b[0m\u001b[0mFunction\u001b[0m \u001b[1;32mand\u001b[0m \u001b[0mx\u001b[0m\u001b[1;33m.\u001b[0m\u001b[0mFunction\u001b[0m \u001b[1;33m!=\u001b[0m \u001b[1;34m'noop'\u001b[0m\u001b[1;33m:\u001b[0m\u001b[1;33m\n",
       "\u001b[0m                \u001b[0mimportlib\u001b[0m\u001b[1;33m.\u001b[0m\u001b[0mimport_module\u001b[0m\u001b[1;33m(\u001b[0m\u001b[0mx\u001b[0m\u001b[1;33m.\u001b[0m\u001b[0mModule\u001b[0m\u001b[1;33m)\u001b[0m\u001b[1;33m\n",
       "\u001b[0m                \u001b[0mx\u001b[0m\u001b[1;33m.\u001b[0m\u001b[0mFunction\u001b[0m \u001b[1;33m=\u001b[0m \u001b[0meval\u001b[0m\u001b[1;33m(\u001b[0m\u001b[0mx\u001b[0m\u001b[1;33m.\u001b[0m\u001b[0mModule\u001b[0m \u001b[1;33m+\u001b[0m \u001b[1;34m'.'\u001b[0m \u001b[1;33m+\u001b[0m \u001b[0mx\u001b[0m\u001b[1;33m.\u001b[0m\u001b[0mFunction\u001b[0m\u001b[1;33m)\u001b[0m\u001b[1;33m\n",
       "\u001b[0m                \u001b[0msequence\u001b[0m\u001b[1;33m[\u001b[0m\u001b[0mx\u001b[0m\u001b[1;33m.\u001b[0m\u001b[0mTarget\u001b[0m\u001b[1;33m]\u001b[0m\u001b[1;33m.\u001b[0m\u001b[0mappend\u001b[0m\u001b[1;33m(\u001b[0m\u001b[0mx\u001b[0m\u001b[1;33m)\u001b[0m\u001b[1;33m\n",
       "\u001b[0m\u001b[1;33m\n",
       "\u001b[0m        \u001b[1;32mif\u001b[0m \u001b[1;34m'TIMESERIES/LAPSE24'\u001b[0m   \u001b[1;32mnot\u001b[0m \u001b[1;32min\u001b[0m \u001b[0mstore\u001b[0m\u001b[1;33m:\u001b[0m\u001b[1;33m\n",
       "\u001b[0m            \u001b[0mstore\u001b[0m\u001b[1;33m[\u001b[0m\u001b[1;34m'TIMESERIES/LAPSE24'\u001b[0m\u001b[1;33m]\u001b[0m   \u001b[1;33m=\u001b[0m \u001b[0mstore\u001b[0m\u001b[1;33m[\u001b[0m\u001b[1;34m'HSP2/LAPSE24'\u001b[0m\u001b[1;33m]\u001b[0m\u001b[1;33m\n",
       "\u001b[0m        \u001b[1;32mif\u001b[0m \u001b[1;34m'TIMESERIES/SEASONS12'\u001b[0m \u001b[1;32mnot\u001b[0m \u001b[1;32min\u001b[0m \u001b[0mstore\u001b[0m\u001b[1;33m:\u001b[0m\u001b[1;33m\n",
       "\u001b[0m            \u001b[0mstore\u001b[0m\u001b[1;33m[\u001b[0m\u001b[1;34m'TIMESERIES/SEASONS12'\u001b[0m\u001b[1;33m]\u001b[0m \u001b[1;33m=\u001b[0m \u001b[0mstore\u001b[0m\u001b[1;33m[\u001b[0m\u001b[1;34m'HSP2/SEASONS12'\u001b[0m\u001b[1;33m]\u001b[0m\u001b[1;33m\n",
       "\u001b[0m        \u001b[1;32mif\u001b[0m \u001b[1;34m'TIMESERIES/SaturatedVaporPressureTable'\u001b[0m \u001b[1;32mnot\u001b[0m \u001b[1;32min\u001b[0m \u001b[0mstore\u001b[0m\u001b[1;33m:\u001b[0m\u001b[1;33m\n",
       "\u001b[0m            \u001b[0mstore\u001b[0m\u001b[1;33m[\u001b[0m\u001b[1;34m'TIMESERIES/SaturatedVaporPressureTable'\u001b[0m\u001b[1;33m]\u001b[0m \u001b[1;33m=\u001b[0m \u001b[0mstore\u001b[0m\u001b[1;33m[\u001b[0m\u001b[1;34m'HSP2/SaturatedVaporPressureTable'\u001b[0m\u001b[1;33m]\u001b[0m\u001b[1;33m\n",
       "\u001b[0m\u001b[1;33m\n",
       "\u001b[0m        \u001b[1;31m# initial values for simulation wide data dictionary\u001b[0m\u001b[1;33m\n",
       "\u001b[0m        \u001b[0mgeneral\u001b[0m \u001b[1;33m=\u001b[0m \u001b[0mstore\u001b[0m\u001b[1;33m[\u001b[0m\u001b[1;34m'CONTROL/GLOBAL'\u001b[0m\u001b[1;33m]\u001b[0m\u001b[1;33m.\u001b[0m\u001b[0mData\u001b[0m\u001b[1;33m.\u001b[0m\u001b[0mto_dict\u001b[0m\u001b[1;33m(\u001b[0m\u001b[1;33m)\u001b[0m\u001b[1;33m\n",
       "\u001b[0m        \u001b[0mgeneral\u001b[0m\u001b[1;33m[\u001b[0m\u001b[1;34m'msg'\u001b[0m\u001b[1;33m]\u001b[0m \u001b[1;33m=\u001b[0m \u001b[0mmsg\u001b[0m\u001b[1;33m\n",
       "\u001b[0m        \u001b[0mmsg\u001b[0m\u001b[1;33m(\u001b[0m\u001b[1;36m1\u001b[0m\u001b[1;33m,\u001b[0m \u001b[1;34m'  Start '\u001b[0m \u001b[1;33m+\u001b[0m \u001b[0mgeneral\u001b[0m\u001b[1;33m[\u001b[0m\u001b[1;34m'sim_start'\u001b[0m\u001b[1;33m]\u001b[0m \u001b[1;33m+\u001b[0m \u001b[1;34m'    Stop '\u001b[0m \u001b[1;33m+\u001b[0m \u001b[0mgeneral\u001b[0m\u001b[1;33m[\u001b[0m\u001b[1;34m'sim_end'\u001b[0m\u001b[1;33m]\u001b[0m\u001b[1;33m)\u001b[0m\u001b[1;33m\n",
       "\u001b[0m\u001b[1;33m\n",
       "\u001b[0m        \u001b[1;32mif\u001b[0m \u001b[0mreloadkeys\u001b[0m\u001b[1;33m:\u001b[0m\u001b[1;33m\n",
       "\u001b[0m            \u001b[0mstore\u001b[0m\u001b[1;33m[\u001b[0m\u001b[1;34m'HSP2/KEYS'\u001b[0m\u001b[1;33m]\u001b[0m \u001b[1;33m=\u001b[0m \u001b[0mpd\u001b[0m\u001b[1;33m.\u001b[0m\u001b[0mSeries\u001b[0m\u001b[1;33m(\u001b[0m\u001b[0mstore\u001b[0m\u001b[1;33m.\u001b[0m\u001b[0mkeys\u001b[0m\u001b[1;33m(\u001b[0m\u001b[1;33m)\u001b[0m\u001b[1;33m)\u001b[0m\u001b[1;33m\n",
       "\u001b[0m        \u001b[0mkeys\u001b[0m \u001b[1;33m=\u001b[0m \u001b[0mstore\u001b[0m\u001b[1;33m[\u001b[0m\u001b[1;34m'HSP2/KEYS'\u001b[0m\u001b[1;33m]\u001b[0m\u001b[1;33m\n",
       "\u001b[0m\u001b[1;33m\n",
       "\u001b[0m        \u001b[1;31m#create monthly tables; Example: monthlys['PERLND', 'P001']['CEPSCM']\u001b[0m\u001b[1;33m\n",
       "\u001b[0m        \u001b[0mmonthlys\u001b[0m \u001b[1;33m=\u001b[0m \u001b[0mdefaultdict\u001b[0m\u001b[1;33m(\u001b[0m\u001b[0mdict\u001b[0m\u001b[1;33m)\u001b[0m\u001b[1;33m\n",
       "\u001b[0m        \u001b[1;32mfor\u001b[0m \u001b[0mkey\u001b[0m \u001b[1;32min\u001b[0m \u001b[1;33m[\u001b[0m\u001b[0mkey\u001b[0m \u001b[1;32mfor\u001b[0m \u001b[0mkey\u001b[0m \u001b[1;32min\u001b[0m \u001b[0mkeys\u001b[0m \u001b[1;32mif\u001b[0m \u001b[1;34m'MONTHLY'\u001b[0m \u001b[1;32min\u001b[0m \u001b[0mkey\u001b[0m\u001b[1;33m]\u001b[0m\u001b[1;33m:\u001b[0m\u001b[1;33m\n",
       "\u001b[0m            \u001b[0mtokens\u001b[0m \u001b[1;33m=\u001b[0m \u001b[0mkey\u001b[0m\u001b[1;33m.\u001b[0m\u001b[0msplit\u001b[0m\u001b[1;33m(\u001b[0m\u001b[1;34m'/'\u001b[0m\u001b[1;33m)\u001b[0m     \u001b[1;31m# target=tokens[1], variable=tokens[-1]\u001b[0m\u001b[1;33m\n",
       "\u001b[0m            \u001b[1;32mfor\u001b[0m \u001b[0mindx\u001b[0m\u001b[1;33m,\u001b[0m\u001b[0mrow\u001b[0m \u001b[1;32min\u001b[0m \u001b[0mstore\u001b[0m\u001b[1;33m[\u001b[0m\u001b[0mkey\u001b[0m\u001b[1;33m]\u001b[0m\u001b[1;33m.\u001b[0m\u001b[0miterrows\u001b[0m\u001b[1;33m(\u001b[0m\u001b[1;33m)\u001b[0m\u001b[1;33m:\u001b[0m\u001b[1;33m\n",
       "\u001b[0m                \u001b[0mmonthlys\u001b[0m\u001b[1;33m[\u001b[0m\u001b[1;33m(\u001b[0m\u001b[0mtokens\u001b[0m\u001b[1;33m[\u001b[0m\u001b[1;36m1\u001b[0m\u001b[1;33m]\u001b[0m\u001b[1;33m,\u001b[0m \u001b[0mindx\u001b[0m\u001b[1;33m)\u001b[0m\u001b[1;33m]\u001b[0m\u001b[1;33m[\u001b[0m\u001b[0mtokens\u001b[0m\u001b[1;33m[\u001b[0m\u001b[1;33m-\u001b[0m\u001b[1;36m1\u001b[0m\u001b[1;33m]\u001b[0m\u001b[1;33m]\u001b[0m \u001b[1;33m=\u001b[0m \u001b[0mtuple\u001b[0m\u001b[1;33m(\u001b[0m\u001b[0mrow\u001b[0m\u001b[1;33m)\u001b[0m\u001b[1;33m\n",
       "\u001b[0m\u001b[1;33m\n",
       "\u001b[0m        \u001b[0mucs\u001b[0m \u001b[1;33m=\u001b[0m \u001b[0mget_ucs\u001b[0m\u001b[1;33m(\u001b[0m\u001b[0mkeys\u001b[0m\u001b[1;33m,\u001b[0m \u001b[0mstore\u001b[0m\u001b[1;33m,\u001b[0m \u001b[0mmsg\u001b[0m\u001b[1;33m)\u001b[0m     \u001b[1;31m# read all default user control info\u001b[0m\u001b[1;33m\n",
       "\u001b[0m        \u001b[0mtsdd\u001b[0m \u001b[1;33m=\u001b[0m \u001b[0mdefaultdict\u001b[0m\u001b[1;33m(\u001b[0m\u001b[0mlist\u001b[0m\u001b[1;33m)\u001b[0m\u001b[1;33m\n",
       "\u001b[0m        \u001b[1;32mfor\u001b[0m \u001b[0mrow\u001b[0m \u001b[1;32min\u001b[0m \u001b[0mstore\u001b[0m\u001b[1;33m[\u001b[0m\u001b[1;34m'/CONTROL/EXT_SOURCES'\u001b[0m\u001b[1;33m]\u001b[0m\u001b[1;33m.\u001b[0m\u001b[0mitertuples\u001b[0m\u001b[1;33m(\u001b[0m\u001b[1;33m)\u001b[0m\u001b[1;33m:\u001b[0m\u001b[1;33m\n",
       "\u001b[0m            \u001b[0mtsdd\u001b[0m\u001b[1;33m[\u001b[0m\u001b[0mrow\u001b[0m\u001b[1;33m.\u001b[0m\u001b[0mTVOL\u001b[0m\u001b[1;33m,\u001b[0m\u001b[0mrow\u001b[0m\u001b[1;33m.\u001b[0m\u001b[0mTVOLNO\u001b[0m\u001b[1;33m]\u001b[0m\u001b[1;33m.\u001b[0m\u001b[0mappend\u001b[0m\u001b[1;33m(\u001b[0m\u001b[0mrow\u001b[0m\u001b[1;33m)\u001b[0m      \u001b[1;31m# get timeseries' info\u001b[0m\u001b[1;33m\n",
       "\u001b[0m\u001b[1;33m\n",
       "\u001b[0m        \u001b[1;31m# get data for LINK (combined NETWORK & SCHEMATIC) and MASSLINK information\u001b[0m\u001b[1;33m\n",
       "\u001b[0m        \u001b[0mlinkdd\u001b[0m \u001b[1;33m=\u001b[0m \u001b[0mdefaultdict\u001b[0m\u001b[1;33m(\u001b[0m\u001b[0mlist\u001b[0m\u001b[1;33m)\u001b[0m\u001b[1;33m\n",
       "\u001b[0m        \u001b[1;32mfor\u001b[0m \u001b[0m_\u001b[0m\u001b[1;33m,\u001b[0m\u001b[0mrow\u001b[0m \u001b[1;32min\u001b[0m \u001b[0mstore\u001b[0m\u001b[1;33m[\u001b[0m\u001b[1;34m'CONTROL/LINKS'\u001b[0m\u001b[1;33m]\u001b[0m\u001b[1;33m.\u001b[0m\u001b[0miterrows\u001b[0m\u001b[1;33m(\u001b[0m\u001b[1;33m)\u001b[0m\u001b[1;33m:\u001b[0m\u001b[1;33m\n",
       "\u001b[0m            \u001b[0mlinkdd\u001b[0m\u001b[1;33m[\u001b[0m\u001b[0mrow\u001b[0m\u001b[1;33m.\u001b[0m\u001b[0mTVOL\u001b[0m\u001b[1;33m,\u001b[0m \u001b[0mrow\u001b[0m\u001b[1;33m.\u001b[0m\u001b[0mTVOLNO\u001b[0m\u001b[1;33m]\u001b[0m\u001b[1;33m.\u001b[0m\u001b[0mappend\u001b[0m\u001b[1;33m(\u001b[0m\u001b[0mrow\u001b[0m\u001b[1;33m)\u001b[0m\u001b[1;33m\n",
       "\u001b[0m        \u001b[0mmldd\u001b[0m \u001b[1;33m=\u001b[0m \u001b[0mdefaultdict\u001b[0m\u001b[1;33m(\u001b[0m\u001b[0mlist\u001b[0m\u001b[1;33m)\u001b[0m\u001b[1;33m\n",
       "\u001b[0m        \u001b[1;32mfor\u001b[0m \u001b[0mi\u001b[0m\u001b[1;33m,\u001b[0m\u001b[0mrow\u001b[0m \u001b[1;32min\u001b[0m \u001b[0mstore\u001b[0m\u001b[1;33m[\u001b[0m\u001b[1;34m'CONTROL/MASS_LINK'\u001b[0m\u001b[1;33m]\u001b[0m\u001b[1;33m.\u001b[0m\u001b[0miterrows\u001b[0m\u001b[1;33m(\u001b[0m\u001b[1;33m)\u001b[0m\u001b[1;33m:\u001b[0m\u001b[1;33m\n",
       "\u001b[0m            \u001b[0mmldd\u001b[0m\u001b[1;33m[\u001b[0m\u001b[0mrow\u001b[0m\u001b[1;33m.\u001b[0m\u001b[0mMLNO\u001b[0m\u001b[1;33m]\u001b[0m\u001b[1;33m.\u001b[0m\u001b[0mappend\u001b[0m\u001b[1;33m(\u001b[0m\u001b[0mrow\u001b[0m\u001b[1;33m)\u001b[0m\u001b[1;33m\n",
       "\u001b[0m        \u001b[0mxflow\u001b[0m \u001b[1;33m=\u001b[0m \u001b[0mstore\u001b[0m\u001b[1;33m[\u001b[0m\u001b[1;34m'/HSP2/FLOWEXPANSION'\u001b[0m\u001b[1;33m]\u001b[0m\u001b[1;33m\n",
       "\u001b[0m        \u001b[0mxflowdd\u001b[0m \u001b[1;33m=\u001b[0m \u001b[1;33m{\u001b[0m\u001b[1;33m}\u001b[0m\u001b[1;33m\n",
       "\u001b[0m        \u001b[0mlookup\u001b[0m \u001b[1;33m=\u001b[0m \u001b[0mdefaultdict\u001b[0m\u001b[1;33m(\u001b[0m\u001b[0mlist\u001b[0m\u001b[1;33m)\u001b[0m\u001b[1;33m\n",
       "\u001b[0m        \u001b[1;32mfor\u001b[0m \u001b[0m_\u001b[0m\u001b[1;33m,\u001b[0m\u001b[0mrow\u001b[0m \u001b[1;32min\u001b[0m \u001b[0mxflow\u001b[0m\u001b[1;33m.\u001b[0m\u001b[0miterrows\u001b[0m\u001b[1;33m(\u001b[0m\u001b[1;33m)\u001b[0m\u001b[1;33m:\u001b[0m\u001b[1;33m\n",
       "\u001b[0m            \u001b[0mxflowdd\u001b[0m\u001b[1;33m[\u001b[0m\u001b[0mrow\u001b[0m\u001b[1;33m.\u001b[0m\u001b[0mFlag\u001b[0m\u001b[1;33m,\u001b[0m \u001b[0mrow\u001b[0m\u001b[1;33m.\u001b[0m\u001b[0mINFLOW\u001b[0m\u001b[1;33m]\u001b[0m \u001b[1;33m=\u001b[0m \u001b[0mrow\u001b[0m\u001b[1;33m\n",
       "\u001b[0m            \u001b[0mlookup\u001b[0m\u001b[1;33m[\u001b[0m\u001b[0mrow\u001b[0m\u001b[1;33m.\u001b[0m\u001b[0mFlag\u001b[0m\u001b[1;33m]\u001b[0m\u001b[1;33m.\u001b[0m\u001b[0mappend\u001b[0m\u001b[1;33m(\u001b[0m\u001b[0mrow\u001b[0m\u001b[1;33m.\u001b[0m\u001b[0mINFLOW\u001b[0m\u001b[1;33m)\u001b[0m\u001b[1;33m\n",
       "\u001b[0m        \u001b[0mflowdata\u001b[0m \u001b[1;33m=\u001b[0m \u001b[1;33m{\u001b[0m\u001b[1;34m'linkdd'\u001b[0m\u001b[1;33m:\u001b[0m\u001b[0mlinkdd\u001b[0m\u001b[1;33m,\u001b[0m \u001b[1;34m'mldd'\u001b[0m\u001b[1;33m:\u001b[0m\u001b[0mmldd\u001b[0m\u001b[1;33m,\u001b[0m \u001b[1;34m'xflowdd'\u001b[0m\u001b[1;33m:\u001b[0m\u001b[0mxflowdd\u001b[0m\u001b[1;33m,\u001b[0m \u001b[1;34m'lookup'\u001b[0m\u001b[1;33m:\u001b[0m\u001b[0mlookup\u001b[0m\u001b[1;33m}\u001b[0m\u001b[1;33m\n",
       "\u001b[0m        \u001b[0mmsg\u001b[0m\u001b[1;33m(\u001b[0m\u001b[1;36m1\u001b[0m\u001b[1;33m,\u001b[0m \u001b[1;34m'Finished setup'\u001b[0m\u001b[1;33m)\u001b[0m\u001b[1;33m\n",
       "\u001b[0m\u001b[1;33m\n",
       "\u001b[0m        \u001b[1;31m# main program -- loop over OP_SEQUENCE table\u001b[0m\u001b[1;33m\n",
       "\u001b[0m        \u001b[1;32mfor\u001b[0m \u001b[0mopseq\u001b[0m \u001b[1;32min\u001b[0m \u001b[0mstore\u001b[0m\u001b[1;33m[\u001b[0m\u001b[1;34m'/CONTROL/OP_SEQUENCE'\u001b[0m\u001b[1;33m]\u001b[0m\u001b[1;33m.\u001b[0m\u001b[0mitertuples\u001b[0m\u001b[1;33m(\u001b[0m\u001b[1;33m)\u001b[0m\u001b[1;33m:\u001b[0m\u001b[1;33m\n",
       "\u001b[0m            \u001b[0mmsg\u001b[0m\u001b[1;33m(\u001b[0m\u001b[1;36m2\u001b[0m\u001b[1;33m,\u001b[0m \u001b[0mopseq\u001b[0m\u001b[1;33m.\u001b[0m\u001b[0mTARGET\u001b[0m \u001b[1;33m+\u001b[0m \u001b[1;34m' '\u001b[0m \u001b[1;33m+\u001b[0m \u001b[0mopseq\u001b[0m\u001b[1;33m.\u001b[0m\u001b[0mID\u001b[0m \u001b[1;33m+\u001b[0m \u001b[1;34m'   DELT='\u001b[0m \u001b[1;33m+\u001b[0m \u001b[0mopseq\u001b[0m\u001b[1;33m.\u001b[0m\u001b[0mDELT\u001b[0m\u001b[1;33m)\u001b[0m\u001b[1;33m\n",
       "\u001b[0m\u001b[1;33m\n",
       "\u001b[0m            \u001b[0mtindex\u001b[0m \u001b[1;33m=\u001b[0m \u001b[0mpd\u001b[0m\u001b[1;33m.\u001b[0m\u001b[0mdate_range\u001b[0m\u001b[1;33m(\u001b[0m\u001b[0mgeneral\u001b[0m\u001b[1;33m[\u001b[0m\u001b[1;34m'sim_start'\u001b[0m\u001b[1;33m]\u001b[0m\u001b[1;33m,\u001b[0m\u001b[0mgeneral\u001b[0m\u001b[1;33m[\u001b[0m\u001b[1;34m'sim_end'\u001b[0m\u001b[1;33m]\u001b[0m\u001b[1;33m,\u001b[0m\u001b[0mfreq\u001b[0m\u001b[1;33m=\u001b[0m\u001b[0mopseq\u001b[0m\u001b[1;33m.\u001b[0m\u001b[0mDELT\u001b[0m\u001b[1;33m+\u001b[0m\u001b[1;34m'min'\u001b[0m\u001b[1;33m)\u001b[0m\u001b[1;33m\n",
       "\u001b[0m            \u001b[0mgeneral\u001b[0m\u001b[1;33m[\u001b[0m\u001b[1;34m'tindex'\u001b[0m\u001b[1;33m]\u001b[0m   \u001b[1;33m=\u001b[0m \u001b[0mtindex\u001b[0m\u001b[1;33m\n",
       "\u001b[0m            \u001b[0mgeneral\u001b[0m\u001b[1;33m[\u001b[0m\u001b[1;34m'sim_len'\u001b[0m\u001b[1;33m]\u001b[0m  \u001b[1;33m=\u001b[0m \u001b[0mlen\u001b[0m\u001b[1;33m(\u001b[0m\u001b[0mgeneral\u001b[0m\u001b[1;33m[\u001b[0m\u001b[1;34m'tindex'\u001b[0m\u001b[1;33m]\u001b[0m\u001b[1;33m)\u001b[0m\u001b[1;33m\n",
       "\u001b[0m            \u001b[0mgeneral\u001b[0m\u001b[1;33m[\u001b[0m\u001b[1;34m'sim_delt'\u001b[0m\u001b[1;33m]\u001b[0m \u001b[1;33m=\u001b[0m \u001b[0mfloat\u001b[0m\u001b[1;33m(\u001b[0m\u001b[0mopseq\u001b[0m\u001b[1;33m.\u001b[0m\u001b[0mDELT\u001b[0m\u001b[1;33m)\u001b[0m\u001b[1;33m\n",
       "\u001b[0m\u001b[1;33m\n",
       "\u001b[0m            \u001b[0mts\u001b[0m \u001b[1;33m=\u001b[0m \u001b[0mget_timeseries\u001b[0m\u001b[1;33m(\u001b[0m\u001b[0mtsdd\u001b[0m\u001b[1;33m[\u001b[0m\u001b[0mopseq\u001b[0m\u001b[1;33m.\u001b[0m\u001b[0mTARGET\u001b[0m\u001b[1;33m,\u001b[0m\u001b[0mopseq\u001b[0m\u001b[1;33m.\u001b[0m\u001b[0mID\u001b[0m\u001b[1;33m]\u001b[0m\u001b[1;33m,\u001b[0m \u001b[0mgeneral\u001b[0m\u001b[1;33m[\u001b[0m\u001b[1;34m'tindex'\u001b[0m\u001b[1;33m]\u001b[0m\u001b[1;33m,\u001b[0m \u001b[0mstore\u001b[0m\u001b[1;33m)\u001b[0m\u001b[1;33m\n",
       "\u001b[0m\u001b[1;33m\n",
       "\u001b[0m            \u001b[1;31m# Loop over each activity Flag for the operation, do function if available\u001b[0m\u001b[1;33m\n",
       "\u001b[0m            \u001b[0mactivity\u001b[0m \u001b[1;33m=\u001b[0m \u001b[0mucs\u001b[0m\u001b[1;33m[\u001b[0m\u001b[0mopseq\u001b[0m\u001b[1;33m.\u001b[0m\u001b[0mTARGET\u001b[0m\u001b[1;33m,\u001b[0m \u001b[1;34m'ACTIVITY'\u001b[0m\u001b[1;33m,\u001b[0m \u001b[0mopseq\u001b[0m\u001b[1;33m.\u001b[0m\u001b[0mID\u001b[0m\u001b[1;33m]\u001b[0m\u001b[1;33m\n",
       "\u001b[0m            \u001b[1;32mfor\u001b[0m \u001b[0mx\u001b[0m \u001b[1;32min\u001b[0m \u001b[0msequence\u001b[0m\u001b[1;33m[\u001b[0m\u001b[0mopseq\u001b[0m\u001b[1;33m.\u001b[0m\u001b[0mTARGET\u001b[0m\u001b[1;33m]\u001b[0m\u001b[1;33m:\u001b[0m\u001b[1;33m\n",
       "\u001b[0m                \u001b[1;32mif\u001b[0m \u001b[0mactivity\u001b[0m\u001b[1;33m[\u001b[0m\u001b[0mx\u001b[0m\u001b[1;33m.\u001b[0m\u001b[0mFlag\u001b[0m\u001b[1;33m]\u001b[0m\u001b[1;33m:\u001b[0m\u001b[1;33m\n",
       "\u001b[0m                    \u001b[0muc\u001b[0m \u001b[1;33m=\u001b[0m \u001b[0mucs\u001b[0m\u001b[1;33m[\u001b[0m\u001b[0mopseq\u001b[0m\u001b[1;33m.\u001b[0m\u001b[0mTARGET\u001b[0m\u001b[1;33m,\u001b[0m\u001b[0mx\u001b[0m\u001b[1;33m.\u001b[0m\u001b[0mFlag\u001b[0m\u001b[1;33m,\u001b[0m \u001b[0mopseq\u001b[0m\u001b[1;33m.\u001b[0m\u001b[0mID\u001b[0m\u001b[1;33m]\u001b[0m\u001b[1;33m.\u001b[0m\u001b[0mto_dict\u001b[0m\u001b[1;33m(\u001b[0m\u001b[1;33m)\u001b[0m\u001b[1;33m\n",
       "\u001b[0m                    \u001b[1;32mif\u001b[0m \u001b[1;33m(\u001b[0m\u001b[0mopseq\u001b[0m\u001b[1;33m.\u001b[0m\u001b[0mTARGET\u001b[0m\u001b[1;33m,\u001b[0m\u001b[0mopseq\u001b[0m\u001b[1;33m.\u001b[0m\u001b[0mID\u001b[0m\u001b[1;33m)\u001b[0m \u001b[1;32min\u001b[0m \u001b[0mmonthlys\u001b[0m\u001b[1;33m:\u001b[0m\u001b[1;33m\n",
       "\u001b[0m                        \u001b[0muc\u001b[0m\u001b[1;33m.\u001b[0m\u001b[0mupdate\u001b[0m\u001b[1;33m(\u001b[0m\u001b[0mdict\u001b[0m\u001b[1;33m(\u001b[0m\u001b[0mmonthlys\u001b[0m\u001b[1;33m[\u001b[0m\u001b[0mopseq\u001b[0m\u001b[1;33m.\u001b[0m\u001b[0mTARGET\u001b[0m\u001b[1;33m,\u001b[0m \u001b[0mopseq\u001b[0m\u001b[1;33m.\u001b[0m\u001b[0mID\u001b[0m\u001b[1;33m]\u001b[0m\u001b[1;33m)\u001b[0m\u001b[1;33m)\u001b[0m\u001b[1;33m\n",
       "\u001b[0m                    \u001b[0muc\u001b[0m\u001b[1;33m.\u001b[0m\u001b[0mupdate\u001b[0m\u001b[1;33m(\u001b[0m\u001b[0mucs\u001b[0m\u001b[1;33m[\u001b[0m\u001b[0mopseq\u001b[0m\u001b[1;33m.\u001b[0m\u001b[0mTARGET\u001b[0m\u001b[1;33m,\u001b[0m \u001b[1;34m'GENERAL_INFO'\u001b[0m\u001b[1;33m,\u001b[0m \u001b[0mopseq\u001b[0m\u001b[1;33m.\u001b[0m\u001b[0mID\u001b[0m\u001b[1;33m]\u001b[0m\u001b[1;33m)\u001b[0m\u001b[1;33m\n",
       "\u001b[0m                    \u001b[1;32mif\u001b[0m \u001b[0mopseq\u001b[0m\u001b[1;33m.\u001b[0m\u001b[0mTARGET\u001b[0m\u001b[1;33m==\u001b[0m\u001b[1;34m'RCHRES'\u001b[0m \u001b[1;32mand\u001b[0m \u001b[0mx\u001b[0m\u001b[1;33m.\u001b[0m\u001b[0mFlag\u001b[0m\u001b[1;33m==\u001b[0m\u001b[1;34m'HYDRFG'\u001b[0m\u001b[1;33m:\u001b[0m\u001b[1;33m\n",
       "\u001b[0m                        \u001b[0muc\u001b[0m\u001b[1;33m[\u001b[0m\u001b[1;34m'rchtab'\u001b[0m\u001b[1;33m]\u001b[0m \u001b[1;33m=\u001b[0m \u001b[0mstore\u001b[0m\u001b[1;33m[\u001b[0m\u001b[1;34m'FTABLES/'\u001b[0m \u001b[1;33m+\u001b[0m \u001b[0muc\u001b[0m\u001b[1;33m[\u001b[0m\u001b[1;34m'FTBUCI'\u001b[0m\u001b[1;33m]\u001b[0m\u001b[1;33m]\u001b[0m  \u001b[1;31m# get FTABLE\u001b[0m\u001b[1;33m\n",
       "\u001b[0m\u001b[1;33m\n",
       "\u001b[0m                    \u001b[1;32mif\u001b[0m \u001b[1;33m(\u001b[0m\u001b[0mopseq\u001b[0m\u001b[1;33m.\u001b[0m\u001b[0mTARGET\u001b[0m\u001b[1;33m,\u001b[0m \u001b[0mopseq\u001b[0m\u001b[1;33m.\u001b[0m\u001b[0mID\u001b[0m\u001b[1;33m)\u001b[0m \u001b[1;32min\u001b[0m \u001b[0mlinkdd\u001b[0m\u001b[1;33m:\u001b[0m\u001b[1;33m\n",
       "\u001b[0m                        \u001b[0mflows\u001b[0m\u001b[1;33m(\u001b[0m\u001b[0mts\u001b[0m\u001b[1;33m,\u001b[0m\u001b[0mopseq\u001b[0m\u001b[1;33m.\u001b[0m\u001b[0mTARGET\u001b[0m\u001b[1;33m,\u001b[0m\u001b[0mopseq\u001b[0m\u001b[1;33m.\u001b[0m\u001b[0mID\u001b[0m\u001b[1;33m,\u001b[0m\u001b[0mx\u001b[0m\u001b[1;33m.\u001b[0m\u001b[0mFlag\u001b[0m\u001b[1;33m,\u001b[0m\u001b[0mflowdata\u001b[0m\u001b[1;33m,\u001b[0m\u001b[0mtindex\u001b[0m\u001b[1;33m,\u001b[0m\u001b[0mstore\u001b[0m\u001b[1;33m)\u001b[0m\u001b[1;33m\n",
       "\u001b[0m\u001b[1;33m\n",
       "\u001b[0m                    \u001b[1;31m###########################################################\u001b[0m\u001b[1;33m\n",
       "\u001b[0m                    \u001b[0merrs\u001b[0m\u001b[1;33m,\u001b[0m \u001b[0merrstrs\u001b[0m \u001b[1;33m=\u001b[0m \u001b[0mx\u001b[0m\u001b[1;33m.\u001b[0m\u001b[0mFunction\u001b[0m\u001b[1;33m(\u001b[0m\u001b[0mstore\u001b[0m\u001b[1;33m,\u001b[0m \u001b[0mgeneral\u001b[0m\u001b[1;33m,\u001b[0m \u001b[0muc\u001b[0m\u001b[1;33m,\u001b[0m \u001b[0mts\u001b[0m\u001b[1;33m)\u001b[0m   \u001b[1;31m# calls core HSP2 functions\u001b[0m\u001b[1;33m\n",
       "\u001b[0m                    \u001b[1;31m###########################################################\u001b[0m\u001b[1;33m\n",
       "\u001b[0m\u001b[1;33m\n",
       "\u001b[0m                    \u001b[1;31m# save computed timeseries (at computation DELT)\u001b[0m\u001b[1;33m\n",
       "\u001b[0m                    \u001b[0msavetable\u001b[0m \u001b[1;33m=\u001b[0m \u001b[0mucs\u001b[0m\u001b[1;33m[\u001b[0m\u001b[0mopseq\u001b[0m\u001b[1;33m.\u001b[0m\u001b[0mTARGET\u001b[0m\u001b[1;33m,\u001b[0m \u001b[0mx\u001b[0m\u001b[1;33m.\u001b[0m\u001b[0mFlag\u001b[0m\u001b[1;33m,\u001b[0m \u001b[1;34m'SAVE'\u001b[0m\u001b[1;33m,\u001b[0m \u001b[0mopseq\u001b[0m\u001b[1;33m.\u001b[0m\u001b[0mID\u001b[0m\u001b[1;33m]\u001b[0m\u001b[1;33m\n",
       "\u001b[0m                    \u001b[0msave\u001b[0m \u001b[1;33m=\u001b[0m \u001b[0mtuple\u001b[0m\u001b[1;33m(\u001b[0m\u001b[0msavetable\u001b[0m\u001b[1;33m.\u001b[0m\u001b[0mindex\u001b[0m\u001b[1;33m)\u001b[0m \u001b[1;32mif\u001b[0m \u001b[0msaveall\u001b[0m \u001b[1;32melse\u001b[0m \u001b[0mtuple\u001b[0m\u001b[1;33m(\u001b[0m\u001b[0msavetable\u001b[0m\u001b[1;33m[\u001b[0m\u001b[0msavetable\u001b[0m\u001b[1;33m==\u001b[0m\u001b[0mTrue\u001b[0m\u001b[1;33m]\u001b[0m\u001b[1;33m.\u001b[0m\u001b[0mindex\u001b[0m\u001b[1;33m)\u001b[0m\u001b[1;33m\n",
       "\u001b[0m                    \u001b[0msave\u001b[0m \u001b[1;33m=\u001b[0m \u001b[0mset\u001b[0m\u001b[1;33m(\u001b[0m\u001b[0msave\u001b[0m\u001b[1;33m)\u001b[0m \u001b[1;33m&\u001b[0m \u001b[0mset\u001b[0m\u001b[1;33m(\u001b[0m\u001b[0mts\u001b[0m\u001b[1;33m)\u001b[0m\u001b[1;33m\n",
       "\u001b[0m                    \u001b[0mdf\u001b[0m \u001b[1;33m=\u001b[0m \u001b[0mpd\u001b[0m\u001b[1;33m.\u001b[0m\u001b[0mDataFrame\u001b[0m\u001b[1;33m(\u001b[0m\u001b[0mindex\u001b[0m\u001b[1;33m=\u001b[0m\u001b[0mtindex\u001b[0m\u001b[1;33m)\u001b[0m\u001b[1;33m\n",
       "\u001b[0m                    \u001b[1;32mfor\u001b[0m \u001b[0my\u001b[0m \u001b[1;32min\u001b[0m \u001b[0msave\u001b[0m\u001b[1;33m:\u001b[0m\u001b[1;33m\n",
       "\u001b[0m                        \u001b[1;32mif\u001b[0m \u001b[0mts\u001b[0m\u001b[1;33m[\u001b[0m\u001b[0my\u001b[0m\u001b[1;33m]\u001b[0m\u001b[1;33m.\u001b[0m\u001b[0mndim\u001b[0m \u001b[1;33m==\u001b[0m \u001b[1;36m1\u001b[0m\u001b[1;33m:\u001b[0m\u001b[1;33m\n",
       "\u001b[0m                            \u001b[0mdf\u001b[0m\u001b[1;33m[\u001b[0m\u001b[0my\u001b[0m\u001b[1;33m]\u001b[0m \u001b[1;33m=\u001b[0m \u001b[0mts\u001b[0m\u001b[1;33m[\u001b[0m\u001b[0my\u001b[0m\u001b[1;33m]\u001b[0m\u001b[1;33m\n",
       "\u001b[0m                        \u001b[1;32melse\u001b[0m\u001b[1;33m:\u001b[0m\u001b[1;33m\n",
       "\u001b[0m                            \u001b[1;32mfor\u001b[0m \u001b[0mi\u001b[0m \u001b[1;32min\u001b[0m \u001b[0mrange\u001b[0m\u001b[1;33m(\u001b[0m\u001b[0mts\u001b[0m\u001b[1;33m[\u001b[0m\u001b[0my\u001b[0m\u001b[1;33m]\u001b[0m\u001b[1;33m.\u001b[0m\u001b[0mshape\u001b[0m\u001b[1;33m[\u001b[0m\u001b[1;36m1\u001b[0m\u001b[1;33m]\u001b[0m\u001b[1;33m)\u001b[0m\u001b[1;33m:\u001b[0m\u001b[1;33m\n",
       "\u001b[0m                                \u001b[0mdf\u001b[0m\u001b[1;33m[\u001b[0m\u001b[0my\u001b[0m\u001b[1;33m+\u001b[0m\u001b[0mstr\u001b[0m\u001b[1;33m(\u001b[0m\u001b[0mi\u001b[0m\u001b[1;33m+\u001b[0m\u001b[1;36m1\u001b[0m\u001b[1;33m)\u001b[0m\u001b[1;33m]\u001b[0m \u001b[1;33m=\u001b[0m \u001b[0mts\u001b[0m\u001b[1;33m[\u001b[0m\u001b[0my\u001b[0m\u001b[1;33m]\u001b[0m\u001b[1;33m[\u001b[0m\u001b[1;33m:\u001b[0m\u001b[1;33m,\u001b[0m\u001b[0mi\u001b[0m\u001b[1;33m]\u001b[0m\u001b[1;33m\n",
       "\u001b[0m                    \u001b[0mdf\u001b[0m \u001b[1;33m=\u001b[0m \u001b[0mdf\u001b[0m\u001b[1;33m.\u001b[0m\u001b[0msort_index\u001b[0m\u001b[1;33m(\u001b[0m\u001b[0maxis\u001b[0m\u001b[1;33m=\u001b[0m\u001b[1;36m1\u001b[0m\u001b[1;33m)\u001b[0m\u001b[1;33m\n",
       "\u001b[0m                    \u001b[0mpath\u001b[0m \u001b[1;33m=\u001b[0m \u001b[1;34m'/RESULTS/'\u001b[0m \u001b[1;33m+\u001b[0m \u001b[0mopseq\u001b[0m\u001b[1;33m.\u001b[0m\u001b[0mTARGET\u001b[0m \u001b[1;33m+\u001b[0m \u001b[1;34m'_'\u001b[0m \u001b[1;33m+\u001b[0m \u001b[0mopseq\u001b[0m\u001b[1;33m.\u001b[0m\u001b[0mID\u001b[0m \u001b[1;33m+\u001b[0m \u001b[1;34m'/'\u001b[0m \u001b[1;33m+\u001b[0m \u001b[0mx\u001b[0m\u001b[1;33m.\u001b[0m\u001b[0mPath\u001b[0m\u001b[1;33m.\u001b[0m\u001b[0msplit\u001b[0m\u001b[1;33m(\u001b[0m\u001b[1;34m'/'\u001b[0m\u001b[1;33m)\u001b[0m\u001b[1;33m[\u001b[0m\u001b[1;36m1\u001b[0m\u001b[1;33m]\u001b[0m\u001b[1;33m\n",
       "\u001b[0m                    \u001b[0mstore\u001b[0m\u001b[1;33m.\u001b[0m\u001b[0mput\u001b[0m\u001b[1;33m(\u001b[0m\u001b[0mpath\u001b[0m\u001b[1;33m,\u001b[0m \u001b[0mdf\u001b[0m\u001b[1;33m.\u001b[0m\u001b[0mastype\u001b[0m\u001b[1;33m(\u001b[0m\u001b[0mnp\u001b[0m\u001b[1;33m.\u001b[0m\u001b[0mfloat32\u001b[0m\u001b[1;33m)\u001b[0m\u001b[1;33m)\u001b[0m\u001b[1;33m\n",
       "\u001b[0m\u001b[1;33m\n",
       "\u001b[0m                    \u001b[1;32mfor\u001b[0m \u001b[0merrorcnt\u001b[0m\u001b[1;33m,\u001b[0m \u001b[0merrormsg\u001b[0m \u001b[1;32min\u001b[0m \u001b[0mzip\u001b[0m\u001b[1;33m(\u001b[0m\u001b[0merrs\u001b[0m\u001b[1;33m,\u001b[0m \u001b[0merrstrs\u001b[0m\u001b[1;33m)\u001b[0m\u001b[1;33m:\u001b[0m  \u001b[1;31m# print returned error messages and counts\u001b[0m\u001b[1;33m\n",
       "\u001b[0m                        \u001b[1;32mif\u001b[0m \u001b[0merrorcnt\u001b[0m \u001b[1;33m>\u001b[0m \u001b[1;36m0\u001b[0m\u001b[1;33m:\u001b[0m\u001b[1;33m\n",
       "\u001b[0m                            \u001b[0mmsg\u001b[0m\u001b[1;33m(\u001b[0m\u001b[1;36m3\u001b[0m\u001b[1;33m,\u001b[0m \u001b[1;34m'Message count '\u001b[0m \u001b[1;33m+\u001b[0m \u001b[0mstr\u001b[0m\u001b[1;33m(\u001b[0m\u001b[0merrorcnt\u001b[0m\u001b[1;33m)\u001b[0m \u001b[1;33m+\u001b[0m  \u001b[1;34m'   Message '\u001b[0m \u001b[1;33m+\u001b[0m \u001b[0merrormsg\u001b[0m\u001b[1;33m)\u001b[0m\u001b[1;33m\n",
       "\u001b[0m\u001b[1;33m\n",
       "\u001b[0m        \u001b[0mmsg\u001b[0m\u001b[1;33m(\u001b[0m\u001b[1;36m1\u001b[0m\u001b[1;33m,\u001b[0m \u001b[1;34m'Run completed'\u001b[0m\u001b[1;33m)\u001b[0m\u001b[1;33m\n",
       "\u001b[0m        \u001b[0mstore\u001b[0m\u001b[1;33m.\u001b[0m\u001b[0mput\u001b[0m\u001b[1;33m(\u001b[0m\u001b[1;34m'/RUN_INFO/VERSIONS'\u001b[0m\u001b[1;33m,\u001b[0m \u001b[0mversions\u001b[0m\u001b[1;33m(\u001b[0m\u001b[1;33m)\u001b[0m\u001b[1;33m,\u001b[0m \u001b[0mformat\u001b[0m\u001b[1;33m=\u001b[0m\u001b[1;34m't'\u001b[0m\u001b[1;33m,\u001b[0m \u001b[0mdata_columns\u001b[0m\u001b[1;33m=\u001b[0m\u001b[0mTrue\u001b[0m\u001b[1;33m)\u001b[0m\u001b[1;33m\n",
       "\u001b[0m\u001b[1;33m\n",
       "\u001b[0m    \u001b[1;31m# Copy runtime log file to the HDF5 file as record of run\u001b[0m\u001b[1;33m\n",
       "\u001b[0m    \u001b[1;32mwith\u001b[0m \u001b[0mh5py\u001b[0m\u001b[1;33m.\u001b[0m\u001b[0mFile\u001b[0m\u001b[1;33m(\u001b[0m\u001b[0mhdfname\u001b[0m\u001b[1;33m,\u001b[0m \u001b[1;34m'a'\u001b[0m\u001b[1;33m)\u001b[0m \u001b[1;32mas\u001b[0m \u001b[0mhdf\u001b[0m\u001b[1;33m,\u001b[0m \u001b[0mopen\u001b[0m\u001b[1;33m(\u001b[0m\u001b[0mlogpath\u001b[0m\u001b[1;33m,\u001b[0m \u001b[1;34m'r'\u001b[0m\u001b[1;33m)\u001b[0m \u001b[1;32mas\u001b[0m \u001b[0mf\u001b[0m\u001b[1;33m:\u001b[0m\u001b[1;33m\n",
       "\u001b[0m        \u001b[1;32mif\u001b[0m \u001b[1;34m'/RUN_INFO/log'\u001b[0m \u001b[1;32min\u001b[0m \u001b[0mhdf\u001b[0m\u001b[1;33m:\u001b[0m\u001b[1;33m\n",
       "\u001b[0m            \u001b[1;32mdel\u001b[0m \u001b[0mhdf\u001b[0m\u001b[1;33m[\u001b[0m\u001b[1;34m'/RUN_INFO/log'\u001b[0m\u001b[1;33m]\u001b[0m\u001b[1;33m\n",
       "\u001b[0m        \u001b[0mdata\u001b[0m \u001b[1;33m=\u001b[0m \u001b[0mf\u001b[0m\u001b[1;33m.\u001b[0m\u001b[0mread\u001b[0m\u001b[1;33m(\u001b[0m\u001b[1;33m)\u001b[0m\u001b[1;33m\n",
       "\u001b[0m        \u001b[0mds\u001b[0m \u001b[1;33m=\u001b[0m \u001b[0mhdf\u001b[0m\u001b[1;33m[\u001b[0m\u001b[1;34m'/RUN_INFO/'\u001b[0m\u001b[1;33m]\u001b[0m\u001b[1;33m.\u001b[0m\u001b[0mcreate_dataset\u001b[0m\u001b[1;33m(\u001b[0m\u001b[1;34m'log'\u001b[0m\u001b[1;33m,\u001b[0m \u001b[0mshape\u001b[0m\u001b[1;33m=\u001b[0m\u001b[1;33m(\u001b[0m\u001b[1;36m1\u001b[0m\u001b[1;33m,\u001b[0m\u001b[1;33m)\u001b[0m\u001b[1;33m,\u001b[0m \u001b[0mdtype\u001b[0m\u001b[1;33m=\u001b[0m\u001b[1;34m'S'\u001b[0m \u001b[1;33m+\u001b[0m \u001b[0mstr\u001b[0m\u001b[1;33m(\u001b[0m\u001b[0mlen\u001b[0m\u001b[1;33m(\u001b[0m\u001b[0mdata\u001b[0m\u001b[1;33m)\u001b[0m\u001b[1;33m)\u001b[0m\u001b[1;33m)\u001b[0m\u001b[1;33m\n",
       "\u001b[0m        \u001b[0mds\u001b[0m\u001b[1;33m[\u001b[0m\u001b[1;33m:\u001b[0m\u001b[1;33m]\u001b[0m \u001b[1;33m=\u001b[0m \u001b[0mdata\u001b[0m\u001b[1;33m\n",
       "\u001b[0m    \u001b[1;32mprint\u001b[0m\u001b[1;33m(\u001b[0m\u001b[1;34m'Run time is '\u001b[0m \u001b[1;33m+\u001b[0m \u001b[0mstr\u001b[0m\u001b[1;33m(\u001b[0m\u001b[0mdt\u001b[0m\u001b[1;33m.\u001b[0m\u001b[0mnow\u001b[0m\u001b[1;33m(\u001b[0m\u001b[1;33m)\u001b[0m\u001b[1;33m-\u001b[0m\u001b[0mstime\u001b[0m\u001b[1;33m)\u001b[0m\u001b[1;33m)\u001b[0m\u001b[1;33m\n",
       "\u001b[0m    \u001b[1;32mreturn\u001b[0m      \u001b[1;31m# RUN is DONE\u001b[0m\u001b[1;33m\u001b[0m\u001b[0m\n",
       "\u001b[1;31mFile:\u001b[0m      c:\\users\\jason.love\\hspsquared-master\\hsp2\\main.py\n",
       "\u001b[1;31mType:\u001b[0m      function\n"
      ]
     },
     "metadata": {},
     "output_type": "display_data"
    }
   ],
   "source": [
    "HSP2.run??"
   ]
  },
  {
   "cell_type": "code",
   "execution_count": 4,
   "metadata": {},
   "outputs": [
    {
     "name": "stdout",
     "output_type": "stream",
     "text": [
      "2017-12-18 21:28:52.21   Run Started for file TutorialData/Tutorial.h5\n",
      "2017-12-18 21:28:52.27     Start 1976-01-01 00:00    Stop 1976-12-31 23:59\n",
      "2017-12-18 21:28:52.81   Finished setup\n",
      "2017-12-18 21:28:52.81      PERLND P001   DELT=60\n",
      "2017-12-18 21:28:53.01      RCHRES R001   DELT=60\n",
      "2017-12-18 21:28:53.12      RCHRES R002   DELT=60\n",
      "2017-12-18 21:28:53.17      RCHRES R003   DELT=60\n",
      "2017-12-18 21:28:53.21      RCHRES R004   DELT=60\n",
      "2017-12-18 21:28:53.28      IMPLND I001   DELT=60\n",
      "2017-12-18 21:28:53.34      RCHRES R005   DELT=60\n",
      "2017-12-18 21:28:53.39   Run completed\n",
      "Run time is 0:00:01.206000\n"
     ]
    }
   ],
   "source": [
    "HSP2.run(hdfname, saveall=True)"
   ]
  },
  {
   "cell_type": "code",
   "execution_count": 6,
   "metadata": {},
   "outputs": [
    {
     "data": {
      "application/vnd.jupyter.widget-view+json": {
       "model_id": "6f5943b01c9a432bbc620a410da616f7",
       "version_major": 2,
       "version_minor": 0
      },
      "text/html": [
       "<p>Failed to display Jupyter Widget of type <code>QgridWidget</code>.</p>\n",
       "<p>\n",
       "  If you're reading this message in the Jupyter Notebook or JupyterLab Notebook, it may mean\n",
       "  that the widgets JavaScript is still loading. If this message persists, it\n",
       "  likely means that the widgets JavaScript library is either not installed or\n",
       "  not enabled. See the <a href=\"https://ipywidgets.readthedocs.io/en/stable/user_install.html\">Jupyter\n",
       "  Widgets Documentation</a> for setup instructions.\n",
       "</p>\n",
       "<p>\n",
       "  If you're reading this message in another frontend (for example, a static\n",
       "  rendering on GitHub or <a href=\"https://nbviewer.jupyter.org/\">NBViewer</a>),\n",
       "  it may mean that your frontend doesn't currently support widgets.\n",
       "</p>\n"
      ],
      "text/plain": [
       "QgridWidget(grid_options={'enableTextSelectionOnCells': True, 'editable': True, 'explicitInitialization': True, 'minVisibleRows': 8, 'enableColumnReorder': False, 'defaultColumnWidth': 150, 'maxVisibleRows': 15, 'fullWidthRows': True, 'rowHeight': 28, 'autoEdit': False, 'syncColumnCellResize': True, 'forceFitColumns': True}, precision=5)"
      ]
     },
     "metadata": {},
     "output_type": "display_data"
    }
   ],
   "source": [
    "# Review simulated hydraulic state variables and fluxes from hdf5 file for Reach 1\n",
    "tsMaster = pd.read_hdf(hdfname, '/RESULTS/RCHRES_R001/HYDR')\n",
    "tsMaster"
   ]
  },
  {
   "cell_type": "code",
   "execution_count": 7,
   "metadata": {},
   "outputs": [
    {
     "data": {
      "text/plain": [
       "[<matplotlib.lines.Line2D at 0xdee7f98>]"
      ]
     },
     "execution_count": 7,
     "metadata": {},
     "output_type": "execute_result"
    },
    {
     "data": {
      "image/png": "[encoded data removed]",
      "text/plain": [
       "<matplotlib.figure.Figure at 0xee9ee10>"
      ]
     },
     "metadata": {},
     "output_type": "display_data"
    }
   ],
   "source": [
    "# Create a Plot of RCHRES 1 Flow\n",
    "m_plt.figure(figsize=(16,8))\n",
    "m_plt.plot('RO', 'b--', data=tsMaster,   label='Master')"
   ]
  },
  {
   "cell_type": "code",
   "execution_count": 8,
   "metadata": {},
   "outputs": [
    {
     "data": {
      "application/vnd.jupyter.widget-view+json": {
       "model_id": "49424804d36a4ef9a9c0d7533a46b81d",
       "version_major": 2,
       "version_minor": 0
      },
      "text/html": [
       "<p>Failed to display Jupyter Widget of type <code>QgridWidget</code>.</p>\n",
       "<p>\n",
       "  If you're reading this message in the Jupyter Notebook or JupyterLab Notebook, it may mean\n",
       "  that the widgets JavaScript is still loading. If this message persists, it\n",
       "  likely means that the widgets JavaScript library is either not installed or\n",
       "  not enabled. See the <a href=\"https://ipywidgets.readthedocs.io/en/stable/user_install.html\">Jupyter\n",
       "  Widgets Documentation</a> for setup instructions.\n",
       "</p>\n",
       "<p>\n",
       "  If you're reading this message in another frontend (for example, a static\n",
       "  rendering on GitHub or <a href=\"https://nbviewer.jupyter.org/\">NBViewer</a>),\n",
       "  it may mean that your frontend doesn't currently support widgets.\n",
       "</p>\n"
      ],
      "text/plain": [
       "QgridWidget(grid_options={'enableTextSelectionOnCells': True, 'editable': True, 'explicitInitialization': True, 'minVisibleRows': 8, 'enableColumnReorder': False, 'defaultColumnWidth': 150, 'maxVisibleRows': 15, 'fullWidthRows': True, 'rowHeight': 28, 'autoEdit': False, 'syncColumnCellResize': True, 'forceFitColumns': True}, precision=5)"
      ]
     },
     "metadata": {},
     "output_type": "display_data"
    }
   ],
   "source": [
    "# Creeate a DateFrame, Calculate Summart Stats, and Save for Later\n",
    "columns = ['Master','Run1','Run3', 'Run4']\n",
    "dfStats = pd.DataFrame(columns=columns)\n",
    "dfStats.Master = tsMaster.RO.describe()\n",
    "\n",
    "dfStats.Master"
   ]
  },
  {
   "cell_type": "markdown",
   "metadata": {},
   "source": [
    "## There are Multiple ways we Can Change Parameters"
   ]
  },
  {
   "cell_type": "markdown",
   "metadata": {},
   "source": [
    "###  Using HSP2Tools.Fetch and then HSP2Tools.replace"
   ]
  },
  {
   "cell_type": "code",
   "execution_count": 9,
   "metadata": {},
   "outputs": [
    {
     "data": {
      "text/plain": [
       "(('TutorialData/Tutorial.h5', 'PERLND', 'PWATER'),\n",
       "       AGWETP  AGWRC  BASETP  CEPSC  DEEPFR  ...   PETMIN  SLSUR  UZSN  FZG  \\\n",
       " P001    0.08   0.98    0.00   0.00    0.10  ...    35.00   0.05  0.01 1.00   \n",
       " \n",
       "       FZGL  \n",
       " P001  0.10  \n",
       " \n",
       " [1 rows x 22 columns])"
      ]
     },
     "execution_count": 9,
     "metadata": {},
     "output_type": "execute_result"
    }
   ],
   "source": [
    "replaceinfo, df = HSP2tools.fetch(hdfname, 'PERLND', 'PWATER', 'PARAMETERS')\n",
    "replaceinfo, df"
   ]
  },
  {
   "cell_type": "code",
   "execution_count": 10,
   "metadata": {},
   "outputs": [
    {
     "data": {
      "application/vnd.jupyter.widget-view+json": {
       "model_id": "ca0622662cbb41b1a097474dd7c1c223",
       "version_major": 2,
       "version_minor": 0
      },
      "text/html": [
       "<p>Failed to display Jupyter Widget of type <code>QgridWidget</code>.</p>\n",
       "<p>\n",
       "  If you're reading this message in the Jupyter Notebook or JupyterLab Notebook, it may mean\n",
       "  that the widgets JavaScript is still loading. If this message persists, it\n",
       "  likely means that the widgets JavaScript library is either not installed or\n",
       "  not enabled. See the <a href=\"https://ipywidgets.readthedocs.io/en/stable/user_install.html\">Jupyter\n",
       "  Widgets Documentation</a> for setup instructions.\n",
       "</p>\n",
       "<p>\n",
       "  If you're reading this message in another frontend (for example, a static\n",
       "  rendering on GitHub or <a href=\"https://nbviewer.jupyter.org/\">NBViewer</a>),\n",
       "  it may mean that your frontend doesn't currently support widgets.\n",
       "</p>\n"
      ],
      "text/plain": [
       "QgridWidget(grid_options={'enableTextSelectionOnCells': True, 'editable': True, 'explicitInitialization': True, 'minVisibleRows': 8, 'enableColumnReorder': False, 'defaultColumnWidth': 150, 'maxVisibleRows': 15, 'fullWidthRows': True, 'rowHeight': 28, 'autoEdit': False, 'syncColumnCellResize': True, 'forceFitColumns': True}, precision=5)"
      ]
     },
     "metadata": {},
     "output_type": "display_data"
    }
   ],
   "source": [
    "# Check Value of LZSN\n",
    "df.LZSN"
   ]
  },
  {
   "cell_type": "code",
   "execution_count": 11,
   "metadata": {
    "collapsed": true
   },
   "outputs": [],
   "source": [
    "# Change and Replace using HSP2Tools.replace?? \n",
    "df.LZSN = 12\n",
    "HSP2tools.replace(replaceinfo, df)"
   ]
  },
  {
   "cell_type": "markdown",
   "metadata": {},
   "source": [
    "### Use Pandas to Read and Write"
   ]
  },
  {
   "cell_type": "code",
   "execution_count": 13,
   "metadata": {},
   "outputs": [
    {
     "data": {
      "application/vnd.jupyter.widget-view+json": {
       "model_id": "2af3b302100d4361b89e9ddc25cbdd33",
       "version_major": 2,
       "version_minor": 0
      },
      "text/html": [
       "<p>Failed to display Jupyter Widget of type <code>QgridWidget</code>.</p>\n",
       "<p>\n",
       "  If you're reading this message in the Jupyter Notebook or JupyterLab Notebook, it may mean\n",
       "  that the widgets JavaScript is still loading. If this message persists, it\n",
       "  likely means that the widgets JavaScript library is either not installed or\n",
       "  not enabled. See the <a href=\"https://ipywidgets.readthedocs.io/en/stable/user_install.html\">Jupyter\n",
       "  Widgets Documentation</a> for setup instructions.\n",
       "</p>\n",
       "<p>\n",
       "  If you're reading this message in another frontend (for example, a static\n",
       "  rendering on GitHub or <a href=\"https://nbviewer.jupyter.org/\">NBViewer</a>),\n",
       "  it may mean that your frontend doesn't currently support widgets.\n",
       "</p>\n"
      ],
      "text/plain": [
       "QgridWidget(grid_options={'enableTextSelectionOnCells': True, 'editable': True, 'explicitInitialization': True, 'minVisibleRows': 8, 'enableColumnReorder': False, 'defaultColumnWidth': 150, 'maxVisibleRows': 15, 'fullWidthRows': True, 'rowHeight': 28, 'autoEdit': False, 'syncColumnCellResize': True, 'forceFitColumns': True}, precision=5)"
      ]
     },
     "metadata": {},
     "output_type": "display_data"
    }
   ],
   "source": [
    "datapath = '/PERLND/PWATER/PARAMETERS'\n",
    "df2 = pd.read_hdf(hdfname, datapath)\n",
    "df2.T"
   ]
  },
  {
   "cell_type": "code",
   "execution_count": 151,
   "metadata": {
    "collapsed": true
   },
   "outputs": [],
   "source": [
    "# Write to HDF\n",
    "df2.LZSN = 8\n",
    "df2.to_hdf(hdfname, '/PERLND/PWATER/PARAMETERS', data_columns=True, format='table')"
   ]
  },
  {
   "cell_type": "code",
   "execution_count": 152,
   "metadata": {},
   "outputs": [
    {
     "data": {
      "text/plain": [
       "P001    8\n",
       "Name: LZSN, dtype: int64"
      ]
     },
     "execution_count": 152,
     "metadata": {},
     "output_type": "execute_result"
    }
   ],
   "source": [
    "# Verify Changed\n",
    "df2 = pd.read_hdf(hdfname, datapath)\n",
    "df2.LZSN"
   ]
  },
  {
   "cell_type": "markdown",
   "metadata": {},
   "source": [
    "### Use Pandas and Qgrid Functionality to Update Parameters"
   ]
  },
  {
   "cell_type": "code",
   "execution_count": 30,
   "metadata": {},
   "outputs": [
    {
     "data": {
      "application/vnd.jupyter.widget-view+json": {
       "model_id": "30862eaf4be74819b7188cc8a1655462",
       "version_major": 2,
       "version_minor": 0
      },
      "text/html": [
       "<p>Failed to display Jupyter Widget of type <code>QgridWidget</code>.</p>\n",
       "<p>\n",
       "  If you're reading this message in the Jupyter Notebook or JupyterLab Notebook, it may mean\n",
       "  that the widgets JavaScript is still loading. If this message persists, it\n",
       "  likely means that the widgets JavaScript library is either not installed or\n",
       "  not enabled. See the <a href=\"https://ipywidgets.readthedocs.io/en/stable/user_install.html\">Jupyter\n",
       "  Widgets Documentation</a> for setup instructions.\n",
       "</p>\n",
       "<p>\n",
       "  If you're reading this message in another frontend (for example, a static\n",
       "  rendering on GitHub or <a href=\"https://nbviewer.jupyter.org/\">NBViewer</a>),\n",
       "  it may mean that your frontend doesn't currently support widgets.\n",
       "</p>\n"
      ],
      "text/plain": [
       "QgridWidget(grid_options={'enableTextSelectionOnCells': True, 'editable': True, 'explicitInitialization': True, 'minVisibleRows': 8, 'enableColumnReorder': False, 'defaultColumnWidth': 150, 'maxVisibleRows': 15, 'fullWidthRows': True, 'rowHeight': 28, 'autoEdit': False, 'syncColumnCellResize': True, 'forceFitColumns': True}, precision=5, show_toolbar=True)"
      ]
     },
     "metadata": {},
     "output_type": "display_data"
    }
   ],
   "source": [
    "# List the dataframe and edit Qgrid directly (e.g., dbl click and change LZSN to 6) then use qgrid_widget.get_changed_df()\n",
    "qgrid_widget = qgrid.QgridWidget(df=df2.T, show_toolbar=True)\n",
    "qgrid_widget\n"
   ]
  },
  {
   "cell_type": "code",
   "execution_count": 31,
   "metadata": {
    "collapsed": true
   },
   "outputs": [],
   "source": [
    "df3 = qgrid_widget.get_changed_df()\n",
    "df3.T.to_hdf(hdfname, '/PERLND/PWATER/PARAMETERS', data_columns=True, format='table')"
   ]
  },
  {
   "cell_type": "code",
   "execution_count": 32,
   "metadata": {},
   "outputs": [
    {
     "data": {
      "application/vnd.jupyter.widget-view+json": {
       "model_id": "963c11bd956e4e30aa8cda9f8442c8b6",
       "version_major": 2,
       "version_minor": 0
      },
      "text/html": [
       "<p>Failed to display Jupyter Widget of type <code>QgridWidget</code>.</p>\n",
       "<p>\n",
       "  If you're reading this message in the Jupyter Notebook or JupyterLab Notebook, it may mean\n",
       "  that the widgets JavaScript is still loading. If this message persists, it\n",
       "  likely means that the widgets JavaScript library is either not installed or\n",
       "  not enabled. See the <a href=\"https://ipywidgets.readthedocs.io/en/stable/user_install.html\">Jupyter\n",
       "  Widgets Documentation</a> for setup instructions.\n",
       "</p>\n",
       "<p>\n",
       "  If you're reading this message in another frontend (for example, a static\n",
       "  rendering on GitHub or <a href=\"https://nbviewer.jupyter.org/\">NBViewer</a>),\n",
       "  it may mean that your frontend doesn't currently support widgets.\n",
       "</p>\n"
      ],
      "text/plain": [
       "QgridWidget(grid_options={'enableTextSelectionOnCells': True, 'editable': True, 'explicitInitialization': True, 'minVisibleRows': 8, 'enableColumnReorder': False, 'defaultColumnWidth': 150, 'maxVisibleRows': 15, 'fullWidthRows': True, 'rowHeight': 28, 'autoEdit': False, 'syncColumnCellResize': True, 'forceFitColumns': True}, precision=5)"
      ]
     },
     "metadata": {},
     "output_type": "display_data"
    }
   ],
   "source": [
    "# Verify Changed\n",
    "df2 = pd.read_hdf(hdfname, datapath)\n",
    "df2.LZSN"
   ]
  },
  {
   "cell_type": "markdown",
   "metadata": {},
   "source": [
    "### Use HSPTools.csvReader to Update Paramters"
   ]
  },
  {
   "cell_type": "code",
   "execution_count": 14,
   "metadata": {},
   "outputs": [
    {
     "data": {
      "application/vnd.jupyter.widget-view+json": {
       "model_id": "b3a6e9d8bd7747b6b328000aefc3ca82",
       "version_major": 2,
       "version_minor": 0
      },
      "text/html": [
       "<p>Failed to display Jupyter Widget of type <code>QgridWidget</code>.</p>\n",
       "<p>\n",
       "  If you're reading this message in the Jupyter Notebook or JupyterLab Notebook, it may mean\n",
       "  that the widgets JavaScript is still loading. If this message persists, it\n",
       "  likely means that the widgets JavaScript library is either not installed or\n",
       "  not enabled. See the <a href=\"https://ipywidgets.readthedocs.io/en/stable/user_install.html\">Jupyter\n",
       "  Widgets Documentation</a> for setup instructions.\n",
       "</p>\n",
       "<p>\n",
       "  If you're reading this message in another frontend (for example, a static\n",
       "  rendering on GitHub or <a href=\"https://nbviewer.jupyter.org/\">NBViewer</a>),\n",
       "  it may mean that your frontend doesn't currently support widgets.\n",
       "</p>\n"
      ],
      "text/plain": [
       "QgridWidget(grid_options={'enableTextSelectionOnCells': True, 'editable': True, 'explicitInitialization': True, 'minVisibleRows': 8, 'enableColumnReorder': False, 'defaultColumnWidth': 150, 'maxVisibleRows': 15, 'fullWidthRows': True, 'rowHeight': 28, 'autoEdit': False, 'syncColumnCellResize': True, 'forceFitColumns': True}, precision=5)"
      ]
     },
     "metadata": {},
     "output_type": "display_data"
    }
   ],
   "source": [
    "pd.read_csv('TutorialData/PERLND.csv')"
   ]
  },
  {
   "cell_type": "code",
   "execution_count": 33,
   "metadata": {},
   "outputs": [
    {
     "data": {
      "application/vnd.jupyter.widget-view+json": {
       "model_id": "affebdf41a5741948817be240bc4db46",
       "version_major": 2,
       "version_minor": 0
      },
      "text/html": [
       "<p>Failed to display Jupyter Widget of type <code>QgridWidget</code>.</p>\n",
       "<p>\n",
       "  If you're reading this message in the Jupyter Notebook or JupyterLab Notebook, it may mean\n",
       "  that the widgets JavaScript is still loading. If this message persists, it\n",
       "  likely means that the widgets JavaScript library is either not installed or\n",
       "  not enabled. See the <a href=\"https://ipywidgets.readthedocs.io/en/stable/user_install.html\">Jupyter\n",
       "  Widgets Documentation</a> for setup instructions.\n",
       "</p>\n",
       "<p>\n",
       "  If you're reading this message in another frontend (for example, a static\n",
       "  rendering on GitHub or <a href=\"https://nbviewer.jupyter.org/\">NBViewer</a>),\n",
       "  it may mean that your frontend doesn't currently support widgets.\n",
       "</p>\n"
      ],
      "text/plain": [
       "QgridWidget(grid_options={'enableTextSelectionOnCells': True, 'editable': True, 'explicitInitialization': True, 'minVisibleRows': 8, 'enableColumnReorder': False, 'defaultColumnWidth': 150, 'maxVisibleRows': 15, 'fullWidthRows': True, 'rowHeight': 28, 'autoEdit': False, 'syncColumnCellResize': True, 'forceFitColumns': True}, precision=5)"
      ]
     },
     "metadata": {},
     "output_type": "display_data"
    }
   ],
   "source": [
    "# Use CSV to Update the HDF5 File\n",
    "HSP2tools.csvReader(hdfname, 'TutorialData/PERLND.csv', 'PERLND', 'PWATER')\n",
    "# verify changed\n",
    "var = ['INFILT','LZSN']\n",
    "pd.read_hdf(hdfname, datapath)[var]"
   ]
  },
  {
   "cell_type": "markdown",
   "metadata": {},
   "source": [
    "### Use HSPTools.DoE (Design of Experiment) function to Update Paramters"
   ]
  },
  {
   "cell_type": "code",
   "execution_count": 34,
   "metadata": {},
   "outputs": [
    {
     "data": {
      "application/vnd.jupyter.widget-view+json": {
       "model_id": "4deba33ed42e45cf9c49b4ae482e1c1c",
       "version_major": 2,
       "version_minor": 0
      },
      "text/html": [
       "<p>Failed to display Jupyter Widget of type <code>QgridWidget</code>.</p>\n",
       "<p>\n",
       "  If you're reading this message in the Jupyter Notebook or JupyterLab Notebook, it may mean\n",
       "  that the widgets JavaScript is still loading. If this message persists, it\n",
       "  likely means that the widgets JavaScript library is either not installed or\n",
       "  not enabled. See the <a href=\"https://ipywidgets.readthedocs.io/en/stable/user_install.html\">Jupyter\n",
       "  Widgets Documentation</a> for setup instructions.\n",
       "</p>\n",
       "<p>\n",
       "  If you're reading this message in another frontend (for example, a static\n",
       "  rendering on GitHub or <a href=\"https://nbviewer.jupyter.org/\">NBViewer</a>),\n",
       "  it may mean that your frontend doesn't currently support widgets.\n",
       "</p>\n"
      ],
      "text/plain": [
       "QgridWidget(grid_options={'enableTextSelectionOnCells': True, 'editable': True, 'explicitInitialization': True, 'minVisibleRows': 8, 'enableColumnReorder': False, 'defaultColumnWidth': 150, 'maxVisibleRows': 15, 'fullWidthRows': True, 'rowHeight': 28, 'autoEdit': False, 'syncColumnCellResize': True, 'forceFitColumns': True}, precision=5)"
      ]
     },
     "metadata": {},
     "output_type": "display_data"
    }
   ],
   "source": [
    "# How Can we Cange Multiple Parameters and Track Changes\n",
    "# Using the HSP2.DoE approach allows us to create new folders within HDF5 file to document \n",
    "# changes from base and store new results\n",
    "data = [\n",
    " ['1', 'PERLND', 'P001', 'PWATER', 'INFILT',   0.075],\n",
    " ['1', 'PERLND', 'P001', 'PWATER', 'LZSN',         4],\n",
    " ['2', 'PERLND', 'P001', 'PWATER', 'INFILT',    0.30],\n",
    " ['2', 'PERLND', 'P001', 'PWATER', 'LZSN',      12.0]]\n",
    "\n",
    "doe = pd.DataFrame(data, columns=['Run', 'Operation', 'Segment', 'Module', 'Parameter', 'Value'])\n",
    "doe"
   ]
  },
  {
   "cell_type": "code",
   "execution_count": 35,
   "metadata": {},
   "outputs": [
    {
     "name": "stdout",
     "output_type": "stream",
     "text": [
      "2017-12-18 21:47:55.05   HSP2 Started for file TutorialData/Tutorial.h5\n",
      "2017-12-18 21:47:55.05      Design of Experiment HDF5 directory is Sensitivity_LZSN_INFILT\n",
      "2017-12-18 21:47:55.05     Start 1976-01-01 00:00    Stop 1976-12-31 23:59\n",
      "2017-12-18 21:47:55.77   Finished setup\n",
      "2017-12-18 21:47:55.84      Starting RUN 1\n",
      "2017-12-18 21:47:55.84      PERLND P001   DELT=60\n",
      "2017-12-18 21:47:55.98      RCHRES R001   DELT=60\n",
      "SIMPATH is Sensitivity_LZSN_INFILT/RESULTS/RUN1/PERLND_P001/PWATER\n",
      "2017-12-18 21:47:56.01      RCHRES R002   DELT=60\n",
      "SIMPATH is Sensitivity_LZSN_INFILT/RESULTS/RUN1/RCHRES_R001/HYDR\n",
      "2017-12-18 21:47:56.07      RCHRES R003   DELT=60\n",
      "SIMPATH is Sensitivity_LZSN_INFILT/RESULTS/RUN1/RCHRES_R001/HYDR\n",
      "2017-12-18 21:47:56.11      RCHRES R004   DELT=60\n",
      "SIMPATH is Sensitivity_LZSN_INFILT/RESULTS/RUN1/RCHRES_R002/HYDR\n",
      "SIMPATH is Sensitivity_LZSN_INFILT/RESULTS/RUN1/RCHRES_R003/HYDR\n",
      "2017-12-18 21:47:56.15      RCHRES R005   DELT=60\n",
      "SIMPATH is Sensitivity_LZSN_INFILT/RESULTS/RUN1/IMPLND_I001/IWATER\n",
      "NEED NON SIMPATH DATA /RESULTS/IMPLND_I001/IWATER\n",
      "SIMPATH is Sensitivity_LZSN_INFILT/RESULTS/RUN1/RCHRES_R004/HYDR\n",
      "2017-12-18 21:47:56.20      Starting RUN 2\n",
      "2017-12-18 21:47:56.20      PERLND P001   DELT=60\n",
      "2017-12-18 21:47:56.35      RCHRES R001   DELT=60\n",
      "SIMPATH is Sensitivity_LZSN_INFILT/RESULTS/RUN2/PERLND_P001/PWATER\n",
      "2017-12-18 21:47:56.40      RCHRES R002   DELT=60\n",
      "SIMPATH is Sensitivity_LZSN_INFILT/RESULTS/RUN2/RCHRES_R001/HYDR\n",
      "2017-12-18 21:47:56.47      RCHRES R003   DELT=60\n",
      "SIMPATH is Sensitivity_LZSN_INFILT/RESULTS/RUN2/RCHRES_R001/HYDR\n",
      "2017-12-18 21:47:56.50      RCHRES R004   DELT=60\n",
      "SIMPATH is Sensitivity_LZSN_INFILT/RESULTS/RUN2/RCHRES_R002/HYDR\n",
      "SIMPATH is Sensitivity_LZSN_INFILT/RESULTS/RUN2/RCHRES_R003/HYDR\n",
      "2017-12-18 21:47:56.57      RCHRES R005   DELT=60\n",
      "SIMPATH is Sensitivity_LZSN_INFILT/RESULTS/RUN2/IMPLND_I001/IWATER\n",
      "NEED NON SIMPATH DATA /RESULTS/IMPLND_I001/IWATER\n",
      "SIMPATH is Sensitivity_LZSN_INFILT/RESULTS/RUN2/RCHRES_R004/HYDR\n",
      "2017-12-18 21:47:56.60   Run completed\n"
     ]
    }
   ],
   "source": [
    "HSP2.run_DoE(hdfname, 'Sensitivity_LZSN_INFILT', doe, saveall=True)"
   ]
  },
  {
   "cell_type": "code",
   "execution_count": 36,
   "metadata": {},
   "outputs": [
    {
     "data": {
      "application/vnd.jupyter.widget-view+json": {
       "model_id": "63b29b1526da40a6b622c048dd8ba8eb",
       "version_major": 2,
       "version_minor": 0
      },
      "text/html": [
       "<p>Failed to display Jupyter Widget of type <code>QgridWidget</code>.</p>\n",
       "<p>\n",
       "  If you're reading this message in the Jupyter Notebook or JupyterLab Notebook, it may mean\n",
       "  that the widgets JavaScript is still loading. If this message persists, it\n",
       "  likely means that the widgets JavaScript library is either not installed or\n",
       "  not enabled. See the <a href=\"https://ipywidgets.readthedocs.io/en/stable/user_install.html\">Jupyter\n",
       "  Widgets Documentation</a> for setup instructions.\n",
       "</p>\n",
       "<p>\n",
       "  If you're reading this message in another frontend (for example, a static\n",
       "  rendering on GitHub or <a href=\"https://nbviewer.jupyter.org/\">NBViewer</a>),\n",
       "  it may mean that your frontend doesn't currently support widgets.\n",
       "</p>\n"
      ],
      "text/plain": [
       "QgridWidget(grid_options={'enableTextSelectionOnCells': True, 'editable': True, 'explicitInitialization': True, 'minVisibleRows': 8, 'enableColumnReorder': False, 'defaultColumnWidth': 150, 'maxVisibleRows': 15, 'fullWidthRows': True, 'rowHeight': 28, 'autoEdit': False, 'syncColumnCellResize': True, 'forceFitColumns': True}, precision=5)"
      ]
     },
     "metadata": {},
     "output_type": "display_data"
    }
   ],
   "source": [
    "# Acquire and Calculate Stats on Run 1 & Run 2 and Compare to Master\n",
    "tsRun_1  = pd.read_hdf(hdfname, 'Sensitivity_LZSN_INFILT/RESULTS/RUN1/RCHRES_R001/HYDR')\n",
    "tsRun_2  = pd.read_hdf(hdfname, 'Sensitivity_LZSN_INFILT/RESULTS/RUN2/RCHRES_R001/HYDR')\n",
    "\n",
    "dfStats.Run1 = tsRun_1.RO.describe()\n",
    "dfStats.Run2 = tsRun_2.RO.describe()\n",
    "dfStats"
   ]
  },
  {
   "cell_type": "code",
   "execution_count": 37,
   "metadata": {},
   "outputs": [
    {
     "data": {
      "text/plain": [
       "<matplotlib.legend.Legend at 0x5c67da0>"
      ]
     },
     "execution_count": 37,
     "metadata": {},
     "output_type": "execute_result"
    },
    {
     "data": {
      "image/png": "[encoded data removed]",
      "text/plain": [
       "<matplotlib.figure.Figure at 0xe85bbe0>"
      ]
     },
     "metadata": {},
     "output_type": "display_data"
    }
   ],
   "source": [
    "m_plt.figure(figsize=(16,8))\n",
    "m_plt.plot('RO', 'b--', data=tsMaster,   label='Master')\n",
    "m_plt.plot('RO', 'r',   data=tsRun_1,    label='Run1')\n",
    "m_plt.plot('RO', 'g-',   data=tsRun_2,  label='Run2')\n",
    "m_plt.title('Flow at Reach 1')\n",
    "m_plt.ylabel('Hourly Flow {CFS}')\n",
    "m_plt.legend(loc='best') "
   ]
  },
  {
   "cell_type": "code",
   "execution_count": 38,
   "metadata": {},
   "outputs": [
    {
     "data": {
      "text/plain": [
       "<matplotlib.legend.Legend at 0xee9e630>"
      ]
     },
     "execution_count": 38,
     "metadata": {},
     "output_type": "execute_result"
    },
    {
     "data": {
      "image/png": "[encoded data removed]",
      "text/plain": [
       "<matplotlib.figure.Figure at 0x11224208>"
      ]
     },
     "metadata": {},
     "output_type": "display_data"
    }
   ],
   "source": [
    "# Resample for Monthly Flow\n",
    "m_plt.figure(figsize=(16,8))\n",
    "m_plt.plot('RO', 'b--', data=tsMaster.resample('M').mean(),   label='Master')\n",
    "m_plt.plot('RO', 'r',   data=tsRun_1.resample('M').mean(),    label='Run1')\n",
    "m_plt.plot('RO', 'g-',   data=tsRun_2.resample('M').mean(),  label='Run2')\n",
    "m_plt.title('Flow at Reach 1')\n",
    "m_plt.ylabel('Monthly Flow {CFS}')\n",
    "m_plt.legend(loc='best') "
   ]
  },
  {
   "cell_type": "code",
   "execution_count": 39,
   "metadata": {},
   "outputs": [
    {
     "data": {
      "application/vnd.jupyter.widget-view+json": {
       "model_id": "97b5e7941b3244c1b5b766e69ac4c16c",
       "version_major": 2,
       "version_minor": 0
      },
      "text/html": [
       "<p>Failed to display Jupyter Widget of type <code>QgridWidget</code>.</p>\n",
       "<p>\n",
       "  If you're reading this message in the Jupyter Notebook or JupyterLab Notebook, it may mean\n",
       "  that the widgets JavaScript is still loading. If this message persists, it\n",
       "  likely means that the widgets JavaScript library is either not installed or\n",
       "  not enabled. See the <a href=\"https://ipywidgets.readthedocs.io/en/stable/user_install.html\">Jupyter\n",
       "  Widgets Documentation</a> for setup instructions.\n",
       "</p>\n",
       "<p>\n",
       "  If you're reading this message in another frontend (for example, a static\n",
       "  rendering on GitHub or <a href=\"https://nbviewer.jupyter.org/\">NBViewer</a>),\n",
       "  it may mean that your frontend doesn't currently support widgets.\n",
       "</p>\n"
      ],
      "text/plain": [
       "QgridWidget(grid_options={'enableTextSelectionOnCells': True, 'editable': True, 'explicitInitialization': True, 'minVisibleRows': 8, 'enableColumnReorder': False, 'defaultColumnWidth': 150, 'maxVisibleRows': 15, 'fullWidthRows': True, 'rowHeight': 28, 'autoEdit': False, 'syncColumnCellResize': True, 'forceFitColumns': True}, precision=5)"
      ]
     },
     "metadata": {},
     "output_type": "display_data"
    }
   ],
   "source": [
    "# Use DoE approach to do a quick sensitivity analysis of LZSN\n",
    "N = 20   # number of runs - generally large such as 1000 or 10,000\n",
    "data = []\n",
    "for r in range(1, N+1):\n",
    "    run = str(r+10)\n",
    "    data.append([run,'PERLND','P001','PWATER','LZSN', 1 + float(np.random.rand(1)) * 15])\n",
    "   \n",
    "doe = pd.DataFrame(data, columns=['Run', 'Operation', 'Segment', 'Module', 'Parameter', 'Value'])\n",
    "doe"
   ]
  },
  {
   "cell_type": "code",
   "execution_count": 40,
   "metadata": {},
   "outputs": [
    {
     "name": "stdout",
     "output_type": "stream",
     "text": [
      "2017-12-18 21:48:52.10   HSP2 Started for file TutorialData/Tutorial.h5\n",
      "2017-12-18 21:48:52.10      Design of Experiment HDF5 directory is P001_LZSN\n",
      "2017-12-18 21:48:52.11     Start 1976-01-01 00:00    Stop 1976-12-31 23:59\n",
      "2017-12-18 21:48:52.80   Finished setup\n",
      "2017-12-18 21:48:52.82      Starting RUN 11\n",
      "2017-12-18 21:48:52.83      PERLND P001   DELT=60\n",
      "2017-12-18 21:48:52.94      RCHRES R001   DELT=60\n",
      "SIMPATH is P001_LZSN/RESULTS/RUN11/PERLND_P001/PWATER\n",
      "2017-12-18 21:48:52.99      RCHRES R002   DELT=60\n",
      "SIMPATH is P001_LZSN/RESULTS/RUN11/RCHRES_R001/HYDR\n",
      "2017-12-18 21:48:53.01      RCHRES R003   DELT=60\n",
      "SIMPATH is P001_LZSN/RESULTS/RUN11/RCHRES_R001/HYDR\n",
      "2017-12-18 21:48:53.06      RCHRES R004   DELT=60\n",
      "SIMPATH is P001_LZSN/RESULTS/RUN11/RCHRES_R002/HYDR\n",
      "SIMPATH is P001_LZSN/RESULTS/RUN11/RCHRES_R003/HYDR\n",
      "2017-12-18 21:48:53.13      RCHRES R005   DELT=60\n",
      "SIMPATH is P001_LZSN/RESULTS/RUN11/IMPLND_I001/IWATER\n",
      "NEED NON SIMPATH DATA /RESULTS/IMPLND_I001/IWATER\n",
      "SIMPATH is P001_LZSN/RESULTS/RUN11/RCHRES_R004/HYDR\n",
      "2017-12-18 21:48:53.17      Starting RUN 12\n",
      "2017-12-18 21:48:53.17      PERLND P001   DELT=60\n",
      "2017-12-18 21:48:53.27      RCHRES R001   DELT=60\n",
      "SIMPATH is P001_LZSN/RESULTS/RUN12/PERLND_P001/PWATER\n",
      "2017-12-18 21:48:53.34      RCHRES R002   DELT=60\n",
      "SIMPATH is P001_LZSN/RESULTS/RUN12/RCHRES_R001/HYDR\n",
      "2017-12-18 21:48:53.40      RCHRES R003   DELT=60\n",
      "SIMPATH is P001_LZSN/RESULTS/RUN12/RCHRES_R001/HYDR\n",
      "2017-12-18 21:48:53.43      RCHRES R004   DELT=60\n",
      "SIMPATH is P001_LZSN/RESULTS/RUN12/RCHRES_R002/HYDR\n",
      "SIMPATH is P001_LZSN/RESULTS/RUN12/RCHRES_R003/HYDR\n",
      "2017-12-18 21:48:53.48      RCHRES R005   DELT=60\n",
      "SIMPATH is P001_LZSN/RESULTS/RUN12/IMPLND_I001/IWATER\n",
      "NEED NON SIMPATH DATA /RESULTS/IMPLND_I001/IWATER\n",
      "SIMPATH is P001_LZSN/RESULTS/RUN12/RCHRES_R004/HYDR\n",
      "2017-12-18 21:48:53.52      Starting RUN 13\n",
      "2017-12-18 21:48:53.53      PERLND P001   DELT=60\n",
      "2017-12-18 21:48:53.65      RCHRES R001   DELT=60\n",
      "SIMPATH is P001_LZSN/RESULTS/RUN13/PERLND_P001/PWATER\n",
      "2017-12-18 21:48:53.69      RCHRES R002   DELT=60\n",
      "SIMPATH is P001_LZSN/RESULTS/RUN13/RCHRES_R001/HYDR\n",
      "2017-12-18 21:48:53.74      RCHRES R003   DELT=60\n",
      "SIMPATH is P001_LZSN/RESULTS/RUN13/RCHRES_R001/HYDR\n",
      "2017-12-18 21:48:53.77      RCHRES R004   DELT=60\n",
      "SIMPATH is P001_LZSN/RESULTS/RUN13/RCHRES_R002/HYDR\n",
      "SIMPATH is P001_LZSN/RESULTS/RUN13/RCHRES_R003/HYDR\n",
      "2017-12-18 21:48:53.83      RCHRES R005   DELT=60\n",
      "SIMPATH is P001_LZSN/RESULTS/RUN13/IMPLND_I001/IWATER\n",
      "NEED NON SIMPATH DATA /RESULTS/IMPLND_I001/IWATER\n",
      "SIMPATH is P001_LZSN/RESULTS/RUN13/RCHRES_R004/HYDR\n",
      "2017-12-18 21:48:53.88      Starting RUN 14\n",
      "2017-12-18 21:48:53.88      PERLND P001   DELT=60\n",
      "2017-12-18 21:48:54.01      RCHRES R001   DELT=60\n",
      "SIMPATH is P001_LZSN/RESULTS/RUN14/PERLND_P001/PWATER\n",
      "2017-12-18 21:48:54.08      RCHRES R002   DELT=60\n",
      "SIMPATH is P001_LZSN/RESULTS/RUN14/RCHRES_R001/HYDR\n",
      "2017-12-18 21:48:54.11      RCHRES R003   DELT=60\n",
      "SIMPATH is P001_LZSN/RESULTS/RUN14/RCHRES_R001/HYDR\n",
      "2017-12-18 21:48:54.13      RCHRES R004   DELT=60\n",
      "SIMPATH is P001_LZSN/RESULTS/RUN14/RCHRES_R002/HYDR\n",
      "SIMPATH is P001_LZSN/RESULTS/RUN14/RCHRES_R003/HYDR\n",
      "2017-12-18 21:48:54.19      RCHRES R005   DELT=60\n",
      "SIMPATH is P001_LZSN/RESULTS/RUN14/IMPLND_I001/IWATER\n",
      "NEED NON SIMPATH DATA /RESULTS/IMPLND_I001/IWATER\n",
      "SIMPATH is P001_LZSN/RESULTS/RUN14/RCHRES_R004/HYDR\n",
      "2017-12-18 21:48:54.24      Starting RUN 15\n",
      "2017-12-18 21:48:54.24      PERLND P001   DELT=60\n",
      "2017-12-18 21:48:54.36      RCHRES R001   DELT=60\n",
      "SIMPATH is P001_LZSN/RESULTS/RUN15/PERLND_P001/PWATER\n",
      "2017-12-18 21:48:54.41      RCHRES R002   DELT=60\n",
      "SIMPATH is P001_LZSN/RESULTS/RUN15/RCHRES_R001/HYDR\n",
      "2017-12-18 21:48:54.47      RCHRES R003   DELT=60\n",
      "SIMPATH is P001_LZSN/RESULTS/RUN15/RCHRES_R001/HYDR\n",
      "2017-12-18 21:48:54.52      RCHRES R004   DELT=60\n",
      "SIMPATH is P001_LZSN/RESULTS/RUN15/RCHRES_R002/HYDR\n",
      "SIMPATH is P001_LZSN/RESULTS/RUN15/RCHRES_R003/HYDR\n",
      "2017-12-18 21:48:54.56      RCHRES R005   DELT=60\n",
      "SIMPATH is P001_LZSN/RESULTS/RUN15/IMPLND_I001/IWATER\n",
      "NEED NON SIMPATH DATA /RESULTS/IMPLND_I001/IWATER\n",
      "SIMPATH is P001_LZSN/RESULTS/RUN15/RCHRES_R004/HYDR\n",
      "2017-12-18 21:48:54.64      Starting RUN 16\n",
      "2017-12-18 21:48:54.64      PERLND P001   DELT=60\n",
      "2017-12-18 21:48:54.74      RCHRES R001   DELT=60\n",
      "SIMPATH is P001_LZSN/RESULTS/RUN16/PERLND_P001/PWATER\n",
      "2017-12-18 21:48:54.78      RCHRES R002   DELT=60\n",
      "SIMPATH is P001_LZSN/RESULTS/RUN16/RCHRES_R001/HYDR\n",
      "2017-12-18 21:48:54.84      RCHRES R003   DELT=60\n",
      "SIMPATH is P001_LZSN/RESULTS/RUN16/RCHRES_R001/HYDR\n",
      "2017-12-18 21:48:54.90      RCHRES R004   DELT=60\n",
      "SIMPATH is P001_LZSN/RESULTS/RUN16/RCHRES_R002/HYDR\n",
      "SIMPATH is P001_LZSN/RESULTS/RUN16/RCHRES_R003/HYDR\n",
      "2017-12-18 21:48:54.95      RCHRES R005   DELT=60\n",
      "SIMPATH is P001_LZSN/RESULTS/RUN16/IMPLND_I001/IWATER\n",
      "NEED NON SIMPATH DATA /RESULTS/IMPLND_I001/IWATER\n",
      "SIMPATH is P001_LZSN/RESULTS/RUN16/RCHRES_R004/HYDR\n",
      "2017-12-18 21:48:55.00      Starting RUN 17\n",
      "2017-12-18 21:48:55.00      PERLND P001   DELT=60\n",
      "2017-12-18 21:48:55.13      RCHRES R001   DELT=60\n",
      "SIMPATH is P001_LZSN/RESULTS/RUN17/PERLND_P001/PWATER\n",
      "2017-12-18 21:48:55.17      RCHRES R002   DELT=60\n",
      "SIMPATH is P001_LZSN/RESULTS/RUN17/RCHRES_R001/HYDR\n",
      "2017-12-18 21:48:55.23      RCHRES R003   DELT=60\n",
      "SIMPATH is P001_LZSN/RESULTS/RUN17/RCHRES_R001/HYDR\n",
      "2017-12-18 21:48:55.26      RCHRES R004   DELT=60\n",
      "SIMPATH is P001_LZSN/RESULTS/RUN17/RCHRES_R002/HYDR\n",
      "SIMPATH is P001_LZSN/RESULTS/RUN17/RCHRES_R003/HYDR\n",
      "2017-12-18 21:48:55.34      RCHRES R005   DELT=60\n",
      "SIMPATH is P001_LZSN/RESULTS/RUN17/IMPLND_I001/IWATER\n",
      "NEED NON SIMPATH DATA /RESULTS/IMPLND_I001/IWATER\n",
      "SIMPATH is P001_LZSN/RESULTS/RUN17/RCHRES_R004/HYDR\n",
      "2017-12-18 21:48:55.38      Starting RUN 18\n",
      "2017-12-18 21:48:55.39      PERLND P001   DELT=60\n",
      "2017-12-18 21:48:55.54      RCHRES R001   DELT=60\n",
      "SIMPATH is P001_LZSN/RESULTS/RUN18/PERLND_P001/PWATER\n",
      "2017-12-18 21:48:55.57      RCHRES R002   DELT=60\n",
      "SIMPATH is P001_LZSN/RESULTS/RUN18/RCHRES_R001/HYDR\n",
      "2017-12-18 21:48:55.64      RCHRES R003   DELT=60\n",
      "SIMPATH is P001_LZSN/RESULTS/RUN18/RCHRES_R001/HYDR\n",
      "2017-12-18 21:48:55.69      RCHRES R004   DELT=60\n",
      "SIMPATH is P001_LZSN/RESULTS/RUN18/RCHRES_R002/HYDR\n",
      "SIMPATH is P001_LZSN/RESULTS/RUN18/RCHRES_R003/HYDR\n",
      "2017-12-18 21:48:55.73      RCHRES R005   DELT=60\n",
      "SIMPATH is P001_LZSN/RESULTS/RUN18/IMPLND_I001/IWATER\n",
      "NEED NON SIMPATH DATA /RESULTS/IMPLND_I001/IWATER\n",
      "SIMPATH is P001_LZSN/RESULTS/RUN18/RCHRES_R004/HYDR\n",
      "2017-12-18 21:48:55.78      Starting RUN 19\n",
      "2017-12-18 21:48:55.78      PERLND P001   DELT=60\n",
      "2017-12-18 21:48:55.91      RCHRES R001   DELT=60\n",
      "SIMPATH is P001_LZSN/RESULTS/RUN19/PERLND_P001/PWATER\n",
      "2017-12-18 21:48:55.94      RCHRES R002   DELT=60\n",
      "SIMPATH is P001_LZSN/RESULTS/RUN19/RCHRES_R001/HYDR\n",
      "2017-12-18 21:48:56      RCHRES R003   DELT=60\n",
      "SIMPATH is P001_LZSN/RESULTS/RUN19/RCHRES_R001/HYDR\n",
      "2017-12-18 21:48:56.03      RCHRES R004   DELT=60\n",
      "SIMPATH is P001_LZSN/RESULTS/RUN19/RCHRES_R002/HYDR\n",
      "SIMPATH is P001_LZSN/RESULTS/RUN19/RCHRES_R003/HYDR\n",
      "2017-12-18 21:48:56.12      RCHRES R005   DELT=60\n",
      "SIMPATH is P001_LZSN/RESULTS/RUN19/IMPLND_I001/IWATER\n",
      "NEED NON SIMPATH DATA /RESULTS/IMPLND_I001/IWATER\n",
      "SIMPATH is P001_LZSN/RESULTS/RUN19/RCHRES_R004/HYDR\n",
      "2017-12-18 21:48:56.16      Starting RUN 20\n",
      "2017-12-18 21:48:56.18      PERLND P001   DELT=60\n",
      "2017-12-18 21:48:56.26      RCHRES R001   DELT=60\n",
      "SIMPATH is P001_LZSN/RESULTS/RUN20/PERLND_P001/PWATER\n",
      "2017-12-18 21:48:56.33      RCHRES R002   DELT=60\n",
      "SIMPATH is P001_LZSN/RESULTS/RUN20/RCHRES_R001/HYDR\n",
      "2017-12-18 21:48:56.38      RCHRES R003   DELT=60\n",
      "SIMPATH is P001_LZSN/RESULTS/RUN20/RCHRES_R001/HYDR\n",
      "2017-12-18 21:48:56.42      RCHRES R004   DELT=60\n",
      "SIMPATH is P001_LZSN/RESULTS/RUN20/RCHRES_R002/HYDR\n",
      "SIMPATH is P001_LZSN/RESULTS/RUN20/RCHRES_R003/HYDR\n",
      "2017-12-18 21:48:56.47      RCHRES R005   DELT=60\n",
      "SIMPATH is P001_LZSN/RESULTS/RUN20/IMPLND_I001/IWATER\n",
      "NEED NON SIMPATH DATA /RESULTS/IMPLND_I001/IWATER\n",
      "SIMPATH is P001_LZSN/RESULTS/RUN20/RCHRES_R004/HYDR\n",
      "2017-12-18 21:48:56.52      Starting RUN 21\n",
      "2017-12-18 21:48:56.52      PERLND P001   DELT=60\n",
      "2017-12-18 21:48:56.65      RCHRES R001   DELT=60\n",
      "SIMPATH is P001_LZSN/RESULTS/RUN21/PERLND_P001/PWATER\n",
      "2017-12-18 21:48:56.68      RCHRES R002   DELT=60\n",
      "SIMPATH is P001_LZSN/RESULTS/RUN21/RCHRES_R001/HYDR\n",
      "2017-12-18 21:48:56.76      RCHRES R003   DELT=60\n",
      "SIMPATH is P001_LZSN/RESULTS/RUN21/RCHRES_R001/HYDR\n",
      "2017-12-18 21:48:56.79      RCHRES R004   DELT=60\n",
      "SIMPATH is P001_LZSN/RESULTS/RUN21/RCHRES_R002/HYDR\n",
      "SIMPATH is P001_LZSN/RESULTS/RUN21/RCHRES_R003/HYDR\n",
      "2017-12-18 21:48:56.84      RCHRES R005   DELT=60\n",
      "SIMPATH is P001_LZSN/RESULTS/RUN21/IMPLND_I001/IWATER\n",
      "NEED NON SIMPATH DATA /RESULTS/IMPLND_I001/IWATER\n",
      "SIMPATH is P001_LZSN/RESULTS/RUN21/RCHRES_R004/HYDR\n"
     ]
    },
    {
     "name": "stdout",
     "output_type": "stream",
     "text": [
      "2017-12-18 21:48:56.90      Starting RUN 22\n",
      "2017-12-18 21:48:56.90      PERLND P001   DELT=60\n",
      "2017-12-18 21:48:57.01      RCHRES R001   DELT=60\n",
      "SIMPATH is P001_LZSN/RESULTS/RUN22/PERLND_P001/PWATER\n",
      "2017-12-18 21:48:57.06      RCHRES R002   DELT=60\n",
      "SIMPATH is P001_LZSN/RESULTS/RUN22/RCHRES_R001/HYDR\n",
      "2017-12-18 21:48:57.11      RCHRES R003   DELT=60\n",
      "SIMPATH is P001_LZSN/RESULTS/RUN22/RCHRES_R001/HYDR\n",
      "2017-12-18 21:48:57.14      RCHRES R004   DELT=60\n",
      "SIMPATH is P001_LZSN/RESULTS/RUN22/RCHRES_R002/HYDR\n",
      "SIMPATH is P001_LZSN/RESULTS/RUN22/RCHRES_R003/HYDR\n",
      "2017-12-18 21:48:57.21      RCHRES R005   DELT=60\n",
      "SIMPATH is P001_LZSN/RESULTS/RUN22/IMPLND_I001/IWATER\n",
      "NEED NON SIMPATH DATA /RESULTS/IMPLND_I001/IWATER\n",
      "SIMPATH is P001_LZSN/RESULTS/RUN22/RCHRES_R004/HYDR\n",
      "2017-12-18 21:48:57.27      Starting RUN 23\n",
      "2017-12-18 21:48:57.27      PERLND P001   DELT=60\n",
      "2017-12-18 21:48:57.38      RCHRES R001   DELT=60\n",
      "SIMPATH is P001_LZSN/RESULTS/RUN23/PERLND_P001/PWATER\n",
      "2017-12-18 21:48:57.43      RCHRES R002   DELT=60\n",
      "SIMPATH is P001_LZSN/RESULTS/RUN23/RCHRES_R001/HYDR\n",
      "2017-12-18 21:48:57.47      RCHRES R003   DELT=60\n",
      "SIMPATH is P001_LZSN/RESULTS/RUN23/RCHRES_R001/HYDR\n",
      "2017-12-18 21:48:57.50      RCHRES R004   DELT=60\n",
      "SIMPATH is P001_LZSN/RESULTS/RUN23/RCHRES_R002/HYDR\n",
      "SIMPATH is P001_LZSN/RESULTS/RUN23/RCHRES_R003/HYDR\n",
      "2017-12-18 21:48:57.55      RCHRES R005   DELT=60\n",
      "SIMPATH is P001_LZSN/RESULTS/RUN23/IMPLND_I001/IWATER\n",
      "NEED NON SIMPATH DATA /RESULTS/IMPLND_I001/IWATER\n",
      "SIMPATH is P001_LZSN/RESULTS/RUN23/RCHRES_R004/HYDR\n",
      "2017-12-18 21:48:57.60      Starting RUN 24\n",
      "2017-12-18 21:48:57.60      PERLND P001   DELT=60\n",
      "2017-12-18 21:48:57.74      RCHRES R001   DELT=60\n",
      "SIMPATH is P001_LZSN/RESULTS/RUN24/PERLND_P001/PWATER\n",
      "2017-12-18 21:48:57.78      RCHRES R002   DELT=60\n",
      "SIMPATH is P001_LZSN/RESULTS/RUN24/RCHRES_R001/HYDR\n",
      "2017-12-18 21:48:57.82      RCHRES R003   DELT=60\n",
      "SIMPATH is P001_LZSN/RESULTS/RUN24/RCHRES_R001/HYDR\n",
      "2017-12-18 21:48:57.86      RCHRES R004   DELT=60\n",
      "SIMPATH is P001_LZSN/RESULTS/RUN24/RCHRES_R002/HYDR\n",
      "SIMPATH is P001_LZSN/RESULTS/RUN24/RCHRES_R003/HYDR\n",
      "2017-12-18 21:48:57.92      RCHRES R005   DELT=60\n",
      "SIMPATH is P001_LZSN/RESULTS/RUN24/IMPLND_I001/IWATER\n",
      "NEED NON SIMPATH DATA /RESULTS/IMPLND_I001/IWATER\n",
      "SIMPATH is P001_LZSN/RESULTS/RUN24/RCHRES_R004/HYDR\n",
      "2017-12-18 21:48:57.98      Starting RUN 25\n",
      "2017-12-18 21:48:57.98      PERLND P001   DELT=60\n",
      "2017-12-18 21:48:58.11      RCHRES R001   DELT=60\n",
      "SIMPATH is P001_LZSN/RESULTS/RUN25/PERLND_P001/PWATER\n",
      "2017-12-18 21:48:58.16      RCHRES R002   DELT=60\n",
      "SIMPATH is P001_LZSN/RESULTS/RUN25/RCHRES_R001/HYDR\n",
      "2017-12-18 21:48:58.22      RCHRES R003   DELT=60\n",
      "SIMPATH is P001_LZSN/RESULTS/RUN25/RCHRES_R001/HYDR\n",
      "2017-12-18 21:48:58.24      RCHRES R004   DELT=60\n",
      "SIMPATH is P001_LZSN/RESULTS/RUN25/RCHRES_R002/HYDR\n",
      "SIMPATH is P001_LZSN/RESULTS/RUN25/RCHRES_R003/HYDR\n",
      "2017-12-18 21:48:58.28      RCHRES R005   DELT=60\n",
      "SIMPATH is P001_LZSN/RESULTS/RUN25/IMPLND_I001/IWATER\n",
      "NEED NON SIMPATH DATA /RESULTS/IMPLND_I001/IWATER\n",
      "SIMPATH is P001_LZSN/RESULTS/RUN25/RCHRES_R004/HYDR\n",
      "2017-12-18 21:48:58.35      Starting RUN 26\n",
      "2017-12-18 21:48:58.35      PERLND P001   DELT=60\n",
      "2017-12-18 21:48:58.47      RCHRES R001   DELT=60\n",
      "SIMPATH is P001_LZSN/RESULTS/RUN26/PERLND_P001/PWATER\n",
      "2017-12-18 21:48:58.52      RCHRES R002   DELT=60\n",
      "SIMPATH is P001_LZSN/RESULTS/RUN26/RCHRES_R001/HYDR\n",
      "2017-12-18 21:48:58.56      RCHRES R003   DELT=60\n",
      "SIMPATH is P001_LZSN/RESULTS/RUN26/RCHRES_R001/HYDR\n",
      "2017-12-18 21:48:58.61      RCHRES R004   DELT=60\n",
      "SIMPATH is P001_LZSN/RESULTS/RUN26/RCHRES_R002/HYDR\n",
      "SIMPATH is P001_LZSN/RESULTS/RUN26/RCHRES_R003/HYDR\n",
      "2017-12-18 21:48:58.66      RCHRES R005   DELT=60\n",
      "SIMPATH is P001_LZSN/RESULTS/RUN26/IMPLND_I001/IWATER\n",
      "NEED NON SIMPATH DATA /RESULTS/IMPLND_I001/IWATER\n",
      "SIMPATH is P001_LZSN/RESULTS/RUN26/RCHRES_R004/HYDR\n",
      "2017-12-18 21:48:58.72      Starting RUN 27\n",
      "2017-12-18 21:48:58.72      PERLND P001   DELT=60\n",
      "2017-12-18 21:48:58.84      RCHRES R001   DELT=60\n",
      "SIMPATH is P001_LZSN/RESULTS/RUN27/PERLND_P001/PWATER\n",
      "2017-12-18 21:48:58.87      RCHRES R002   DELT=60\n",
      "SIMPATH is P001_LZSN/RESULTS/RUN27/RCHRES_R001/HYDR\n",
      "2017-12-18 21:48:58.94      RCHRES R003   DELT=60\n",
      "SIMPATH is P001_LZSN/RESULTS/RUN27/RCHRES_R001/HYDR\n",
      "2017-12-18 21:48:58.98      RCHRES R004   DELT=60\n",
      "SIMPATH is P001_LZSN/RESULTS/RUN27/RCHRES_R002/HYDR\n",
      "SIMPATH is P001_LZSN/RESULTS/RUN27/RCHRES_R003/HYDR\n",
      "2017-12-18 21:48:59.02      RCHRES R005   DELT=60\n",
      "SIMPATH is P001_LZSN/RESULTS/RUN27/IMPLND_I001/IWATER\n",
      "NEED NON SIMPATH DATA /RESULTS/IMPLND_I001/IWATER\n",
      "SIMPATH is P001_LZSN/RESULTS/RUN27/RCHRES_R004/HYDR\n",
      "2017-12-18 21:48:59.08      Starting RUN 28\n",
      "2017-12-18 21:48:59.08      PERLND P001   DELT=60\n",
      "2017-12-18 21:48:59.22      RCHRES R001   DELT=60\n",
      "SIMPATH is P001_LZSN/RESULTS/RUN28/PERLND_P001/PWATER\n",
      "2017-12-18 21:48:59.25      RCHRES R002   DELT=60\n",
      "SIMPATH is P001_LZSN/RESULTS/RUN28/RCHRES_R001/HYDR\n",
      "2017-12-18 21:48:59.29      RCHRES R003   DELT=60\n",
      "SIMPATH is P001_LZSN/RESULTS/RUN28/RCHRES_R001/HYDR\n",
      "2017-12-18 21:48:59.33      RCHRES R004   DELT=60\n",
      "SIMPATH is P001_LZSN/RESULTS/RUN28/RCHRES_R002/HYDR\n",
      "SIMPATH is P001_LZSN/RESULTS/RUN28/RCHRES_R003/HYDR\n",
      "2017-12-18 21:48:59.41      RCHRES R005   DELT=60\n",
      "SIMPATH is P001_LZSN/RESULTS/RUN28/IMPLND_I001/IWATER\n",
      "NEED NON SIMPATH DATA /RESULTS/IMPLND_I001/IWATER\n",
      "SIMPATH is P001_LZSN/RESULTS/RUN28/RCHRES_R004/HYDR\n",
      "2017-12-18 21:48:59.46      Starting RUN 29\n",
      "2017-12-18 21:48:59.47      PERLND P001   DELT=60\n",
      "2017-12-18 21:48:59.57      RCHRES R001   DELT=60\n",
      "SIMPATH is P001_LZSN/RESULTS/RUN29/PERLND_P001/PWATER\n",
      "2017-12-18 21:48:59.62      RCHRES R002   DELT=60\n",
      "SIMPATH is P001_LZSN/RESULTS/RUN29/RCHRES_R001/HYDR\n",
      "2017-12-18 21:48:59.65      RCHRES R003   DELT=60\n",
      "SIMPATH is P001_LZSN/RESULTS/RUN29/RCHRES_R001/HYDR\n",
      "2017-12-18 21:48:59.70      RCHRES R004   DELT=60\n",
      "SIMPATH is P001_LZSN/RESULTS/RUN29/RCHRES_R002/HYDR\n",
      "SIMPATH is P001_LZSN/RESULTS/RUN29/RCHRES_R003/HYDR\n",
      "2017-12-18 21:48:59.75      RCHRES R005   DELT=60\n",
      "SIMPATH is P001_LZSN/RESULTS/RUN29/IMPLND_I001/IWATER\n",
      "NEED NON SIMPATH DATA /RESULTS/IMPLND_I001/IWATER\n",
      "SIMPATH is P001_LZSN/RESULTS/RUN29/RCHRES_R004/HYDR\n",
      "2017-12-18 21:48:59.82      Starting RUN 30\n",
      "2017-12-18 21:48:59.82      PERLND P001   DELT=60\n",
      "2017-12-18 21:48:59.95      RCHRES R001   DELT=60\n",
      "SIMPATH is P001_LZSN/RESULTS/RUN30/PERLND_P001/PWATER\n",
      "2017-12-18 21:49:00.01      RCHRES R002   DELT=60\n",
      "SIMPATH is P001_LZSN/RESULTS/RUN30/RCHRES_R001/HYDR\n",
      "2017-12-18 21:49:00.07      RCHRES R003   DELT=60\n",
      "SIMPATH is P001_LZSN/RESULTS/RUN30/RCHRES_R001/HYDR\n",
      "2017-12-18 21:49:00.13      RCHRES R004   DELT=60\n",
      "SIMPATH is P001_LZSN/RESULTS/RUN30/RCHRES_R002/HYDR\n",
      "SIMPATH is P001_LZSN/RESULTS/RUN30/RCHRES_R003/HYDR\n",
      "2017-12-18 21:49:00.18      RCHRES R005   DELT=60\n",
      "SIMPATH is P001_LZSN/RESULTS/RUN30/IMPLND_I001/IWATER\n",
      "NEED NON SIMPATH DATA /RESULTS/IMPLND_I001/IWATER\n",
      "SIMPATH is P001_LZSN/RESULTS/RUN30/RCHRES_R004/HYDR\n",
      "2017-12-18 21:49:00.23   Run completed\n"
     ]
    }
   ],
   "source": [
    "HSP2.run_DoE(hdfname, 'P001_LZSN', doe)"
   ]
  },
  {
   "cell_type": "code",
   "execution_count": 42,
   "metadata": {},
   "outputs": [
    {
     "data": {
      "text/plain": [
       "['P001_LZSN/RESULTS/RUN11/RCHRES_R001/HYDR',\n",
       " 'P001_LZSN/RESULTS/RUN12/RCHRES_R001/HYDR',\n",
       " 'P001_LZSN/RESULTS/RUN13/RCHRES_R001/HYDR',\n",
       " 'P001_LZSN/RESULTS/RUN14/RCHRES_R001/HYDR',\n",
       " 'P001_LZSN/RESULTS/RUN15/RCHRES_R001/HYDR',\n",
       " 'P001_LZSN/RESULTS/RUN16/RCHRES_R001/HYDR',\n",
       " 'P001_LZSN/RESULTS/RUN17/RCHRES_R001/HYDR',\n",
       " 'P001_LZSN/RESULTS/RUN18/RCHRES_R001/HYDR',\n",
       " 'P001_LZSN/RESULTS/RUN19/RCHRES_R001/HYDR',\n",
       " 'P001_LZSN/RESULTS/RUN20/RCHRES_R001/HYDR',\n",
       " 'P001_LZSN/RESULTS/RUN21/RCHRES_R001/HYDR',\n",
       " 'P001_LZSN/RESULTS/RUN22/RCHRES_R001/HYDR',\n",
       " 'P001_LZSN/RESULTS/RUN23/RCHRES_R001/HYDR',\n",
       " 'P001_LZSN/RESULTS/RUN24/RCHRES_R001/HYDR',\n",
       " 'P001_LZSN/RESULTS/RUN25/RCHRES_R001/HYDR',\n",
       " 'P001_LZSN/RESULTS/RUN26/RCHRES_R001/HYDR',\n",
       " 'P001_LZSN/RESULTS/RUN27/RCHRES_R001/HYDR',\n",
       " 'P001_LZSN/RESULTS/RUN28/RCHRES_R001/HYDR',\n",
       " 'P001_LZSN/RESULTS/RUN29/RCHRES_R001/HYDR',\n",
       " 'P001_LZSN/RESULTS/RUN30/RCHRES_R001/HYDR']"
      ]
     },
     "execution_count": 42,
     "metadata": {},
     "output_type": "execute_result"
    }
   ],
   "source": [
    "# Get paths to all the results for RCHRES\n",
    "keys = ['P001_LZSN/RESULTS/RUN' + str(k+10) + '/RCHRES_R001/HYDR' for k in range(1,N+1)]\n",
    "keys"
   ]
  },
  {
   "cell_type": "code",
   "execution_count": 43,
   "metadata": {},
   "outputs": [
    {
     "data": {
      "text/plain": [
       "<matplotlib.axes._subplots.AxesSubplot at 0xdf25c50>"
      ]
     },
     "execution_count": 43,
     "metadata": {},
     "output_type": "execute_result"
    },
    {
     "data": {
      "image/png": "[encoded data removed]",
      "text/plain": [
       "<matplotlib.figure.Figure at 0x11b16438>"
      ]
     },
     "metadata": {},
     "output_type": "display_data"
    }
   ],
   "source": [
    "ts = pd.DataFrame()\n",
    "for k in keys:\n",
    "    colname = k[18:23]\n",
    "    df = pd.read_hdf(hdfname, k)\n",
    "    ts[colname] = df.ROVOL\n",
    "    \n",
    "ts.plot(label = 'simulated volume (ac-ft)',figsize = (18,6))"
   ]
  },
  {
   "cell_type": "code",
   "execution_count": 46,
   "metadata": {},
   "outputs": [
    {
     "data": {
      "application/vnd.jupyter.widget-view+json": {
       "model_id": "1e6ca9ac640247aeab34fd34d5a96c6e",
       "version_major": 2,
       "version_minor": 0
      },
      "text/html": [
       "<p>Failed to display Jupyter Widget of type <code>QgridWidget</code>.</p>\n",
       "<p>\n",
       "  If you're reading this message in the Jupyter Notebook or JupyterLab Notebook, it may mean\n",
       "  that the widgets JavaScript is still loading. If this message persists, it\n",
       "  likely means that the widgets JavaScript library is either not installed or\n",
       "  not enabled. See the <a href=\"https://ipywidgets.readthedocs.io/en/stable/user_install.html\">Jupyter\n",
       "  Widgets Documentation</a> for setup instructions.\n",
       "</p>\n",
       "<p>\n",
       "  If you're reading this message in another frontend (for example, a static\n",
       "  rendering on GitHub or <a href=\"https://nbviewer.jupyter.org/\">NBViewer</a>),\n",
       "  it may mean that your frontend doesn't currently support widgets.\n",
       "</p>\n"
      ],
      "text/plain": [
       "QgridWidget(grid_options={'enableTextSelectionOnCells': True, 'editable': True, 'explicitInitialization': True, 'minVisibleRows': 8, 'enableColumnReorder': False, 'defaultColumnWidth': 150, 'maxVisibleRows': 15, 'fullWidthRows': True, 'rowHeight': 28, 'autoEdit': False, 'syncColumnCellResize': True, 'forceFitColumns': True}, precision=5)"
      ]
     },
     "metadata": {},
     "output_type": "display_data"
    }
   ],
   "source": [
    "df = ts.describe()\n",
    "df.T"
   ]
  },
  {
   "cell_type": "markdown",
   "metadata": {},
   "source": [
    "### Use a time series for the INFILT parameter\n",
    "\n",
    "#### First, create a time series for INFILT and save it in the HDF5 file's /Timeseries directory."
   ]
  },
  {
   "cell_type": "markdown",
   "metadata": {},
   "source": [
    "###  Constant parameters in HSPF can be replaced by time series in $\\textbf{HSP}^\\textbf{2}$ \n",
    "\n",
    "\n",
    "Some HSPF parameters were optionally allow to vary in time using FLAG and MONTHLY tables. The other HSPF parameters were constants.\n",
    "HSPF used the following algorithm to determine the parameter's value at any time in the simulation when it was allowed to vary:\n",
    "+ First interpolate monthly table values to get daily values. \n",
    "+ The values at timesteps within each day are set to the day's daily value.\n",
    "\n",
    "However, the HSPF Special Functions capability could be used to allow any HSPF parameter to vary over time.\n",
    "\n",
    "This capability to vary any parameter over time is made more integral to $\\textbf{HSP}^\\textbf{2}$.\n",
    "\n",
    "#### IMPLIMENTATION in $\\textbf{HSP}^\\textbf{2}$ \n",
    "\n",
    "Internally, $\\textbf{HSP}^\\textbf{2}$, creates a time series for each parameter over the entire simulation interval at the start of each activity's code. \n",
    "\n",
    "The rules for creating a time series are simple:\n",
    "+ Whenever the EXT_SOURCES table directs a time series with the name of an HSPF parameter (in TMEMN) to the current OPSEQ operation and segment (TVOL and TVOLNO), then this time series will be used in place of the parameter. (Because this is different bahavior than HSP2, a logged message\n",
    "alerts the user whenever this is done.)\n",
    "+ Otherwise, if the flag and monthly table information used by HSPF to allow a parameter to vary over time is found in the $\\textbf{HSP}^\\textbf{2}$ tables, then the HSPF algorithm is used to create a time series over the entire simulation interval.\n",
    "+ Otherwise, this was is constant parameter in HSPF. The constant value found in for the parameter from PARAMETERS table will be used to fill the array.\n",
    "\n",
    "There is no additional performance hit to specify a time series for a parameter since all parameters are already treated as time series internally anyway."
   ]
  },
  {
   "cell_type": "markdown",
   "metadata": {},
   "source": [
    "Get the simulation's GLOBAL data to create a time index for this simulation. The new series must at least contain the simulations start, stop boundaries."
   ]
  },
  {
   "cell_type": "code",
   "execution_count": 47,
   "metadata": {},
   "outputs": [
    {
     "data": {
      "application/vnd.jupyter.widget-view+json": {
       "model_id": "c93d3af88628422390fcfc3d8b61fb07",
       "version_major": 2,
       "version_minor": 0
      },
      "text/html": [
       "<p>Failed to display Jupyter Widget of type <code>QgridWidget</code>.</p>\n",
       "<p>\n",
       "  If you're reading this message in the Jupyter Notebook or JupyterLab Notebook, it may mean\n",
       "  that the widgets JavaScript is still loading. If this message persists, it\n",
       "  likely means that the widgets JavaScript library is either not installed or\n",
       "  not enabled. See the <a href=\"https://ipywidgets.readthedocs.io/en/stable/user_install.html\">Jupyter\n",
       "  Widgets Documentation</a> for setup instructions.\n",
       "</p>\n",
       "<p>\n",
       "  If you're reading this message in another frontend (for example, a static\n",
       "  rendering on GitHub or <a href=\"https://nbviewer.jupyter.org/\">NBViewer</a>),\n",
       "  it may mean that your frontend doesn't currently support widgets.\n",
       "</p>\n"
      ],
      "text/plain": [
       "QgridWidget(grid_options={'enableTextSelectionOnCells': True, 'editable': True, 'explicitInitialization': True, 'minVisibleRows': 8, 'enableColumnReorder': False, 'defaultColumnWidth': 150, 'maxVisibleRows': 15, 'fullWidthRows': True, 'rowHeight': 28, 'autoEdit': False, 'syncColumnCellResize': True, 'forceFitColumns': True}, precision=5)"
      ]
     },
     "metadata": {},
     "output_type": "display_data"
    }
   ],
   "source": [
    "gdata = pd.read_hdf(hdfname, '/CONTROL/GLOBAL')['Data']\n",
    "gdata"
   ]
  },
  {
   "cell_type": "markdown",
   "metadata": {},
   "source": [
    "The frequency does not need to be at any fixed value - HSP2 will resample (up or down) to make it correct."
   ]
  },
  {
   "cell_type": "code",
   "execution_count": 48,
   "metadata": {},
   "outputs": [
    {
     "data": {
      "text/plain": [
       "DatetimeIndex(['1976-01-01 00:00:00', '1976-01-01 01:00:00',\n",
       "               '1976-01-01 02:00:00', '1976-01-01 03:00:00',\n",
       "               '1976-01-01 04:00:00', '1976-01-01 05:00:00',\n",
       "               '1976-01-01 06:00:00', '1976-01-01 07:00:00',\n",
       "               '1976-01-01 08:00:00', '1976-01-01 09:00:00',\n",
       "               ...\n",
       "               '1976-12-31 14:00:00', '1976-12-31 15:00:00',\n",
       "               '1976-12-31 16:00:00', '1976-12-31 17:00:00',\n",
       "               '1976-12-31 18:00:00', '1976-12-31 19:00:00',\n",
       "               '1976-12-31 20:00:00', '1976-12-31 21:00:00',\n",
       "               '1976-12-31 22:00:00', '1976-12-31 23:00:00'],\n",
       "              dtype='datetime64[ns]', length=8784, freq='H')"
      ]
     },
     "execution_count": 48,
     "metadata": {},
     "output_type": "execute_result"
    }
   ],
   "source": [
    "start = pd.to_datetime(gdata['sim_start'])\n",
    "stop  = pd.to_datetime(gdata['sim_end'])\n",
    "\n",
    "tindex = pd.date_range(start, stop, freq='h')\n",
    "tindex"
   ]
  },
  {
   "cell_type": "markdown",
   "metadata": {},
   "source": [
    "Just set some values."
   ]
  },
  {
   "cell_type": "code",
   "execution_count": 58,
   "metadata": {},
   "outputs": [
    {
     "data": {
      "application/vnd.jupyter.widget-view+json": {
       "model_id": "93ee8854e81c4a778a21c586088505f5",
       "version_major": 2,
       "version_minor": 0
      },
      "text/html": [
       "<p>Failed to display Jupyter Widget of type <code>QgridWidget</code>.</p>\n",
       "<p>\n",
       "  If you're reading this message in the Jupyter Notebook or JupyterLab Notebook, it may mean\n",
       "  that the widgets JavaScript is still loading. If this message persists, it\n",
       "  likely means that the widgets JavaScript library is either not installed or\n",
       "  not enabled. See the <a href=\"https://ipywidgets.readthedocs.io/en/stable/user_install.html\">Jupyter\n",
       "  Widgets Documentation</a> for setup instructions.\n",
       "</p>\n",
       "<p>\n",
       "  If you're reading this message in another frontend (for example, a static\n",
       "  rendering on GitHub or <a href=\"https://nbviewer.jupyter.org/\">NBViewer</a>),\n",
       "  it may mean that your frontend doesn't currently support widgets.\n",
       "</p>\n"
      ],
      "text/plain": [
       "QgridWidget(grid_options={'enableTextSelectionOnCells': True, 'editable': True, 'explicitInitialization': True, 'minVisibleRows': 8, 'enableColumnReorder': False, 'defaultColumnWidth': 150, 'maxVisibleRows': 15, 'fullWidthRows': True, 'rowHeight': 28, 'autoEdit': False, 'syncColumnCellResize': True, 'forceFitColumns': True}, precision=5)"
      ]
     },
     "metadata": {},
     "output_type": "display_data"
    }
   ],
   "source": [
    "infilt = pd.Series(0.10, index=tindex)                 # set the value of 0.10 at each timestep\n",
    "infilt['1976-03-01 01:00':'1976-11-01 05:00'] = 0.20   # overwrite for all datetimes in this interval (end points included)\n",
    "\n",
    "infilt"
   ]
  },
  {
   "cell_type": "markdown",
   "metadata": {},
   "source": [
    "Save to the HDF5 file"
   ]
  },
  {
   "cell_type": "code",
   "execution_count": 59,
   "metadata": {
    "collapsed": true
   },
   "outputs": [],
   "source": [
    "infilt.to_hdf(hdfname, 'TIMESERIES/infilt')"
   ]
  },
  {
   "cell_type": "markdown",
   "metadata": {},
   "source": [
    "####  Second, add a row to the EXT_SOURCES table to send this time series to PERLND INFILT for segment P001."
   ]
  },
  {
   "cell_type": "code",
   "execution_count": 60,
   "metadata": {},
   "outputs": [
    {
     "data": {
      "text/plain": [
       "(51, 12)"
      ]
     },
     "execution_count": 60,
     "metadata": {},
     "output_type": "execute_result"
    }
   ],
   "source": [
    "ext = pd.read_hdf(hdfname, '/CONTROL/EXT_SOURCES')\n",
    "nrows, ncols = ext.shape\n",
    "\n",
    "nrows, ncols"
   ]
  },
  {
   "cell_type": "code",
   "execution_count": 61,
   "metadata": {},
   "outputs": [
    {
     "data": {
      "application/vnd.jupyter.widget-view+json": {
       "model_id": "bdfe2389c3bb41489809fdb0be6c7c33",
       "version_major": 2,
       "version_minor": 0
      },
      "text/html": [
       "<p>Failed to display Jupyter Widget of type <code>QgridWidget</code>.</p>\n",
       "<p>\n",
       "  If you're reading this message in the Jupyter Notebook or JupyterLab Notebook, it may mean\n",
       "  that the widgets JavaScript is still loading. If this message persists, it\n",
       "  likely means that the widgets JavaScript library is either not installed or\n",
       "  not enabled. See the <a href=\"https://ipywidgets.readthedocs.io/en/stable/user_install.html\">Jupyter\n",
       "  Widgets Documentation</a> for setup instructions.\n",
       "</p>\n",
       "<p>\n",
       "  If you're reading this message in another frontend (for example, a static\n",
       "  rendering on GitHub or <a href=\"https://nbviewer.jupyter.org/\">NBViewer</a>),\n",
       "  it may mean that your frontend doesn't currently support widgets.\n",
       "</p>\n"
      ],
      "text/plain": [
       "QgridWidget(grid_options={'enableTextSelectionOnCells': True, 'editable': True, 'explicitInitialization': True, 'minVisibleRows': 8, 'enableColumnReorder': False, 'defaultColumnWidth': 150, 'maxVisibleRows': 15, 'fullWidthRows': True, 'rowHeight': 28, 'autoEdit': False, 'syncColumnCellResize': True, 'forceFitColumns': True}, precision=5)"
      ]
     },
     "metadata": {},
     "output_type": "display_data"
    }
   ],
   "source": [
    "ext.loc[nrows] = ['*', 'infilt', '', '', 1.0, '', 'PERLND', 'INFILT', '', 'P001', '', 'Adding New series to control infilt']\n",
    "ext.tail()"
   ]
  },
  {
   "cell_type": "code",
   "execution_count": 62,
   "metadata": {
    "collapsed": true
   },
   "outputs": [],
   "source": [
    "ext.to_hdf(hdfname, '/CONTROL/EXT_SOURCES',  data_columns=True, format='table')"
   ]
  },
  {
   "cell_type": "markdown",
   "metadata": {},
   "source": [
    "Now run the simulation"
   ]
  },
  {
   "cell_type": "code",
   "execution_count": 66,
   "metadata": {},
   "outputs": [
    {
     "name": "stdout",
     "output_type": "stream",
     "text": [
      "2017-12-18 21:59:14.67   Run Started for file TutorialData/Tutorial.h5\n",
      "2017-12-18 21:59:14.68     Start 1976-01-01 00:00    Stop 1976-12-31 23:59\n",
      "2017-12-18 21:59:15.44   Finished setup\n",
      "2017-12-18 21:59:15.46      PERLND P001   DELT=60\n",
      "Found timeseries for INFILT\n",
      "Found timeseries for INFILT\n",
      "2017-12-18 21:59:15.61      RCHRES R001   DELT=60\n",
      "2017-12-18 21:59:15.66      RCHRES R002   DELT=60\n",
      "2017-12-18 21:59:15.74      RCHRES R003   DELT=60\n",
      "2017-12-18 21:59:15.79      RCHRES R004   DELT=60\n",
      "2017-12-18 21:59:15.85      IMPLND I001   DELT=60\n",
      "2017-12-18 21:59:15.89      RCHRES R005   DELT=60\n",
      "2017-12-18 21:59:15.98   Run completed\n"
     ]
    }
   ],
   "source": [
    "HSP2tools.run_Tutorial(hdfname, saveall=True)\n",
    "#HSP2.run(hdfname)"
   ]
  },
  {
   "cell_type": "markdown",
   "metadata": {},
   "source": [
    "The infilt timeseries was found twice because it was made available to both SNOW and PWATER."
   ]
  },
  {
   "cell_type": "code",
   "execution_count": 67,
   "metadata": {},
   "outputs": [
    {
     "data": {
      "application/vnd.jupyter.widget-view+json": {
       "model_id": "a89c7bd9f3244f6988ad7bfe2e50a0d8",
       "version_major": 2,
       "version_minor": 0
      },
      "text/html": [
       "<p>Failed to display Jupyter Widget of type <code>QgridWidget</code>.</p>\n",
       "<p>\n",
       "  If you're reading this message in the Jupyter Notebook or JupyterLab Notebook, it may mean\n",
       "  that the widgets JavaScript is still loading. If this message persists, it\n",
       "  likely means that the widgets JavaScript library is either not installed or\n",
       "  not enabled. See the <a href=\"https://ipywidgets.readthedocs.io/en/stable/user_install.html\">Jupyter\n",
       "  Widgets Documentation</a> for setup instructions.\n",
       "</p>\n",
       "<p>\n",
       "  If you're reading this message in another frontend (for example, a static\n",
       "  rendering on GitHub or <a href=\"https://nbviewer.jupyter.org/\">NBViewer</a>),\n",
       "  it may mean that your frontend doesn't currently support widgets.\n",
       "</p>\n"
      ],
      "text/plain": [
       "QgridWidget(grid_options={'enableTextSelectionOnCells': True, 'editable': True, 'explicitInitialization': True, 'minVisibleRows': 8, 'enableColumnReorder': False, 'defaultColumnWidth': 150, 'maxVisibleRows': 15, 'fullWidthRows': True, 'rowHeight': 28, 'autoEdit': False, 'syncColumnCellResize': True, 'forceFitColumns': True}, precision=5)"
      ]
     },
     "metadata": {},
     "output_type": "display_data"
    }
   ],
   "source": [
    "# Acquire and Calculate Stats on Run 3 and Compare to Other Runs\n",
    "tsRun_3  = pd.read_hdf(hdfname, '/RESULTS/RCHRES_R001/HYDR')\n",
    "\n",
    "dfStats.Run3 = tsRun_3.RO.describe()\n",
    "dfStats"
   ]
  },
  {
   "cell_type": "code",
   "execution_count": 68,
   "metadata": {},
   "outputs": [
    {
     "data": {
      "text/plain": [
       "<matplotlib.legend.Legend at 0x15632f28>"
      ]
     },
     "execution_count": 68,
     "metadata": {},
     "output_type": "execute_result"
    },
    {
     "data": {
      "image/png": "[encoded data removed]",
      "text/plain": [
       "<matplotlib.figure.Figure at 0x173b9908>"
      ]
     },
     "metadata": {},
     "output_type": "display_data"
    }
   ],
   "source": [
    "# Resample for Monthly Flow\n",
    "m_plt.figure(figsize=(16,8))\n",
    "m_plt.plot('RO', 'b--', data=tsMaster.resample('M').mean(),   label='Master')\n",
    "m_plt.plot('RO', 'r',   data=tsRun_1.resample('M').mean(),    label='Run1')\n",
    "m_plt.plot('RO', 'g',   data=tsRun_2.resample('M').mean(),    label='Run2')\n",
    "m_plt.plot('RO', 'k',   data=tsRun_3.resample('M').mean(),    label='Run3')\n",
    "\n",
    "m_plt.title('Flow at Reach 1')\n",
    "m_plt.ylabel('Monthly Flow {CFS}')\n",
    "m_plt.legend(loc='best') "
   ]
  },
  {
   "cell_type": "markdown",
   "metadata": {},
   "source": [
    "### MFACTOR and AFACTR, may replaced by a time series\n",
    "\n",
    "+ The MFACTOR table column is found in the MASS_LINK and EXT_SOURCES tables\n",
    "+ The AFACTR table column is found in the LINKS table\n",
    "\n",
    "If an AFACTR or MFACTOR element in a table is a string that starts with an asterisk, then the string after the asterisk is the name of a timeseries to be found in the HDF5 TIMESERIES directory.  It is treated as a sparse array and padded appropriately (aggregation method SAME).\n",
    "\n",
    "Otherwise, the AFACTOR or MFACTOR element should be a floating point number or string that can be converted into a floating point number. Internally, a timeseries is created with this value in every position.\n",
    "\n",
    "So either way, any AFACTOR or MFACTOR is a timeseries for internal calculation. They are multiplied pointwise times the data timeseries specified by the table.\n"
   ]
  },
  {
   "cell_type": "markdown",
   "metadata": {},
   "source": [
    "### Simulate a town growing and replacing  farm land during a simulation."
   ]
  },
  {
   "cell_type": "markdown",
   "metadata": {},
   "source": [
    "This scenario is a town (IMPLND segment I001) growing over time replacing farm land (PERLND segment P001). The total area of the two segments must remain constant. This example uses the HSPF test10 HDF5, tutorial.h5.\n",
    "\n",
    "The total area of the two segments P001 and I001 is 9000 acres. \n",
    "\n",
    "The IMPLND area will increase linearly by 20% over the simulation period. That is the IMPLD segment will grow from 3000 to 3600 acres.\n",
    "This requires the PERLND segment to shrink from 6000 to 5400 acres.\n",
    "\n",
    "First, create a timeseries for IMPLND. Name it *implnd* and save in the HDF5 file.\n",
    "\n",
    "This process uses the tindex computed in the last example."
   ]
  },
  {
   "cell_type": "code",
   "execution_count": 69,
   "metadata": {
    "collapsed": true
   },
   "outputs": [],
   "source": [
    "implnd = pd.Series(index=tindex)\n",
    "implnd[tindex[0]] = 3000.\n",
    "implnd[tindex[-1]] = 1.2 * 3000.\n",
    "implnd = implnd.interpolate(how='time')\n",
    "\n",
    "implnd.to_hdf(hdfname, 'TIMESERIES/implnd')"
   ]
  },
  {
   "cell_type": "markdown",
   "metadata": {},
   "source": [
    "Create a timeseries for PERLND\n",
    "\n",
    "Start with the original PERLND area and pointwise (in time) subtract the increase in the IMPLND segment."
   ]
  },
  {
   "cell_type": "code",
   "execution_count": 70,
   "metadata": {
    "collapsed": true
   },
   "outputs": [],
   "source": [
    "perlnd = 6000. - (implnd-3000.)         # Note: this is a full vector calculation\n",
    "\n",
    "perlnd.to_hdf(hdfname, 'TIMESERIES/perlnd')"
   ]
  },
  {
   "cell_type": "markdown",
   "metadata": {},
   "source": [
    "#### Modify the AFACTR entries in the LINKS table\n",
    "\n",
    "It is necessary to indicate when and which time series will be used to replace a fixed AFACTR. "
   ]
  },
  {
   "cell_type": "code",
   "execution_count": 73,
   "metadata": {},
   "outputs": [
    {
     "data": {
      "application/vnd.jupyter.widget-view+json": {
       "model_id": "908f98eb8c354dcebdfa0beac2d227cd",
       "version_major": 2,
       "version_minor": 0
      },
      "text/html": [
       "<p>Failed to display Jupyter Widget of type <code>QgridWidget</code>.</p>\n",
       "<p>\n",
       "  If you're reading this message in the Jupyter Notebook or JupyterLab Notebook, it may mean\n",
       "  that the widgets JavaScript is still loading. If this message persists, it\n",
       "  likely means that the widgets JavaScript library is either not installed or\n",
       "  not enabled. See the <a href=\"https://ipywidgets.readthedocs.io/en/stable/user_install.html\">Jupyter\n",
       "  Widgets Documentation</a> for setup instructions.\n",
       "</p>\n",
       "<p>\n",
       "  If you're reading this message in another frontend (for example, a static\n",
       "  rendering on GitHub or <a href=\"https://nbviewer.jupyter.org/\">NBViewer</a>),\n",
       "  it may mean that your frontend doesn't currently support widgets.\n",
       "</p>\n"
      ],
      "text/plain": [
       "QgridWidget(grid_options={'enableTextSelectionOnCells': True, 'editable': True, 'explicitInitialization': True, 'minVisibleRows': 8, 'enableColumnReorder': False, 'defaultColumnWidth': 150, 'maxVisibleRows': 15, 'fullWidthRows': True, 'rowHeight': 28, 'autoEdit': False, 'syncColumnCellResize': True, 'forceFitColumns': True}, precision=5)"
      ]
     },
     "metadata": {},
     "output_type": "display_data"
    }
   ],
   "source": [
    "df = pd.read_hdf(hdfname, '/CONTROL/LINKS')\n",
    "df"
   ]
  },
  {
   "cell_type": "markdown",
   "metadata": {},
   "source": [
    "The PERLND AFACTR is at table index 0, the IMPLND  AFACTR at index 5.\n",
    "\n",
    "Modify the AFACTR entries for these two rows and save back to the HDF5 file."
   ]
  },
  {
   "cell_type": "code",
   "execution_count": 78,
   "metadata": {},
   "outputs": [
    {
     "data": {
      "text/html": [
       "<div>\n",
       "<style>\n",
       "    .dataframe thead tr:only-child th {\n",
       "        text-align: right;\n",
       "    }\n",
       "\n",
       "    .dataframe thead th {\n",
       "        text-align: left;\n",
       "    }\n",
       "\n",
       "    .dataframe tbody tr th {\n",
       "        vertical-align: top;\n",
       "    }\n",
       "</style>\n",
       "<table border=\"1\" class=\"dataframe\">\n",
       "  <thead>\n",
       "    <tr style=\"text-align: right;\">\n",
       "      <th></th>\n",
       "      <th>SVOL</th>\n",
       "      <th>SVOLNO</th>\n",
       "      <th>AFACTR</th>\n",
       "      <th>TVOL</th>\n",
       "      <th>TVOLNO</th>\n",
       "      <th>...</th>\n",
       "      <th>MFACTOR</th>\n",
       "      <th>TMEMN</th>\n",
       "      <th>TGRPN</th>\n",
       "      <th>AUX_TS</th>\n",
       "      <th>COMMENTS</th>\n",
       "    </tr>\n",
       "  </thead>\n",
       "  <tbody>\n",
       "    <tr>\n",
       "      <th>0</th>\n",
       "      <td>PERLND</td>\n",
       "      <td>P001</td>\n",
       "      <td>*perlnd</td>\n",
       "      <td>RCHRES</td>\n",
       "      <td>R001</td>\n",
       "      <td>...</td>\n",
       "      <td></td>\n",
       "      <td></td>\n",
       "      <td></td>\n",
       "      <td></td>\n",
       "      <td></td>\n",
       "    </tr>\n",
       "    <tr>\n",
       "      <th>1</th>\n",
       "      <td>RCHRES</td>\n",
       "      <td>R001</td>\n",
       "      <td>1.0</td>\n",
       "      <td>RCHRES</td>\n",
       "      <td>R002</td>\n",
       "      <td>...</td>\n",
       "      <td></td>\n",
       "      <td></td>\n",
       "      <td></td>\n",
       "      <td></td>\n",
       "      <td></td>\n",
       "    </tr>\n",
       "    <tr>\n",
       "      <th>2</th>\n",
       "      <td>RCHRES</td>\n",
       "      <td>R001</td>\n",
       "      <td>1.0</td>\n",
       "      <td>RCHRES</td>\n",
       "      <td>R003</td>\n",
       "      <td>...</td>\n",
       "      <td></td>\n",
       "      <td></td>\n",
       "      <td></td>\n",
       "      <td></td>\n",
       "      <td></td>\n",
       "    </tr>\n",
       "    <tr>\n",
       "      <th>3</th>\n",
       "      <td>RCHRES</td>\n",
       "      <td>R002</td>\n",
       "      <td>1.0</td>\n",
       "      <td>RCHRES</td>\n",
       "      <td>R004</td>\n",
       "      <td>...</td>\n",
       "      <td></td>\n",
       "      <td></td>\n",
       "      <td></td>\n",
       "      <td></td>\n",
       "      <td></td>\n",
       "    </tr>\n",
       "    <tr>\n",
       "      <th>4</th>\n",
       "      <td>RCHRES</td>\n",
       "      <td>R003</td>\n",
       "      <td>1.0</td>\n",
       "      <td>RCHRES</td>\n",
       "      <td>R004</td>\n",
       "      <td>...</td>\n",
       "      <td></td>\n",
       "      <td></td>\n",
       "      <td></td>\n",
       "      <td></td>\n",
       "      <td></td>\n",
       "    </tr>\n",
       "    <tr>\n",
       "      <th>5</th>\n",
       "      <td>IMPLND</td>\n",
       "      <td>I001</td>\n",
       "      <td>*implnd</td>\n",
       "      <td>RCHRES</td>\n",
       "      <td>R005</td>\n",
       "      <td>...</td>\n",
       "      <td></td>\n",
       "      <td></td>\n",
       "      <td></td>\n",
       "      <td></td>\n",
       "      <td></td>\n",
       "    </tr>\n",
       "    <tr>\n",
       "      <th>6</th>\n",
       "      <td>RCHRES</td>\n",
       "      <td>R004</td>\n",
       "      <td>1.0</td>\n",
       "      <td>RCHRES</td>\n",
       "      <td>R005</td>\n",
       "      <td>...</td>\n",
       "      <td></td>\n",
       "      <td></td>\n",
       "      <td></td>\n",
       "      <td></td>\n",
       "      <td></td>\n",
       "    </tr>\n",
       "  </tbody>\n",
       "</table>\n",
       "<p>7 rows × 15 columns</p>\n",
       "</div>"
      ],
      "text/plain": [
       "     SVOL SVOLNO   AFACTR    TVOL TVOLNO   ...    MFACTOR TMEMN TGRPN AUX_TS  \\\n",
       "0  PERLND   P001  *perlnd  RCHRES   R001   ...                                 \n",
       "1  RCHRES   R001      1.0  RCHRES   R002   ...                                 \n",
       "2  RCHRES   R001      1.0  RCHRES   R003   ...                                 \n",
       "3  RCHRES   R002      1.0  RCHRES   R004   ...                                 \n",
       "4  RCHRES   R003      1.0  RCHRES   R004   ...                                 \n",
       "5  IMPLND   I001  *implnd  RCHRES   R005   ...                                 \n",
       "6  RCHRES   R004      1.0  RCHRES   R005   ...                                 \n",
       "\n",
       "  COMMENTS  \n",
       "0           \n",
       "1           \n",
       "2           \n",
       "3           \n",
       "4           \n",
       "5           \n",
       "6           \n",
       "\n",
       "[7 rows x 15 columns]"
      ]
     },
     "execution_count": 78,
     "metadata": {},
     "output_type": "execute_result"
    }
   ],
   "source": [
    "df.loc[0, 'AFACTR'] = '*perlnd'\n",
    "df.loc[5, 'AFACTR'] = '*implnd'\n",
    "df.AFACTR = df.AFACTR.astype(str)   # previously all entries were floats, so Pandas made this a float typed column.\n",
    "df.to_hdf(hdfname, '/CONTROL/LINKS',  data_columns=True, format='table')\n",
    "qgrid.disable()\n",
    "df"
   ]
  },
  {
   "cell_type": "markdown",
   "metadata": {},
   "source": [
    "Now run the simulation and look for the message displayed whenever AFACTR is replaced by a time series."
   ]
  },
  {
   "cell_type": "code",
   "execution_count": 75,
   "metadata": {},
   "outputs": [
    {
     "name": "stdout",
     "output_type": "stream",
     "text": [
      "2017-12-18 22:00:12.17   Run Started for file TutorialData/Tutorial.h5\n",
      "2017-12-18 22:00:12.18     Start 1976-01-01 00:00    Stop 1976-12-31 23:59\n",
      "2017-12-18 22:00:12.90   Finished setup\n",
      "2017-12-18 22:00:12.92      PERLND P001   DELT=60\n",
      "Found timeseries for INFILT\n",
      "Found timeseries for INFILT\n",
      "2017-12-18 22:00:13.06      RCHRES R001   DELT=60\n",
      "FOUND timeseries for MFACTOR /RESULTS/PERLND_P001/PWATER\n",
      "2017-12-18 22:00:13.16      RCHRES R002   DELT=60\n",
      "2017-12-18 22:00:13.23      RCHRES R003   DELT=60\n",
      "2017-12-18 22:00:13.32      RCHRES R004   DELT=60\n",
      "2017-12-18 22:00:13.37      IMPLND I001   DELT=60\n",
      "2017-12-18 22:00:13.48      RCHRES R005   DELT=60\n",
      "FOUND timeseries for MFACTOR /RESULTS/IMPLND_I001/IWATER\n",
      "2017-12-18 22:00:13.56   Run completed\n"
     ]
    }
   ],
   "source": [
    "HSP2tools.run_Tutorial(hdfname, saveall = 'True')\n",
    "#HSP2.run(hdfname)"
   ]
  },
  {
   "cell_type": "code",
   "execution_count": 79,
   "metadata": {},
   "outputs": [
    {
     "data": {
      "application/vnd.jupyter.widget-view+json": {
       "model_id": "0690f71fb2d94f44841bf0e49d4f4f31",
       "version_major": 2,
       "version_minor": 0
      },
      "text/html": [
       "<p>Failed to display Jupyter Widget of type <code>QgridWidget</code>.</p>\n",
       "<p>\n",
       "  If you're reading this message in the Jupyter Notebook or JupyterLab Notebook, it may mean\n",
       "  that the widgets JavaScript is still loading. If this message persists, it\n",
       "  likely means that the widgets JavaScript library is either not installed or\n",
       "  not enabled. See the <a href=\"https://ipywidgets.readthedocs.io/en/stable/user_install.html\">Jupyter\n",
       "  Widgets Documentation</a> for setup instructions.\n",
       "</p>\n",
       "<p>\n",
       "  If you're reading this message in another frontend (for example, a static\n",
       "  rendering on GitHub or <a href=\"https://nbviewer.jupyter.org/\">NBViewer</a>),\n",
       "  it may mean that your frontend doesn't currently support widgets.\n",
       "</p>\n"
      ],
      "text/plain": [
       "QgridWidget(grid_options={'enableTextSelectionOnCells': True, 'editable': True, 'explicitInitialization': True, 'minVisibleRows': 8, 'enableColumnReorder': False, 'defaultColumnWidth': 150, 'maxVisibleRows': 15, 'fullWidthRows': True, 'rowHeight': 28, 'autoEdit': False, 'syncColumnCellResize': True, 'forceFitColumns': True}, precision=5)"
      ]
     },
     "metadata": {},
     "output_type": "display_data"
    }
   ],
   "source": [
    "# Acquire and Calculate Stats on Run 4 and Compare to Other Runs\n",
    "tsRun_4  = pd.read_hdf(hdfname, '/RESULTS/RCHRES_R001/HYDR')\n",
    "\n",
    "dfStats.Run4 = tsRun_4.RO.describe()\n",
    "qgrid.show_grid(dfStats)"
   ]
  },
  {
   "cell_type": "code",
   "execution_count": 80,
   "metadata": {},
   "outputs": [
    {
     "data": {
      "text/plain": [
       "<matplotlib.legend.Legend at 0x17e87ba8>"
      ]
     },
     "execution_count": 80,
     "metadata": {},
     "output_type": "execute_result"
    },
    {
     "data": {
      "image/png": "[encoded data removed]",
      "text/plain": [
       "<matplotlib.figure.Figure at 0x17e162b0>"
      ]
     },
     "metadata": {},
     "output_type": "display_data"
    }
   ],
   "source": [
    "# Resample for Weekly Flow\n",
    "m_plt.figure(figsize=(16,8))\n",
    "m_plt.plot('RO', 'b--', data=tsMaster.resample('7D').mean(),   label='Master')\n",
    "m_plt.plot('RO', 'r',   data=tsRun_1.resample('7D').mean(),    label='Run1')\n",
    "m_plt.plot('RO', 'g',   data=tsRun_2.resample('7D').mean(),    label='Run2')\n",
    "m_plt.plot('RO', 'k',   data=tsRun_3.resample('7D').mean(),    label='Run3')\n",
    "m_plt.plot('RO', 'c',   data=tsRun_4.resample('7D').mean(),    label='Run4')\n",
    "\n",
    "m_plt.title('Flow at Reach 1')\n",
    "m_plt.ylabel('Monthly Flow {CFS}')\n",
    "m_plt.legend(loc='best') "
   ]
  },
  {
   "cell_type": "code",
   "execution_count": null,
   "metadata": {
    "collapsed": true
   },
   "outputs": [],
   "source": []
  },
  {
   "cell_type": "code",
   "execution_count": null,
   "metadata": {
    "collapsed": true
   },
   "outputs": [],
   "source": []
  }
 ],
 "metadata": {
  "kernelspec": {
   "display_name": "Python 2",
   "language": "python",
   "name": "python2"
  },
  "language_info": {
   "codemirror_mode": {
    "name": "ipython",
    "version": 2
   },
   "file_extension": ".py",
   "mimetype": "text/x-python",
   "name": "python",
   "nbconvert_exporter": "python",
   "pygments_lexer": "ipython2",
   "version": "2.7.14"
  }
 },
 "nbformat": 4,
 "nbformat_minor": 2
}
