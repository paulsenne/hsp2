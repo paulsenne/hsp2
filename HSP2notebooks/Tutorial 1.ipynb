{
 "cells": [
  {
   "cell_type": "markdown",
   "metadata": {
    "deletable": true,
    "editable": true,
    "slideshow": {
     "slide_type": "slide"
    }
   },
   "source": [
    "<img src=\"Images/HSP2.png\" />\n",
    "This Jupyter Notebook Copyright 2017 by RESPEC, INC.  All rights reserved.\n",
    "\n",
    "$\\textbf{HSP}^{\\textbf{2}}\\ \\text{and}\\ \\textbf{HSP2}\\ $ Copyright 2017 by RESPEC INC. and released under this [License](LegalInformation/License.txt)"
   ]
  },
  {
   "cell_type": "markdown",
   "metadata": {
    "deletable": true,
    "editable": true
   },
   "source": [
    "# TUTORIAL 1: $\\textbf{HSP}^\\textbf{2}$ - HSPF in Python"
   ]
  },
  {
   "cell_type": "markdown",
   "metadata": {
    "deletable": true,
    "editable": true,
    "slideshow": {
     "slide_type": "skip"
    }
   },
   "source": [
    "**Note:**\n",
    "If you don't see the $\\textbf{HSP}^\\textbf{2}$ icon above, please review the [ReadMe](LegalInfomation/ReadMe.txt) file for instructions to properly setup your system for $\\textbf{HSP}^\\textbf{2}$ and these tutorials.  These tutorials run in your browser.  Versions of Internet Explorer, IE, older than IE10 do NOT work well. Generally, Chrome and Firefox work much better than IE.\n",
    "\n",
    "Please use a 64 bit version of the Python modules. The turorials and $\\textbf{HSP}^\\textbf{2}$ have not been tested in the 32 bit environment.\n",
    "\n",
    "**Note:**\n",
    "These tutorials use the Jupyter Notebook (previously called the IPython Notebook) to allow interactive exploration of $\\textbf{HSP}^\\textbf{2}$.  The word *Notebook* specifically means a Jupyter Notebook throughout these tutorials.\n",
    "\n",
    "**Note:**\n",
    "Under the *help* menu (in the menu bar just under the Jupyter logo), you can select the *User Interface Tour* to be shown the main components of the Notebook. Also under the *Help* menu, you can select the *Notebook Help* which will take you to a series of Notebooks that explain the operation and features of the Notebook.  The last section of this Tutorial, [here](#help), will explain briefly the Notebook operation needed for the Tutorials."
   ]
  },
  {
   "cell_type": "markdown",
   "metadata": {
    "deletable": true,
    "editable": true
   },
   "source": [
    "## Introduction\n",
    "These tutorials are designed to explain the differences between HSP$^2$ and HSPF. They provide interactive working examples for the use of HSP$^2$. Some additional Notebooks provide useful functionality to the user. The tutorials and Notebooks in this series are\n",
    "\n",
    "**[HSP$^2$ Preview](Preview.ipynb)** Notebook showing highlights of  HSP$^2$\n",
    "\n",
    "**Tutorial 1** HSP$^2$ - HSPF in Python (**this tutorial**)\n",
    "\n",
    "  + Section 1: [Rationale for HSP$^2$](#section1)\n",
    "  \n",
    "  + Section 2: [HSP$^2$ Design Concepts](#section2)\n",
    "  \n",
    "  + Section 3: [HSP$^2$ Features](#section3)\n",
    "  \n",
    "  + Section 4: [Rationale for HDF5 in HSP$^2$](#section4)\n",
    "  \n",
    "  + Section 5: [Scientific Python for HSP$^2$](#section5)\n",
    "  \n",
    "  + Section 6: [Current Limitations of HSP$^2$](#section6)\n",
    "  \n",
    "  + [Tutorial Summary](#summary)\n",
    "  \n",
    "**[Tutorial 2](Tutorial 2.ipynb)**\n",
    "This tutorial explains how the data for $\\textbf{HSP}^\\textbf{2}$ is organized in an HDF5 file. It demonstrates how to work with the HDF5 file to get and save data, annotate data, and create filters saved in the HDF5 file to conveniently work with subsets of data. For example, the LANDUSE filter is useful to extract, modify, and save parameter data for the user defined land use. Tools are demonstrated to create a new segment by duplicating an existing segment and to remove a segment from the model.\n",
    "\n",
    "**[Tutorial 3](Tutorial 3.ipynb)**  Running $\\textbf{HSP}^\\textbf{2}$ \n",
    "This tutoral demonstrates how to run $\\textbf{HSP}^\\textbf{2}$ with various options. Efficient techiques for $\\textbf{HSP}^\\textbf{2}$  watershed simulations are demonstrated.\n",
    "\n",
    "**[Tutorial 4](Tutorial 4.ipynb)**  Working with Legacy HSPF files and functions\n",
    "This tutorial demonstrates how to build the $\\textbf{HSP}^\\textbf{2}$ HDF5 file from legacy UCI and WDM files. It discusses how to achieve the same analysis as legacy HSPF modules.\n",
    "  \n",
    "**[Tutorial 5](Tutorial 5.ipynb)** $\\textbf{HSP}^\\textbf{2}$  Plotting and Reporting\n",
    "This tutorial demonstrates how to plot data computed from $\\textbf{HSP}^\\textbf{2}$ and to make reports from that data.\n",
    "  \n",
    "**[Tutorial 6](Tutorial 6.ipynb)**  $\\textbf{HSP}^\\textbf{2}$ Watershed Network Tool\n",
    "This tutorial demonstrates the $\\textbf{HSP}^\\textbf{2}$ network graph analysis capability. Features such as creating an Operational Sequence table, checking the connectivity of a watershed's model, and the Smart Run capability to generate a minimal rework Operational Sequence table to avoid recomputing the entire watershed's model.\n",
    "\n",
    "**[Tutorial 7](Tutorial 7.ipynb)**  Advanced HSP$^2$ functionality\n",
    "This tutorial discusses an number of features that go beyond the HSPF capability or greatly simplfy common problems in HSPF. Several use cases are presented.\n",
    "These including adding new data for the use of an existing module, adding a new module to  $\\textbf{HSP}^\\textbf{2}$, a scenario where an IMPLND segment grows during the simulation by taking area from an adjacant PERLND segment using a user defined timeseries. The capability to use CSV and Excel files to create, modify, or add to the HDF5 tables is demonstrated. The capability to restart a simulation at any point is also demonstrated. Adding good **QA/QC**  to  $\\textbf{HSP}^\\textbf{2}$ workflow processes is demonstrated.\n",
    "\n",
    "**[Tutorial 8](Tutorial 8.ipynb)** HSP2 was designed to make multiple runs required to a perform parameter optimization or a sensitivity study easy. This capability only runs the segments that are impacted by the experimental design - so it can be much faster than running HSP2 multiple times.\n",
    "\n",
    "*Utility Notebooks are provided for  $\\textbf{HSP}^\\textbf{2}$:*\n",
    "\n",
    "**[ViewPERLND](ViewPerlnd)** Notebook showing Plots and  Monthly and Annual Summary tables for a specified PERLND segment.\n",
    "\n",
    "**[ViewIMPLND](ViewImplnd)** Notebook showing Plots and Monthly and Annual summary tables for a specified IMPLND segment.\n",
    "\n",
    "**[ViewREACHES](ViewReaches)** Notebook showing Plots, Monthly and Annual Summary tables for a specified REACHES segment"
   ]
  },
  {
   "cell_type": "markdown",
   "metadata": {
    "deletable": true,
    "editable": true
   },
   "source": [
    "## Section 1: Rationale for HSP$^\\textbf{2}$<a id='section1'></a>"
   ]
  },
  {
   "cell_type": "markdown",
   "metadata": {
    "deletable": true,
    "editable": true
   },
   "source": [
    "### BACKGROUND\n",
    "\n",
    "A conference paper describing HSP$^2$ is available [here](TutorialData/JasonWEFTEC 2014.pdf).\n",
    "\n",
    "Both people and the ecological integrity of aquatic systems rely on healthy watersheds. Strategic protection and water-quality improvement in the nation’s watersheds—rivers, lakes, wetlands, and streams, as well as in our estuarine, coastal, and ocean waters—require holistic, integrated solutions that emphasize accountability. One of the EPA’s key objectives is improving watershed-based approaches.\n",
    " \n",
    "Watershed-scale environmental models are increasingly being used to assist in developing watershed-based approaches for protecting and restoring our nation’s waterbodies. Anticipating environmental problems by developing and applying mathematical models to simulate pollutant movement through a watershed has been the subject of intensive EPA research for decades. An outcome of these efforts is the Hydrological Simulation Program – FORTRAN (HSPF), which is an important tool in watershed-based assessment and planning. HSPF is thought to be the most accurate and appropriate management tool presently available for the continuous simulation of hydrology and water quality in watersheds.\n",
    " \n",
    "Since its initial development over 30 years ago, the HSPF model has been applied throughout North America as well as in numerous countries and climatic regimes around the world. In North America, it is a key model used in developing complex total maximum daily load (TMDL) assessments and for assessing the effectiveness of restoration scenarios. For more than \n",
    "2 decades, an HSPF-based watershed model has been used to simulate nutrient and sediment load delivery to the Chesapeake Bay as part of the Chesapeake Bay restoration effort. HSPF uses information such as the time history of rainfall, temperature, evaporation, and parameters related to land-use patterns, soil characteristics, and agricultural practices to simulate the processes that occur in a watershed. The initial result of an HSPF simulation is a time history of the quantity and quality of water that is transported over the land surface and through various soil zones down to the groundwater aquifers. Runoff flow rate, sediment loads, nutrients, pesticides, toxic chemicals, and other quality constituent concentrations can be predicted. The model uses these results and stream channel information to simulate instream processes such as hydraulics, sediment transport, and nutrient cycling. From this information, HSPF produces a time history of water quantity and quality at any point in the watershed. "
   ]
  },
  {
   "cell_type": "markdown",
   "metadata": {
    "deletable": true,
    "editable": true,
    "slideshow": {
     "slide_type": "-"
    }
   },
   "source": [
    "### HSPF Issues\n",
    "\n",
    "The Hydrological Simulation Program -- Fortran (HSPF) is a great tool and was very well designed.\n",
    "However, HSPF had constrants that were necessary in order to run under the limitations of the computers available when it was developed. These constrains prevent it from evolving for current needs.\n",
    "\n",
    "The most significant HSPF issues include:\n",
    "+ The current HSPF model is over one hundred thousand lines of Fortran-77 code. Much of this is not hydrologic/engineering code.\n",
    "+ The old Fortran common block architecture makes adding modules difficult and error prone.\n",
    "+ The user input file (UCI) is based on 80 column punch card 'Tables'. It is difficult to add new data or extend the size of existing data. The PERLND section alone has over 130 distinct tables. The number of UCI table types make it hard to learn and manage.\n",
    "+ Time series data has been stored in a number of different formats which are not standard outside the hydrology community. The Watershed Data Management (WDM) files are size limited (32 bit architecture), limited functionality, and difficult to use. WDM files are not readable by tools such as MATLAB without special libraries which do not have strong support.\n",
    "+ Names for PLS, ILS, and RID segments, timeseries names, and FTABLE names are inflexible.\n",
    "+ The Fortran originally used in HSPF had no dynamic capability, so all arrays had fixed sizes. Fixed sized arrays imposed fixed limits on all elements of HSPF (such as the maximum number of OP_SEQ elements, the number of outlets from a reach, the size of FTables, the naming of segments in a PERLND, etc.)\n",
    "+ HSPF is difficult (although possible) to integrate with other hydrology simulation codes.\n",
    "+ HSPF doesn't support lumped and gridded watershed models.\n",
    "+ HSPF doesn't support mulicore CPUs and scientific GPUs. It doesn't support MPI for parallel operation in a cluster."
   ]
  },
  {
   "cell_type": "markdown",
   "metadata": {
    "deletable": true,
    "editable": true
   },
   "source": [
    "### Design Objectives for the new HSPF, HSP$^\\textbf{2}$\n",
    "\n",
    "The overall goal of this project is to mitigate the aforementioned challenges that are currently facing the HSPF model so that it will continue to be a premiere watershed model into the foreseeable future. The major objectives to accomplish this goal and create the HSP2 (Hydrologic Simulation Program – Python) include the following:\n",
    "+ Convert HSPF to a modern computer language that runs on modern computers and operating systems. The choice is  Python.\n",
    "+ Retain all current HSPF functionality from the hydrologist's point of view. Provide a migration path from legacy applications. \n",
    "   + However, internal functionality that is invisible to the user, such as the Fortran-77 COMMON block, may be modified or deleted as necessary.\n",
    "   + Documentation within the new HSP$^2$ code is used to transparently show the translation path between HSPF and HSP$^2$.\n",
    "   \n",
    "+ Elevate the engineering code out of the non-engineering code to make the science in the model clear. The user should not be lost in the complexity of the memory management and the data input and output aspects of the code, HSP$^2$ should implement the HSPF algorithms as clearly and directly as possible. \n",
    "+ Restructure HSPF for maintainability, remove all fixed limits (for example, the number of OP Sequence operations) and remove naming constraints for model data and time-series. \n",
    "+ Provide users with greater capability to add their own data and modules.\n",
    "+ Save timeseries at the computed time steps for better post-run analysis\n",
    "+ Allow modern tools such as plotting tools that allow panning and zooming into the data to work easily with HSP2.\n",
    "+ Allow the integration of Geographical Information System data and tools with HSP2.\n",
    "+ Be independent of operating system and hardware. The goal is to have comparible execution time with HSPF.\n",
    "+ Allow for future parallization and efficient computation with multicore processors and scientific GPUs.\n",
    "+ Be open source and freely distributed over the internet. \n",
    "\n",
    "The high level design concept for HPS$^2$ is shown in the diagram below\n",
    "<img src=\"Images/design.png\" />\n",
    "\n",
    "The parts shown the design diagram are\n",
    "+ HSP$^2$ which is the Python version of HSPF,\n",
    "+ The HDF5 file stores:\n",
    "  + Timeseries (like the HSPF WDM data)\n",
    "  + UCI-like data\n",
    "  + Calculated results as specified by the user\n",
    "  + Project or Task documenation\n",
    "  + Quality artifacts (QA/QC)\n",
    "  + GIS information\n",
    " \n",
    "+ HSP$^2$ utilities convert legacy WDM and UCI files for HSP2.\n",
    "+ Dakota (MATLAB and other optimization programs) run HSP$^2$ studies such as parameter sensitivity, parameter calibration, optimization of BMPs, and uncertainty analysis,\n",
    "+ Other HSP$^2$ utilities perform reporting, visualizations, and consistency checking of simulation parameters, \n",
    "+ (Future) GUI to make user interaction simple, "
   ]
  },
  {
   "cell_type": "markdown",
   "metadata": {
    "deletable": true,
    "editable": true,
    "slideshow": {
     "slide_type": "fragment"
    }
   },
   "source": [
    "##### Discussion\n",
    "\n",
    "Python is the computer language selected for this conversion of HSPF. It is available on essentially any computer and operating system. It is easy to learn (compared to other computer languages), but is powerful. \n",
    "\n",
    "The scientific library stack provides MATLAB (R) like capability for scientific computing. The Pandas library (now considered part of scientific stack) provides great capability for processing and cleanup of raw data and for the creation of plots and reports. The Numba library provides Just in Time (JIT) compilation (via the LLVM compiler) to greatly improve performance. The networkx library provides algorithms for network graph analyis to check the linkage of watershed elements. "
   ]
  },
  {
   "cell_type": "markdown",
   "metadata": {
    "deletable": true,
    "editable": true,
    "slideshow": {
     "slide_type": "fragment"
    }
   },
   "source": [
    "## Section 3: HSP$^\\textbf{2}$ Features<a id='section3'></a>\n",
    "\n",
    "HSP$^2$ maintains close association with HSPF. Almost all of the traditional UCI control information is used. This includes:\n",
    "+ PERLND Flags, Initializations, Parameters, Monthly tables, Activity, and General information,\n",
    "+ IMPLND Flags, Initializations, Parameters, Monthly tables, Activity, and General information,\n",
    "+ REACHES Flags, Initializations, Parameters, Monthly tables, Activity, and General information,\n",
    "+ FTABLES\n",
    "+ NETWORK, SCHEMATIC, and MASS LINK tables\n",
    "+ EXT_SOURCES table\n",
    "+ GLOBAL Data (OP_SEQ, simulation start date/time, etc..)\n",
    "+ Internally in the HSP$^2$ code the names of HSPF variables have been preserved (except their capitialization.) This was done to make understanding of the code easier for those familar with HSPF.\n",
    "    \n",
    "However many restrictions have been eliminated including:\n",
    "+ PERLND PLS, IMPLND ILS, and REACHES RID \"names\" are arbitrary. For example, a PLS name may be 100,  100.800.3000, \"Alpine Forest\", etc.\n",
    "+ Timeseries names are arbitrary. For example, a timeseries name can be the old WDN DNS number like 132, \"Mountain Precip\", etc.\n",
    "+ All tables holding the UCI-like information may have arbitrary number of user defined \"filters\", notes, and annotations added.\n",
    "+ Users may add arbitrary data to any table or create their own data tables. This new data is automatically available to HSP2 modules.\n",
    "+ New SAVE Tables specify which calculated timeseries are to be saved to the HDF5 file. Timeseries are always saved at the  calculated timesteps.\n",
    "+ Flags, Initializations and Parameters are grouped together for each module - not by the legacy 80 column punch card \"tables.\"\n",
    "+ HDF5 files are used to save simulatin data, results, and documentation. Any number of HDF5 files may be used (for example all timeseries data may be stored in one master HDF5 file and easily used by a simulation module in another HDF5 file.)\n",
    "+ HSP$^2$ is designed to future parallelization and use with multicore CPUs and GPUs. \n",
    " \n",
    "Obsolete HSPF Features whose functionality is either integrated into HSP2 or is available through supplied tools:\n",
    "+ UCI files, WDM files, HBN files\n",
    "+ Copy operations\n",
    "+ Print levels\n",
    "+ PLTGEN\n",
    "+ DURNAL\n",
    "+ Special Actions \n",
    " \n",
    "The new features of HSP2 are demonstrated in the other interactive tutorials."
   ]
  },
  {
   "cell_type": "markdown",
   "metadata": {
    "deletable": true,
    "editable": true,
    "slideshow": {
     "slide_type": "fragment"
    }
   },
   "source": [
    "## Section 4: Rationale for HDF5 in HSP$^\\textbf{2}$<a id='section4'></a>\n",
    "\n",
    "HDF5 (Hierarchical Data Format version 5) is the standard for most large scale scientific\n",
    "data storage.\n",
    "It was originally developed at the National Center for Supercomputing Applications. Now \n",
    "it is actively maintained by the non-profit [HDF Group](https://www.hdfgroup.org/) to insure its availability on new platforms and operating systems and for legacy systems. It is intended to be an archval storage format. The HDF group also supplies free utilities such as HDFView and HDFCompass. HDF5 won a R&D 100 award in 2002.\n",
    "\n",
    "> From the HDF Group website: *HDF5 is a unique technology suite that makes possible the management of extremely large and complex data collections.*\n",
    "\n",
    "HDF5 is supported by most science/engineering tools including MATLAB and Mathmatica. It is supported by most modern languages including Fortran, C, C++, Python, Java, R and Julia. Some modern digital instruments can output their data directly in HDF5 format. (The IVI Foundation sets specifications for test instruments and supports HDF5.)\n",
    "\n",
    "Several scientific data storage projects have changed their backends to use HDF5. For example,\n",
    "starting with version 4.0, netCDF can store its data as HDF5. Other examples include MODFLOW GMS, NeXus, HDF-EOS, PFEL COADS, EUMETNET OPERA, LOFAR, H5MD, H5VC, and MATLAB (stores its own data internally in HDF5).\n",
    "\n",
    "HDF5 is fast and has no practical size limitation (a working group is already actively extending HDF5 to support an exabyte of data in a single HDF5 file).  HDF files that are created or modified by any supported hardware,\n",
    "operating system, or 32/64 bit architecture may be sent to any other user on any supported hardware/operating system/architecture. \n",
    "\n",
    "All data transformations due to bit order, data length, and data representation (particularly the different floating point representations) are transparent to the user. Each dataset in a single HDF5 file may have its own choice of compression method, compression level or no compression. HDF5 supports queries that allow only a subset of data to be extracted from one or more datasets - query extraction does not require bringing a large dataset into CPU memory.\n",
    "\n",
    "HDF5 has been shown to be faster than modern databases for scientific data access. It is freqently used  for large scientific data (petabyte) storage. HDF5 allows annotating data and groups (directories) with an arbitrary number of key,value strings. Complex data structures can\n",
    "be represented by building up structures using the primitive types.\n",
    "\n",
    "HDF5 supports multiple backends for attaching to the actual hardware/software. These backends allow RAM based files, tradition filesystem files, parallel cluster I/O, and files that span many disks and computers.\n",
    "\n",
    "Although HDF5 has supports writing new datasets at any time, queries, and appending to existing datasets, it is not a database. It does not currently support roll backs, automatic backup or replication, and does not create transaction files. (Some of these features are scheduled for the future.)  Unlike a database which must support reading and writing of data with balanced performance, HDF5 uses the assumption that a dataset is written once (or only a few times), but is read many times. So its performance is very fast for reading data, but slower for writing. (Although a new feature in HDF5 does allow for very rapid data writing.)\n",
    "\n",
    "HSP$^2$ uses  HDF5 to store all simulation information including run control, simulation configuration (like old UCI data), input timeseries (like old WDM files), simulation results, and associated documentation.\n",
    "\n",
    "HSP$^2$ utilities can import traditional HSPF UCI and WDM files from legacy watershed models into a HSP$^2$ HDF5 file. New watershed models will directly enter their data into HDF5 files. All simulation results specified by the user are saved to the HDF5 file. Analysis, reports and plots are generated post-run from the HDF5 using the Pandas Python library and othe tools."
   ]
  },
  {
   "cell_type": "markdown",
   "metadata": {
    "deletable": true,
    "editable": true,
    "slideshow": {
     "slide_type": "-"
    }
   },
   "source": [
    "### Using HDFView to show HSP$^\\textbf{2}$ data in an HDF5 file\n",
    "\n",
    "HDFView is a free HDF4 & HDF5 viewer maintained by the HDF Group. The following screen shot shows the organization of HSP2 data.\n",
    "The HSPF test10 example was used to convert the UCI and WDM data for HSP$^2$ and run and save the simulation results. HDFView can open any HDF4 or HDF5 file and explore its data and metadata. \n",
    "\n",
    "Note: The actual directory structure is configurable, so the example below is only representative.\n",
    "\n",
    "Note: The FTable 1 looks natural when viewed with HDFView. Scroll bars appear to view larger datasets."
   ]
  },
  {
   "cell_type": "markdown",
   "metadata": {
    "deletable": true,
    "editable": true,
    "slideshow": {
     "slide_type": "fragment"
    }
   },
   "source": [
    "<img src=\"Images/test10.png\" />"
   ]
  },
  {
   "cell_type": "markdown",
   "metadata": {
    "deletable": true,
    "editable": true,
    "slideshow": {
     "slide_type": "-"
    }
   },
   "source": [
    "## Section 5: Scientific Python in HSP$^\\textbf{2}$<a id='section5'></a>\n",
    "\n",
    "<img src=\"Images/scipy.png\" />\n",
    "\n",
    "The scientific community has created libraries for Python that provide MATLAB like capability.  Although Python is an interpreted language, most of its scientific libraries actual use compiled Fortran and C modules for speed. Python's popularity has created a large user base with active development in science, engineering, statistics, math, symbolic math, simulation, GIS, and data science libraries. The icons above are the highest level projects in the formal Scientific Python stack. There are many other useful modules available. HSP$^2$ also uses H5py, pytables, networkx, and the wdmtoolbox libraries.\n",
    "\n",
    "This formal [scientific stack](http://www.scipy.org/) includes\n",
    "\n",
    " + [NumPy](http://www.numpy.org/) (High performace vector and matrix library),\n",
    " \n",
    " + [SciPy](http://www.scipy.org/) (Scientific library including solvers, special functions, and statistics),\n",
    " \n",
    " + [Matplotlib](http://matplotlib.org/) (A MATLAB like 2D plotting library),\n",
    " \n",
    " + [Pandas](http://pandas.pydata.org/) (A data manipulation library - great for reports, timeseries aggregation/disaggregation),\n",
    " \n",
    " + [IPython](http://ipython.org/) (Especially for its great Jupyter Notebook used here),\n",
    " \n",
    " + [Sympy](http://www.sympy.org/en/index.html) (Symbolic math, but not yet used by HSP$^2$)\n",
    " \n",
    "There are many (usually domain specific) scientific and engineering) open source packages available.  Other projects used by HSP$^2$ include\n",
    "\n",
    " \n",
    " + [Numba](http://numba.pydata.org/) (A Python to machine language compiler for numpy expressions),\n",
    " \n",
    " + [Numexpr](https://github.com/pydata/numexpr/wiki) (Used internally by Pandas. It converts matrix and vector equation strings to efficient executable code),\n",
    " \n",
    " + [Pytables](http://pytables.github.io/) and [h5py](http://www.h5py.org/) (Used internally by Pandas to provide HDF5 libraries),\n",
    " \n",
    " + plotting libraries such as MPLD3, [Brokeh](http://bokeh.pydata.org/en/latest/), Vincent, Lighthing, Plotly\n",
    " \n",
    " + [Networkx](http://networkx.github.io/) (Algorithms for graph theory. Used for analyzing watersheds as directed acyclic graphs.),\n",
    " \n",
    " + [wdmtoolbox](http://timcera.bitbucket.org/) (Tim Cera's great tool to process WDM files).  Thanks Tim!!!\n",
    " \n",
    "HSP$^2$ is currently coded in Python 2.7. The standard Python distributions from Enthought (Canopy) and Continuum Analytics (Anaconda) are still based on Python 2.7. The scientific community is still converting many of the core scientific modules into Python 3.x.  When  these distributions are available in Python 3.x, HSP$^2$ will be converted to Python 3.x with little effort.\n",
    "\n",
    "DARPA has awarded XDATA grants to Python development groups (like Continuum Analytics) for tools to analyze very large data. DOE awarded a SBIR grant to Enthought to develop a  Python high performance computing (HPC) framework and to access Sandia's Trilinos solvers by Python. Both companies provide scientists and engineers with Python training. So this is a very active community of open source projects.  The new Moore and Sloan foundation Data Science initiative ($37.8 Million) will continue to extend the Jupyter Notebook and other critical Python (and non-Python) tools over the period of 2014-2019."
   ]
  },
  {
   "cell_type": "markdown",
   "metadata": {
    "deletable": true,
    "editable": true
   },
   "source": [
    "### The Jupyter Notebook\n",
    "\n",
    "The [Jupyter Notebook](https://jupyter.org) (originally started as the IPython Notebook) is designed to be an electronic laboratory notebook and a tool for collaborative science and engineering. These Tutorials and some of the HSP2 support tools use it. It is possible to display graphics, audio, video, equations and to run code interactively. The Jupyter Project is being created to be the language agnostic version of the IPython Notebook.\n",
    "\n",
    "All HSP$^2$ Tutorials are contained in **Jupyter Notebooks** in order to be interactive with the reader. Information about IPython Notebooks may be found in the following links:\n",
    "\n",
    " + Detailed documentation may be found here [Notebook Documentation](http://jupyter.readthedocs.io/en/latest/content-quickstart.html).\n",
    "\n",
    " + Examples of the display capability may be found here [Notebook Display](http://nbviewer.ipython.org/github/ipython/ipython/blob/master/examples/notebooks/Part%205%20-%20Rich%20Display%20System.ipynb)\n",
    "\n",
    " + the Help menu (to the right of the Kernel menu) provides help and a shortcut summary.\n",
    "\n",
    "The Alfred P. Slone Foundation, the Gordon and Betty Moore foundation,and the Helmsely Charitable Trust awarded grants to the IPython core development team *\"to focus on building the IPython Notebook into a tool for open, collaborative, reproducible scientific computing.\"*  Microsoft also made a grant to IPython for this continued development. IBM and Continuum Analytics have dedicated developers to support the Jupyter team.\n",
    "\n",
    "As a result, the Jupyter/IPython notebook is becoming a tool independent of the Python language. Collaboration between the IPython core team and the Julia language has resulted in IJulia to be the official Julia development environment. IHaskell, IRuby, IFsharp, rNotebook, and many other languages (over 40 languages currently) are supported.\n",
    "\n",
    "The Jupyter/IPython Notebooks have very rapidly become accepted by the academic, scientific, and engineer communities. There are over 200,000 Notebooks on Github. (Github recently added the capability to display Notebooks due to the demand.)  Here is a link\n",
    "to a group of hydrology Notebooks [Rainy Lake Hydrology](http://jckantor.github.io/Rainy-Lake-Hydrology) which demonstrates the capability of these Notebooks.\n",
    "\n",
    "**Example of Equation Display**\n",
    "\n",
    "Here is a routing equation from the HSPF documentation of the PERLND PWATER module (eqn. 11) to show the equation capability. Left Click the mouse on the equation to enlarge it. If it does not enlarge, put the mouse over the equation and right click to display a MathJax menu. Select Math Settings -> Zoom Trigger -> Click.\n",
    "\n",
    "$$ \\text{INTGRL} = \\int_{\\text{UZRAT}_{t_1}}^{\\text{UZRAT}_{t_2}} {d(\\text{UZRAT})\\over \\text{FRAC}} = \\frac{\\text{PERO}} {\\text{UZSN}}(t_2 - t_1) $$\n",
    "\n",
    "The Jupyter Notebook can create presentation slide shows (based on revel.js) and can be converted to $\\LaTeX$, PDF, HTML, and other forms."
   ]
  },
  {
   "cell_type": "markdown",
   "metadata": {
    "deletable": true,
    "editable": true,
    "slideshow": {
     "slide_type": "skip"
    }
   },
   "source": [
    "#### How to run interactive code <a id='help'></a>\n",
    "\n",
    "Tutorial 2 has links to explain how to use the Jupyter(IPython) Notebook. For now, if you are not familiar with the Jupyter Notebook, find the Notebook's toolbar above. Although the Jupyter Notebook is rapidly evolving, it looks generally like this:\n",
    "\n",
    "<img src=\"Images/toolbar.png\" />\n",
    "\n",
    "Notice the right arrow in the toolbar. It looks like\n",
    "\n",
    "<img src=\"Images/arrow.png\" />\n",
    "\n",
    "When you see a \"cell\" with the label \"In []\" on the left, enter the cell by right clicking anywhere in the cell. You then need to execute it by left clicking on the right arrow or use the \"Shift-Enter\" keyboard shortcut.  \n",
    "\n",
    "The icon that looks like a plus sign, +, will add a new cell just below the current cell.  You should add cells as you work through the Notebook to try out what you have learned\n",
    "\n",
    "**NOTE:**\n",
    "Key shortcuts are available to avoid having to click on the GUI buttons.\n",
    "\n",
    "**NOTE**\n",
    "The Jupyter Notebook is actually a text file using the JSON format. Thus it is easy to put under version control.\n",
    "Notebooks created for running simulations or data processing/cleanup may be automatically saved in the projects HDF5 file. "
   ]
  },
  {
   "cell_type": "markdown",
   "metadata": {
    "deletable": true,
    "editable": true
   },
   "source": [
    "## Section 6: Current Limitations of HSP$^2$  <a id='section6'></a>   \n",
    "    \n",
    "Release, 0.7.5, of HSP$^2$ implements the basic HSPF hydrology modules. Specifically, it implements HPERAIR, HPERSNO, HPERWAT, HIMPWAT, and HRCHDYD modules from HSPF.\n",
    "\n",
    "+ PWATER implements the high water table algorithms, but this hasn't been tested   - so it is currently commented out until it can be tested.\n",
    "+ PWATER does not impliment some irregation specific code like crop root depth. This is expected soon\n",
    "+ HYDR currently does not implement water categories, but this is expected soon.\n",
    "\n",
    "HSP$^2$ currently runs under Python 2.7 and Python 3.5 (with a few warnings which will be fixed in the near future.) The primary development environment is for Windows, but some version have been tested successfully in Linux. It is designed to be operating system agnostic, but needs further testing on platforms other than Windows.\n",
    "\n",
    "####  ROADMAP (future releases)\n",
    "\n",
    "Release 0.8 targets the completion of the RCHRES sediment and water quality modules.\n",
    "\n",
    "Release 0.9 targets any remaining HSPF functionality. (PERLND agri-chemical modules for example.) HSP2 should be feature complete at this release.\n",
    "\n",
    "Performance improvements are made when improvements to Numba and Python are made.\n",
    "\n",
    "\n",
    "\n",
    "## Tutorial Summary<a id='summary'></a>\n",
    "\n",
    "Tutorial 1 has discussed \n",
    "+ the rationale for HSP$^2$,\n",
    "+ the conceptual design for HSP$^2$,\n",
    "+ the high level features of HSP$^2$,\n",
    "+ the rationale for the use of HDF5 to replace WDM and other files,\n",
    "+ the Scientific Python Environment used in HSP$^2$,\n",
    "+ the Current Limitations of HSP$^2$\n",
    " \n",
    "**You are ready for Tutorial 2.**"
   ]
  },
  {
   "cell_type": "markdown",
   "metadata": {
    "deletable": true,
    "editable": true
   },
   "source": [
    "### Software Library Versions"
   ]
  },
  {
   "cell_type": "code",
   "execution_count": null,
   "metadata": {
    "collapsed": false,
    "deletable": true,
    "editable": true
   },
   "outputs": [],
   "source": [
    "import os\n",
    "import site\n",
    "site.addsitedir(os.getcwd().rsplit('\\\\',1)[0] + '\\\\')  # adds your path to the HSP2 software.\n",
    "\n",
    "import HSP2tools\n",
    "HSP2tools.versions()"
   ]
  },
  {
   "cell_type": "code",
   "execution_count": null,
   "metadata": {
    "collapsed": true,
    "deletable": true,
    "editable": true
   },
   "outputs": [],
   "source": []
  }
 ],
 "metadata": {
  "kernelspec": {
   "display_name": "Python 2",
   "language": "python",
   "name": "python2"
  },
  "language_info": {
   "codemirror_mode": {
    "name": "ipython",
    "version": 2
   },
   "file_extension": ".py",
   "mimetype": "text/x-python",
   "name": "python",
   "nbconvert_exporter": "python",
   "pygments_lexer": "ipython2",
   "version": "2.7.13"
  }
 },
 "nbformat": 4,
 "nbformat_minor": 0
}
